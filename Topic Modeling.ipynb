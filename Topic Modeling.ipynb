{
 "cells": [
  {
   "cell_type": "code",
   "execution_count": 1,
   "id": "8e1cc95b",
   "metadata": {
    "_cell_guid": "b1076dfc-b9ad-4769-8c92-a6c4dae69d19",
    "_uuid": "8f2839f25d086af736a60e9eeb907d3b93b6e0e5",
    "execution": {
     "iopub.execute_input": "2025-08-25T05:42:10.873749Z",
     "iopub.status.busy": "2025-08-25T05:42:10.873437Z",
     "iopub.status.idle": "2025-08-25T05:42:12.878365Z",
     "shell.execute_reply": "2025-08-25T05:42:12.877247Z"
    },
    "papermill": {
     "duration": 2.012846,
     "end_time": "2025-08-25T05:42:12.879914",
     "exception": false,
     "start_time": "2025-08-25T05:42:10.867068",
     "status": "completed"
    },
    "tags": []
   },
   "outputs": [
    {
     "name": "stdout",
     "output_type": "stream",
     "text": [
      "/kaggle/input/bbc-news/bbc_news.csv\n"
     ]
    }
   ],
   "source": [
    "# This Python 3 environment comes with many helpful analytics libraries installed\n",
    "# It is defined by the kaggle/python Docker image: https://github.com/kaggle/docker-python\n",
    "# For example, here's several helpful packages to load\n",
    "\n",
    "import numpy as np # linear algebra\n",
    "import pandas as pd # data processing, CSV file I/O (e.g. pd.read_csv)\n",
    "\n",
    "# Input data files are available in the read-only \"../input/\" directory\n",
    "# For example, running this (by clicking run or pressing Shift+Enter) will list all files under the input directory\n",
    "\n",
    "import os\n",
    "for dirname, _, filenames in os.walk('/kaggle/input'):\n",
    "    for filename in filenames:\n",
    "        print(os.path.join(dirname, filename))\n",
    "\n",
    "# You can write up to 20GB to the current directory (/kaggle/working/) that gets preserved as output when you create a version using \"Save & Run All\" \n",
    "# You can also write temporary files to /kaggle/temp/, but they won't be saved outside of the current session"
   ]
  },
  {
   "cell_type": "code",
   "execution_count": 2,
   "id": "9a809833",
   "metadata": {
    "execution": {
     "iopub.execute_input": "2025-08-25T05:42:12.890627Z",
     "iopub.status.busy": "2025-08-25T05:42:12.890226Z",
     "iopub.status.idle": "2025-08-25T05:42:13.372814Z",
     "shell.execute_reply": "2025-08-25T05:42:13.371851Z"
    },
    "papermill": {
     "duration": 0.489877,
     "end_time": "2025-08-25T05:42:13.374579",
     "exception": false,
     "start_time": "2025-08-25T05:42:12.884702",
     "status": "completed"
    },
    "tags": []
   },
   "outputs": [
    {
     "data": {
      "text/html": [
       "<div>\n",
       "<style scoped>\n",
       "    .dataframe tbody tr th:only-of-type {\n",
       "        vertical-align: middle;\n",
       "    }\n",
       "\n",
       "    .dataframe tbody tr th {\n",
       "        vertical-align: top;\n",
       "    }\n",
       "\n",
       "    .dataframe thead th {\n",
       "        text-align: right;\n",
       "    }\n",
       "</style>\n",
       "<table border=\"1\" class=\"dataframe\">\n",
       "  <thead>\n",
       "    <tr style=\"text-align: right;\">\n",
       "      <th></th>\n",
       "      <th>title</th>\n",
       "      <th>pubDate</th>\n",
       "      <th>guid</th>\n",
       "      <th>link</th>\n",
       "      <th>description</th>\n",
       "    </tr>\n",
       "  </thead>\n",
       "  <tbody>\n",
       "    <tr>\n",
       "      <th>0</th>\n",
       "      <td>Ukraine: Angry Zelensky vows to punish Russian...</td>\n",
       "      <td>Mon, 07 Mar 2022 08:01:56 GMT</td>\n",
       "      <td>https://www.bbc.co.uk/news/world-europe-60638042</td>\n",
       "      <td>https://www.bbc.co.uk/news/world-europe-606380...</td>\n",
       "      <td>The Ukrainian president says the country will ...</td>\n",
       "    </tr>\n",
       "    <tr>\n",
       "      <th>1</th>\n",
       "      <td>War in Ukraine: Taking cover in a town under a...</td>\n",
       "      <td>Sun, 06 Mar 2022 22:49:58 GMT</td>\n",
       "      <td>https://www.bbc.co.uk/news/world-europe-60641873</td>\n",
       "      <td>https://www.bbc.co.uk/news/world-europe-606418...</td>\n",
       "      <td>Jeremy Bowen was on the frontline in Irpin, as...</td>\n",
       "    </tr>\n",
       "    <tr>\n",
       "      <th>2</th>\n",
       "      <td>Ukraine war 'catastrophic for global food'</td>\n",
       "      <td>Mon, 07 Mar 2022 00:14:42 GMT</td>\n",
       "      <td>https://www.bbc.co.uk/news/business-60623941</td>\n",
       "      <td>https://www.bbc.co.uk/news/business-60623941?a...</td>\n",
       "      <td>One of the world's biggest fertiliser firms sa...</td>\n",
       "    </tr>\n",
       "    <tr>\n",
       "      <th>3</th>\n",
       "      <td>Manchester Arena bombing: Saffie Roussos's par...</td>\n",
       "      <td>Mon, 07 Mar 2022 00:05:40 GMT</td>\n",
       "      <td>https://www.bbc.co.uk/news/uk-60579079</td>\n",
       "      <td>https://www.bbc.co.uk/news/uk-60579079?at_medi...</td>\n",
       "      <td>The parents of the Manchester Arena bombing's ...</td>\n",
       "    </tr>\n",
       "    <tr>\n",
       "      <th>4</th>\n",
       "      <td>Ukraine conflict: Oil price soars to highest l...</td>\n",
       "      <td>Mon, 07 Mar 2022 08:15:53 GMT</td>\n",
       "      <td>https://www.bbc.co.uk/news/business-60642786</td>\n",
       "      <td>https://www.bbc.co.uk/news/business-60642786?a...</td>\n",
       "      <td>Consumers are feeling the impact of higher ene...</td>\n",
       "    </tr>\n",
       "  </tbody>\n",
       "</table>\n",
       "</div>"
      ],
      "text/plain": [
       "                                               title  \\\n",
       "0  Ukraine: Angry Zelensky vows to punish Russian...   \n",
       "1  War in Ukraine: Taking cover in a town under a...   \n",
       "2         Ukraine war 'catastrophic for global food'   \n",
       "3  Manchester Arena bombing: Saffie Roussos's par...   \n",
       "4  Ukraine conflict: Oil price soars to highest l...   \n",
       "\n",
       "                         pubDate  \\\n",
       "0  Mon, 07 Mar 2022 08:01:56 GMT   \n",
       "1  Sun, 06 Mar 2022 22:49:58 GMT   \n",
       "2  Mon, 07 Mar 2022 00:14:42 GMT   \n",
       "3  Mon, 07 Mar 2022 00:05:40 GMT   \n",
       "4  Mon, 07 Mar 2022 08:15:53 GMT   \n",
       "\n",
       "                                               guid  \\\n",
       "0  https://www.bbc.co.uk/news/world-europe-60638042   \n",
       "1  https://www.bbc.co.uk/news/world-europe-60641873   \n",
       "2      https://www.bbc.co.uk/news/business-60623941   \n",
       "3            https://www.bbc.co.uk/news/uk-60579079   \n",
       "4      https://www.bbc.co.uk/news/business-60642786   \n",
       "\n",
       "                                                link  \\\n",
       "0  https://www.bbc.co.uk/news/world-europe-606380...   \n",
       "1  https://www.bbc.co.uk/news/world-europe-606418...   \n",
       "2  https://www.bbc.co.uk/news/business-60623941?a...   \n",
       "3  https://www.bbc.co.uk/news/uk-60579079?at_medi...   \n",
       "4  https://www.bbc.co.uk/news/business-60642786?a...   \n",
       "\n",
       "                                         description  \n",
       "0  The Ukrainian president says the country will ...  \n",
       "1  Jeremy Bowen was on the frontline in Irpin, as...  \n",
       "2  One of the world's biggest fertiliser firms sa...  \n",
       "3  The parents of the Manchester Arena bombing's ...  \n",
       "4  Consumers are feeling the impact of higher ene...  "
      ]
     },
     "execution_count": 2,
     "metadata": {},
     "output_type": "execute_result"
    }
   ],
   "source": [
    "df = pd.read_csv(\"/kaggle/input/bbc-news/bbc_news.csv\")\n",
    "df.head()"
   ]
  },
  {
   "cell_type": "code",
   "execution_count": 3,
   "id": "95467f8a",
   "metadata": {
    "execution": {
     "iopub.execute_input": "2025-08-25T05:42:13.386033Z",
     "iopub.status.busy": "2025-08-25T05:42:13.385304Z",
     "iopub.status.idle": "2025-08-25T05:42:13.391142Z",
     "shell.execute_reply": "2025-08-25T05:42:13.390179Z"
    },
    "papermill": {
     "duration": 0.013006,
     "end_time": "2025-08-25T05:42:13.392456",
     "exception": false,
     "start_time": "2025-08-25T05:42:13.379450",
     "status": "completed"
    },
    "tags": []
   },
   "outputs": [
    {
     "data": {
      "text/plain": [
       "(42115, 5)"
      ]
     },
     "execution_count": 3,
     "metadata": {},
     "output_type": "execute_result"
    }
   ],
   "source": [
    "#EDA\n",
    "df.shape"
   ]
  },
  {
   "cell_type": "code",
   "execution_count": 4,
   "id": "80cc0510",
   "metadata": {
    "execution": {
     "iopub.execute_input": "2025-08-25T05:42:13.403478Z",
     "iopub.status.busy": "2025-08-25T05:42:13.402628Z",
     "iopub.status.idle": "2025-08-25T05:42:13.447636Z",
     "shell.execute_reply": "2025-08-25T05:42:13.446621Z"
    },
    "papermill": {
     "duration": 0.051882,
     "end_time": "2025-08-25T05:42:13.449151",
     "exception": false,
     "start_time": "2025-08-25T05:42:13.397269",
     "status": "completed"
    },
    "tags": []
   },
   "outputs": [
    {
     "name": "stdout",
     "output_type": "stream",
     "text": [
      "<class 'pandas.core.frame.DataFrame'>\n",
      "RangeIndex: 42115 entries, 0 to 42114\n",
      "Data columns (total 5 columns):\n",
      " #   Column       Non-Null Count  Dtype \n",
      "---  ------       --------------  ----- \n",
      " 0   title        42115 non-null  object\n",
      " 1   pubDate      42115 non-null  object\n",
      " 2   guid         42115 non-null  object\n",
      " 3   link         42115 non-null  object\n",
      " 4   description  42115 non-null  object\n",
      "dtypes: object(5)\n",
      "memory usage: 1.6+ MB\n"
     ]
    }
   ],
   "source": [
    "df.info()"
   ]
  },
  {
   "cell_type": "code",
   "execution_count": 5,
   "id": "a1783e01",
   "metadata": {
    "execution": {
     "iopub.execute_input": "2025-08-25T05:42:13.459692Z",
     "iopub.status.busy": "2025-08-25T05:42:13.459403Z",
     "iopub.status.idle": "2025-08-25T05:42:13.480545Z",
     "shell.execute_reply": "2025-08-25T05:42:13.479625Z"
    },
    "papermill": {
     "duration": 0.028418,
     "end_time": "2025-08-25T05:42:13.482250",
     "exception": false,
     "start_time": "2025-08-25T05:42:13.453832",
     "status": "completed"
    },
    "tags": []
   },
   "outputs": [
    {
     "data": {
      "text/plain": [
       "title          0\n",
       "pubDate        0\n",
       "guid           0\n",
       "link           0\n",
       "description    0\n",
       "dtype: int64"
      ]
     },
     "execution_count": 5,
     "metadata": {},
     "output_type": "execute_result"
    }
   ],
   "source": [
    "df.isnull().sum()"
   ]
  },
  {
   "cell_type": "code",
   "execution_count": 6,
   "id": "44638a1e",
   "metadata": {
    "execution": {
     "iopub.execute_input": "2025-08-25T05:42:13.493623Z",
     "iopub.status.busy": "2025-08-25T05:42:13.492762Z",
     "iopub.status.idle": "2025-08-25T05:42:13.566999Z",
     "shell.execute_reply": "2025-08-25T05:42:13.566012Z"
    },
    "papermill": {
     "duration": 0.081732,
     "end_time": "2025-08-25T05:42:13.568750",
     "exception": false,
     "start_time": "2025-08-25T05:42:13.487018",
     "status": "completed"
    },
    "tags": []
   },
   "outputs": [
    {
     "data": {
      "text/plain": [
       "0"
      ]
     },
     "execution_count": 6,
     "metadata": {},
     "output_type": "execute_result"
    }
   ],
   "source": [
    "df.duplicated().sum()"
   ]
  },
  {
   "cell_type": "code",
   "execution_count": 7,
   "id": "699d007a",
   "metadata": {
    "execution": {
     "iopub.execute_input": "2025-08-25T05:42:13.579817Z",
     "iopub.status.busy": "2025-08-25T05:42:13.579521Z",
     "iopub.status.idle": "2025-08-25T05:42:13.592586Z",
     "shell.execute_reply": "2025-08-25T05:42:13.591637Z"
    },
    "papermill": {
     "duration": 0.020359,
     "end_time": "2025-08-25T05:42:13.594153",
     "exception": false,
     "start_time": "2025-08-25T05:42:13.573794",
     "status": "completed"
    },
    "tags": []
   },
   "outputs": [
    {
     "data": {
      "text/html": [
       "<div>\n",
       "<style scoped>\n",
       "    .dataframe tbody tr th:only-of-type {\n",
       "        vertical-align: middle;\n",
       "    }\n",
       "\n",
       "    .dataframe tbody tr th {\n",
       "        vertical-align: top;\n",
       "    }\n",
       "\n",
       "    .dataframe thead th {\n",
       "        text-align: right;\n",
       "    }\n",
       "</style>\n",
       "<table border=\"1\" class=\"dataframe\">\n",
       "  <thead>\n",
       "    <tr style=\"text-align: right;\">\n",
       "      <th></th>\n",
       "      <th>title</th>\n",
       "      <th>pubDate</th>\n",
       "      <th>guid</th>\n",
       "      <th>link</th>\n",
       "      <th>description</th>\n",
       "    </tr>\n",
       "  </thead>\n",
       "  <tbody>\n",
       "    <tr>\n",
       "      <th>29211</th>\n",
       "      <td>Abdul Ezedi: Thames search for Clapham attack ...</td>\n",
       "      <td>Sat, 10 Feb 2024 15:09:18 GMT</td>\n",
       "      <td>https://www.bbc.co.uk/news/uk-68260335</td>\n",
       "      <td>https://www.bbc.co.uk/news/uk-68260335?at_medi...</td>\n",
       "      <td>Detectives believe Abdul Shokoor Ezedi may hav...</td>\n",
       "    </tr>\n",
       "    <tr>\n",
       "      <th>37826</th>\n",
       "      <td>Presenter Woods received death threats after O...</td>\n",
       "      <td>Thu, 15 Aug 2024 16:05:14 GMT</td>\n",
       "      <td>https://www.bbc.com/sport/olympics/articles/c5...</td>\n",
       "      <td>https://www.bbc.com/sport/olympics/articles/c5...</td>\n",
       "      <td>Laura Woods says she received \"numerous death ...</td>\n",
       "    </tr>\n",
       "    <tr>\n",
       "      <th>8725</th>\n",
       "      <td>Calais migrants: Smugglers cause fresh problem...</td>\n",
       "      <td>Tue, 04 Oct 2022 05:00:05 GMT</td>\n",
       "      <td>https://www.bbc.co.uk/news/world-europe-63119180</td>\n",
       "      <td>https://www.bbc.co.uk/news/world-europe-631191...</td>\n",
       "      <td>New Calais smuggling networks are making it ev...</td>\n",
       "    </tr>\n",
       "    <tr>\n",
       "      <th>39442</th>\n",
       "      <td>Men and women starting salaries equal from 2025</td>\n",
       "      <td>Tue, 24 Sep 2024 21:31:24 GMT</td>\n",
       "      <td>https://www.bbc.com/sport/cricket/articles/c0l...</td>\n",
       "      <td>https://www.bbc.com/sport/cricket/articles/c0l...</td>\n",
       "      <td>Minimum starting salaries will be equal for me...</td>\n",
       "    </tr>\n",
       "  </tbody>\n",
       "</table>\n",
       "</div>"
      ],
      "text/plain": [
       "                                                   title  \\\n",
       "29211  Abdul Ezedi: Thames search for Clapham attack ...   \n",
       "37826  Presenter Woods received death threats after O...   \n",
       "8725   Calais migrants: Smugglers cause fresh problem...   \n",
       "39442    Men and women starting salaries equal from 2025   \n",
       "\n",
       "                             pubDate  \\\n",
       "29211  Sat, 10 Feb 2024 15:09:18 GMT   \n",
       "37826  Thu, 15 Aug 2024 16:05:14 GMT   \n",
       "8725   Tue, 04 Oct 2022 05:00:05 GMT   \n",
       "39442  Tue, 24 Sep 2024 21:31:24 GMT   \n",
       "\n",
       "                                                    guid  \\\n",
       "29211             https://www.bbc.co.uk/news/uk-68260335   \n",
       "37826  https://www.bbc.com/sport/olympics/articles/c5...   \n",
       "8725    https://www.bbc.co.uk/news/world-europe-63119180   \n",
       "39442  https://www.bbc.com/sport/cricket/articles/c0l...   \n",
       "\n",
       "                                                    link  \\\n",
       "29211  https://www.bbc.co.uk/news/uk-68260335?at_medi...   \n",
       "37826  https://www.bbc.com/sport/olympics/articles/c5...   \n",
       "8725   https://www.bbc.co.uk/news/world-europe-631191...   \n",
       "39442  https://www.bbc.com/sport/cricket/articles/c0l...   \n",
       "\n",
       "                                             description  \n",
       "29211  Detectives believe Abdul Shokoor Ezedi may hav...  \n",
       "37826  Laura Woods says she received \"numerous death ...  \n",
       "8725   New Calais smuggling networks are making it ev...  \n",
       "39442  Minimum starting salaries will be equal for me...  "
      ]
     },
     "execution_count": 7,
     "metadata": {},
     "output_type": "execute_result"
    }
   ],
   "source": [
    "df.sample(4)\n"
   ]
  },
  {
   "cell_type": "code",
   "execution_count": 8,
   "id": "fc4d2da0",
   "metadata": {
    "execution": {
     "iopub.execute_input": "2025-08-25T05:42:13.606278Z",
     "iopub.status.busy": "2025-08-25T05:42:13.605950Z",
     "iopub.status.idle": "2025-08-25T05:42:13.617212Z",
     "shell.execute_reply": "2025-08-25T05:42:13.616192Z"
    },
    "papermill": {
     "duration": 0.018748,
     "end_time": "2025-08-25T05:42:13.618885",
     "exception": false,
     "start_time": "2025-08-25T05:42:13.600137",
     "status": "completed"
    },
    "tags": []
   },
   "outputs": [
    {
     "data": {
      "text/html": [
       "<div>\n",
       "<style scoped>\n",
       "    .dataframe tbody tr th:only-of-type {\n",
       "        vertical-align: middle;\n",
       "    }\n",
       "\n",
       "    .dataframe tbody tr th {\n",
       "        vertical-align: top;\n",
       "    }\n",
       "\n",
       "    .dataframe thead th {\n",
       "        text-align: right;\n",
       "    }\n",
       "</style>\n",
       "<table border=\"1\" class=\"dataframe\">\n",
       "  <thead>\n",
       "    <tr style=\"text-align: right;\">\n",
       "      <th></th>\n",
       "      <th>title</th>\n",
       "      <th>description</th>\n",
       "    </tr>\n",
       "  </thead>\n",
       "  <tbody>\n",
       "    <tr>\n",
       "      <th>0</th>\n",
       "      <td>Ukraine: Angry Zelensky vows to punish Russian...</td>\n",
       "      <td>The Ukrainian president says the country will ...</td>\n",
       "    </tr>\n",
       "    <tr>\n",
       "      <th>1</th>\n",
       "      <td>War in Ukraine: Taking cover in a town under a...</td>\n",
       "      <td>Jeremy Bowen was on the frontline in Irpin, as...</td>\n",
       "    </tr>\n",
       "    <tr>\n",
       "      <th>2</th>\n",
       "      <td>Ukraine war 'catastrophic for global food'</td>\n",
       "      <td>One of the world's biggest fertiliser firms sa...</td>\n",
       "    </tr>\n",
       "    <tr>\n",
       "      <th>3</th>\n",
       "      <td>Manchester Arena bombing: Saffie Roussos's par...</td>\n",
       "      <td>The parents of the Manchester Arena bombing's ...</td>\n",
       "    </tr>\n",
       "    <tr>\n",
       "      <th>4</th>\n",
       "      <td>Ukraine conflict: Oil price soars to highest l...</td>\n",
       "      <td>Consumers are feeling the impact of higher ene...</td>\n",
       "    </tr>\n",
       "  </tbody>\n",
       "</table>\n",
       "</div>"
      ],
      "text/plain": [
       "                                               title  \\\n",
       "0  Ukraine: Angry Zelensky vows to punish Russian...   \n",
       "1  War in Ukraine: Taking cover in a town under a...   \n",
       "2         Ukraine war 'catastrophic for global food'   \n",
       "3  Manchester Arena bombing: Saffie Roussos's par...   \n",
       "4  Ukraine conflict: Oil price soars to highest l...   \n",
       "\n",
       "                                         description  \n",
       "0  The Ukrainian president says the country will ...  \n",
       "1  Jeremy Bowen was on the frontline in Irpin, as...  \n",
       "2  One of the world's biggest fertiliser firms sa...  \n",
       "3  The parents of the Manchester Arena bombing's ...  \n",
       "4  Consumers are feeling the impact of higher ene...  "
      ]
     },
     "execution_count": 8,
     "metadata": {},
     "output_type": "execute_result"
    }
   ],
   "source": [
    "# since we are doing topic modeling we dont need pubDate, guid and link \n",
    "df = df[['title','description']]\n",
    "df.head()"
   ]
  },
  {
   "cell_type": "code",
   "execution_count": 9,
   "id": "721351ba",
   "metadata": {
    "execution": {
     "iopub.execute_input": "2025-08-25T05:42:13.631181Z",
     "iopub.status.busy": "2025-08-25T05:42:13.630806Z",
     "iopub.status.idle": "2025-08-25T05:42:13.666721Z",
     "shell.execute_reply": "2025-08-25T05:42:13.665973Z"
    },
    "papermill": {
     "duration": 0.043683,
     "end_time": "2025-08-25T05:42:13.668305",
     "exception": false,
     "start_time": "2025-08-25T05:42:13.624622",
     "status": "completed"
    },
    "tags": []
   },
   "outputs": [
    {
     "data": {
      "text/html": [
       "<div>\n",
       "<style scoped>\n",
       "    .dataframe tbody tr th:only-of-type {\n",
       "        vertical-align: middle;\n",
       "    }\n",
       "\n",
       "    .dataframe tbody tr th {\n",
       "        vertical-align: top;\n",
       "    }\n",
       "\n",
       "    .dataframe thead th {\n",
       "        text-align: right;\n",
       "    }\n",
       "</style>\n",
       "<table border=\"1\" class=\"dataframe\">\n",
       "  <thead>\n",
       "    <tr style=\"text-align: right;\">\n",
       "      <th></th>\n",
       "      <th>text</th>\n",
       "    </tr>\n",
       "  </thead>\n",
       "  <tbody>\n",
       "    <tr>\n",
       "      <th>0</th>\n",
       "      <td>Ukraine: Angry Zelensky vows to punish Russian...</td>\n",
       "    </tr>\n",
       "    <tr>\n",
       "      <th>1</th>\n",
       "      <td>War in Ukraine: Taking cover in a town under a...</td>\n",
       "    </tr>\n",
       "    <tr>\n",
       "      <th>2</th>\n",
       "      <td>Ukraine war 'catastrophic for global food' One...</td>\n",
       "    </tr>\n",
       "    <tr>\n",
       "      <th>3</th>\n",
       "      <td>Manchester Arena bombing: Saffie Roussos's par...</td>\n",
       "    </tr>\n",
       "    <tr>\n",
       "      <th>4</th>\n",
       "      <td>Ukraine conflict: Oil price soars to highest l...</td>\n",
       "    </tr>\n",
       "  </tbody>\n",
       "</table>\n",
       "</div>"
      ],
      "text/plain": [
       "                                                text\n",
       "0  Ukraine: Angry Zelensky vows to punish Russian...\n",
       "1  War in Ukraine: Taking cover in a town under a...\n",
       "2  Ukraine war 'catastrophic for global food' One...\n",
       "3  Manchester Arena bombing: Saffie Roussos's par...\n",
       "4  Ukraine conflict: Oil price soars to highest l..."
      ]
     },
     "execution_count": 9,
     "metadata": {},
     "output_type": "execute_result"
    }
   ],
   "source": [
    "#Combining these two columns\n",
    "df['text'] = df['title'].astype(str) + \" \" + df['description'].astype(str)\n",
    "df = df[['text']]   \n",
    "df.head()\n",
    "\n"
   ]
  },
  {
   "cell_type": "code",
   "execution_count": 10,
   "id": "e9edc782",
   "metadata": {
    "execution": {
     "iopub.execute_input": "2025-08-25T05:42:13.679883Z",
     "iopub.status.busy": "2025-08-25T05:42:13.679481Z",
     "iopub.status.idle": "2025-08-25T05:42:27.754284Z",
     "shell.execute_reply": "2025-08-25T05:42:27.753241Z"
    },
    "papermill": {
     "duration": 14.082554,
     "end_time": "2025-08-25T05:42:27.756109",
     "exception": false,
     "start_time": "2025-08-25T05:42:13.673555",
     "status": "completed"
    },
    "tags": []
   },
   "outputs": [],
   "source": [
    "#Preprocessing\n",
    "import nltk\n",
    "import spacy\n",
    "import re\n",
    "from nltk.corpus import stopwords\n"
   ]
  },
  {
   "cell_type": "code",
   "execution_count": 11,
   "id": "b4b99080",
   "metadata": {
    "execution": {
     "iopub.execute_input": "2025-08-25T05:42:27.768732Z",
     "iopub.status.busy": "2025-08-25T05:42:27.768215Z",
     "iopub.status.idle": "2025-08-25T05:42:28.699843Z",
     "shell.execute_reply": "2025-08-25T05:42:28.698757Z"
    },
    "papermill": {
     "duration": 0.939922,
     "end_time": "2025-08-25T05:42:28.701714",
     "exception": false,
     "start_time": "2025-08-25T05:42:27.761792",
     "status": "completed"
    },
    "tags": []
   },
   "outputs": [],
   "source": [
    "import en_core_web_sm\n",
    "\n",
    "stop_words = set(stopwords.words('english'))\n",
    "nlp = en_core_web_sm.load()"
   ]
  },
  {
   "cell_type": "code",
   "execution_count": 12,
   "id": "78548bb4",
   "metadata": {
    "execution": {
     "iopub.execute_input": "2025-08-25T05:42:28.713751Z",
     "iopub.status.busy": "2025-08-25T05:42:28.713422Z",
     "iopub.status.idle": "2025-08-25T05:42:28.719010Z",
     "shell.execute_reply": "2025-08-25T05:42:28.717926Z"
    },
    "papermill": {
     "duration": 0.013485,
     "end_time": "2025-08-25T05:42:28.720619",
     "exception": false,
     "start_time": "2025-08-25T05:42:28.707134",
     "status": "completed"
    },
    "tags": []
   },
   "outputs": [],
   "source": [
    "def preprocess(text):\n",
    "    text = text.lower()\n",
    "    text = re.sub(r'[^a-zA-Z\\s]', '', text)\n",
    "    doc = nlp(text)\n",
    "    tokens = [token.lemma_ for token in doc \n",
    "              if token.lemma_ not in stop_words and len(token) > 2]\n",
    "    \n",
    "    return tokens"
   ]
  },
  {
   "cell_type": "code",
   "execution_count": 13,
   "id": "0656a45d",
   "metadata": {
    "execution": {
     "iopub.execute_input": "2025-08-25T05:42:28.732568Z",
     "iopub.status.busy": "2025-08-25T05:42:28.732255Z",
     "iopub.status.idle": "2025-08-25T05:49:32.381636Z",
     "shell.execute_reply": "2025-08-25T05:49:32.380786Z"
    },
    "papermill": {
     "duration": 423.657405,
     "end_time": "2025-08-25T05:49:32.383379",
     "exception": false,
     "start_time": "2025-08-25T05:42:28.725974",
     "status": "completed"
    },
    "tags": []
   },
   "outputs": [],
   "source": [
    "df['tokens'] = df['text'].apply(preprocess)\n"
   ]
  },
  {
   "cell_type": "code",
   "execution_count": 14,
   "id": "af058719",
   "metadata": {
    "execution": {
     "iopub.execute_input": "2025-08-25T05:49:32.395979Z",
     "iopub.status.busy": "2025-08-25T05:49:32.395661Z",
     "iopub.status.idle": "2025-08-25T05:49:32.413013Z",
     "shell.execute_reply": "2025-08-25T05:49:32.412163Z"
    },
    "papermill": {
     "duration": 0.024787,
     "end_time": "2025-08-25T05:49:32.414320",
     "exception": false,
     "start_time": "2025-08-25T05:49:32.389533",
     "status": "completed"
    },
    "tags": []
   },
   "outputs": [
    {
     "data": {
      "text/html": [
       "<div>\n",
       "<style scoped>\n",
       "    .dataframe tbody tr th:only-of-type {\n",
       "        vertical-align: middle;\n",
       "    }\n",
       "\n",
       "    .dataframe tbody tr th {\n",
       "        vertical-align: top;\n",
       "    }\n",
       "\n",
       "    .dataframe thead th {\n",
       "        text-align: right;\n",
       "    }\n",
       "</style>\n",
       "<table border=\"1\" class=\"dataframe\">\n",
       "  <thead>\n",
       "    <tr style=\"text-align: right;\">\n",
       "      <th></th>\n",
       "      <th>text</th>\n",
       "      <th>tokens</th>\n",
       "    </tr>\n",
       "  </thead>\n",
       "  <tbody>\n",
       "    <tr>\n",
       "      <th>0</th>\n",
       "      <td>Ukraine: Angry Zelensky vows to punish Russian...</td>\n",
       "      <td>[ukraine, angry, zelensky, vow, punish, russia...</td>\n",
       "    </tr>\n",
       "    <tr>\n",
       "      <th>1</th>\n",
       "      <td>War in Ukraine: Taking cover in a town under a...</td>\n",
       "      <td>[war, ukraine, take, cover, town, attack, jere...</td>\n",
       "    </tr>\n",
       "    <tr>\n",
       "      <th>2</th>\n",
       "      <td>Ukraine war 'catastrophic for global food' One...</td>\n",
       "      <td>[ukraine, war, catastrophic, global, food, one...</td>\n",
       "    </tr>\n",
       "    <tr>\n",
       "      <th>3</th>\n",
       "      <td>Manchester Arena bombing: Saffie Roussos's par...</td>\n",
       "      <td>[manchester, arena, bombing, saffie, roussoss,...</td>\n",
       "    </tr>\n",
       "    <tr>\n",
       "      <th>4</th>\n",
       "      <td>Ukraine conflict: Oil price soars to highest l...</td>\n",
       "      <td>[ukraine, conflict, oil, price, soar, high, le...</td>\n",
       "    </tr>\n",
       "    <tr>\n",
       "      <th>5</th>\n",
       "      <td>Ukraine war: PM to hold talks with world leade...</td>\n",
       "      <td>[ukraine, war, hold, talk, world, leader, sanc...</td>\n",
       "    </tr>\n",
       "    <tr>\n",
       "      <th>6</th>\n",
       "      <td>Ukraine war: UK grants 50 Ukrainian refugee vi...</td>\n",
       "      <td>[ukraine, war, grant, ukrainian, refugee, visa...</td>\n",
       "    </tr>\n",
       "    <tr>\n",
       "      <th>7</th>\n",
       "      <td>TikTok limits services as Netflix pulls out of...</td>\n",
       "      <td>[tiktok, limit, service, netflix, pull, russia...</td>\n",
       "    </tr>\n",
       "    <tr>\n",
       "      <th>8</th>\n",
       "      <td>Covid: Fourth jab for Scotland's vulnerable, a...</td>\n",
       "      <td>[covid, fourth, jab, scotland, vulnerable, tes...</td>\n",
       "    </tr>\n",
       "    <tr>\n",
       "      <th>9</th>\n",
       "      <td>Protests across Russia see thousands detained ...</td>\n",
       "      <td>[protest, across, russia, see, thousand, detai...</td>\n",
       "    </tr>\n",
       "  </tbody>\n",
       "</table>\n",
       "</div>"
      ],
      "text/plain": [
       "                                                text  \\\n",
       "0  Ukraine: Angry Zelensky vows to punish Russian...   \n",
       "1  War in Ukraine: Taking cover in a town under a...   \n",
       "2  Ukraine war 'catastrophic for global food' One...   \n",
       "3  Manchester Arena bombing: Saffie Roussos's par...   \n",
       "4  Ukraine conflict: Oil price soars to highest l...   \n",
       "5  Ukraine war: PM to hold talks with world leade...   \n",
       "6  Ukraine war: UK grants 50 Ukrainian refugee vi...   \n",
       "7  TikTok limits services as Netflix pulls out of...   \n",
       "8  Covid: Fourth jab for Scotland's vulnerable, a...   \n",
       "9  Protests across Russia see thousands detained ...   \n",
       "\n",
       "                                              tokens  \n",
       "0  [ukraine, angry, zelensky, vow, punish, russia...  \n",
       "1  [war, ukraine, take, cover, town, attack, jere...  \n",
       "2  [ukraine, war, catastrophic, global, food, one...  \n",
       "3  [manchester, arena, bombing, saffie, roussoss,...  \n",
       "4  [ukraine, conflict, oil, price, soar, high, le...  \n",
       "5  [ukraine, war, hold, talk, world, leader, sanc...  \n",
       "6  [ukraine, war, grant, ukrainian, refugee, visa...  \n",
       "7  [tiktok, limit, service, netflix, pull, russia...  \n",
       "8  [covid, fourth, jab, scotland, vulnerable, tes...  \n",
       "9  [protest, across, russia, see, thousand, detai...  "
      ]
     },
     "execution_count": 14,
     "metadata": {},
     "output_type": "execute_result"
    }
   ],
   "source": [
    "df[['text', 'tokens']].head(10)\n"
   ]
  },
  {
   "cell_type": "code",
   "execution_count": 15,
   "id": "d41772f6",
   "metadata": {
    "execution": {
     "iopub.execute_input": "2025-08-25T05:49:32.426252Z",
     "iopub.status.busy": "2025-08-25T05:49:32.425881Z",
     "iopub.status.idle": "2025-08-25T05:49:58.300496Z",
     "shell.execute_reply": "2025-08-25T05:49:58.299405Z"
    },
    "papermill": {
     "duration": 25.882539,
     "end_time": "2025-08-25T05:49:58.302269",
     "exception": false,
     "start_time": "2025-08-25T05:49:32.419730",
     "status": "completed"
    },
    "tags": []
   },
   "outputs": [
    {
     "name": "stdout",
     "output_type": "stream",
     "text": [
      "Vocabulary Size:  10199\n",
      "Example doc below (first doc):  [(0, 1), (1, 1), (2, 1), (3, 1), (4, 1), (5, 1), (6, 1), (7, 1), (8, 1), (9, 1), (10, 1), (11, 1), (12, 1), (13, 1), (14, 1)]\n"
     ]
    }
   ],
   "source": [
    "from gensim import corpora\n",
    "texts = df['tokens'].tolist()\n",
    "id2word = corpora.Dictionary(texts)\n",
    "id2word.filter_extremes(no_below = 5, no_above =0.5)\n",
    "corpus = [id2word.doc2bow(text) for text in texts]\n",
    "print(\"Vocabulary Size: \", len(id2word))\n",
    "print(\"Example doc below (first doc): \", corpus[0][:20])"
   ]
  },
  {
   "cell_type": "code",
   "execution_count": 16,
   "id": "4694b57f",
   "metadata": {
    "_kg_hide-input": true,
    "execution": {
     "iopub.execute_input": "2025-08-25T05:49:58.315968Z",
     "iopub.status.busy": "2025-08-25T05:49:58.314753Z",
     "iopub.status.idle": "2025-08-25T05:51:18.712020Z",
     "shell.execute_reply": "2025-08-25T05:51:18.711078Z"
    },
    "papermill": {
     "duration": 80.410574,
     "end_time": "2025-08-25T05:51:18.718741",
     "exception": false,
     "start_time": "2025-08-25T05:49:58.308167",
     "status": "completed"
    },
    "tags": []
   },
   "outputs": [
    {
     "name": "stdout",
     "output_type": "stream",
     "text": [
      "Topic 00: die, man, police, woman, find, two, take, show, say, death, life, family\n",
      "Topic 01: day, gaza, lead, paper, england, test, tory, past, sunak, medal, row, series\n",
      "Topic 02: president, war, ukraine, attack, israeli, school, russian, strike, russia, force, biden, military\n",
      "Topic 03: say, year, new, people, get, could, make, trump, bbc, first, face, rise\n",
      "Topic 04: minister, leader, labour, budget, call, strike, deal, government, prime, talk, sir, nhs\n",
      "Topic 05: collapse, prison, pitch, term, birth, sentence, letby, sea, suspend, holiday, chant, syria\n",
      "Topic 06: win, world, england, cup, final, first, beat, second, open, champion, watch, victory\n",
      "Topic 07: israel, wale, euro, watch, six, paris, ireland, moment, britain, medium, history, social\n",
      "Topic 08: city, manchester, premier, league, liverpool, united, club, man, manager, football, tour, good\n",
      "Topic 09: election, party, south, king, general, storm, award, flood, vote, result, journey, chef\n"
     ]
    }
   ],
   "source": [
    "#LDA MOdel Training\n",
    "from gensim.models import LdaModel\n",
    "\n",
    "lda = LdaModel(\n",
    "    corpus = corpus,\n",
    "    id2word = id2word,\n",
    "    num_topics = 10,\n",
    "    random_state = 42,\n",
    "    chunksize = 2000,\n",
    "    passes=10,\n",
    "    alpha = 'auto',\n",
    "    eta = 'auto'\n",
    ")\n",
    "for i in range(lda.num_topics):\n",
    "    print(f\"Topic {i:02d}:\", \", \".join([w for w, p in lda.show_topic(i, topn=12)]))"
   ]
  },
  {
   "cell_type": "code",
   "execution_count": 17,
   "id": "1055d96a",
   "metadata": {
    "execution": {
     "iopub.execute_input": "2025-08-25T05:51:18.731206Z",
     "iopub.status.busy": "2025-08-25T05:51:18.730488Z",
     "iopub.status.idle": "2025-08-25T05:51:18.738783Z",
     "shell.execute_reply": "2025-08-25T05:51:18.737970Z"
    },
    "papermill": {
     "duration": 0.015916,
     "end_time": "2025-08-25T05:51:18.740174",
     "exception": false,
     "start_time": "2025-08-25T05:51:18.724258",
     "status": "completed"
    },
    "tags": []
   },
   "outputs": [
    {
     "data": {
      "text/plain": [
       "[(0,\n",
       "  '0.019*\"die\" + 0.017*\"man\" + 0.016*\"police\" + 0.015*\"woman\" + 0.015*\"find\" + 0.013*\"two\" + 0.013*\"take\" + 0.012*\"show\" + 0.012*\"say\" + 0.011*\"death\"'),\n",
       " (1,\n",
       "  '0.040*\"day\" + 0.030*\"gaza\" + 0.023*\"lead\" + 0.019*\"paper\" + 0.017*\"england\" + 0.017*\"test\" + 0.014*\"tory\" + 0.013*\"past\" + 0.012*\"sunak\" + 0.011*\"medal\"'),\n",
       " (2,\n",
       "  '0.024*\"president\" + 0.023*\"war\" + 0.023*\"ukraine\" + 0.017*\"attack\" + 0.015*\"israeli\" + 0.015*\"school\" + 0.014*\"russian\" + 0.013*\"strike\" + 0.013*\"russia\" + 0.013*\"force\"'),\n",
       " (3,\n",
       "  '0.047*\"say\" + 0.018*\"year\" + 0.016*\"new\" + 0.010*\"people\" + 0.009*\"get\" + 0.009*\"could\" + 0.009*\"make\" + 0.008*\"trump\" + 0.008*\"bbc\" + 0.008*\"first\"'),\n",
       " (4,\n",
       "  '0.028*\"minister\" + 0.026*\"leader\" + 0.026*\"labour\" + 0.017*\"budget\" + 0.015*\"call\" + 0.015*\"strike\" + 0.013*\"deal\" + 0.013*\"government\" + 0.013*\"prime\" + 0.013*\"talk\"'),\n",
       " (5,\n",
       "  '0.028*\"collapse\" + 0.016*\"prison\" + 0.015*\"pitch\" + 0.013*\"term\" + 0.012*\"birth\" + 0.012*\"sentence\" + 0.011*\"letby\" + 0.011*\"sea\" + 0.010*\"suspend\" + 0.010*\"holiday\"'),\n",
       " (6,\n",
       "  '0.044*\"win\" + 0.033*\"world\" + 0.032*\"england\" + 0.021*\"cup\" + 0.016*\"final\" + 0.016*\"first\" + 0.014*\"beat\" + 0.014*\"second\" + 0.013*\"open\" + 0.012*\"champion\"'),\n",
       " (7,\n",
       "  '0.027*\"israel\" + 0.023*\"wale\" + 0.019*\"euro\" + 0.015*\"watch\" + 0.014*\"six\" + 0.013*\"paris\" + 0.012*\"ireland\" + 0.012*\"moment\" + 0.011*\"britain\" + 0.011*\"medium\"'),\n",
       " (8,\n",
       "  '0.027*\"city\" + 0.023*\"manchester\" + 0.016*\"premier\" + 0.015*\"league\" + 0.014*\"liverpool\" + 0.013*\"united\" + 0.013*\"club\" + 0.012*\"man\" + 0.012*\"manager\" + 0.011*\"football\"'),\n",
       " (9,\n",
       "  '0.066*\"election\" + 0.046*\"party\" + 0.029*\"south\" + 0.025*\"king\" + 0.021*\"general\" + 0.018*\"storm\" + 0.015*\"award\" + 0.013*\"flood\" + 0.012*\"vote\" + 0.011*\"result\"')]"
      ]
     },
     "execution_count": 17,
     "metadata": {},
     "output_type": "execute_result"
    }
   ],
   "source": [
    "lda.print_topics(num_words=10)\n"
   ]
  },
  {
   "cell_type": "code",
   "execution_count": 18,
   "id": "03d78b45",
   "metadata": {
    "execution": {
     "iopub.execute_input": "2025-08-25T05:51:18.753122Z",
     "iopub.status.busy": "2025-08-25T05:51:18.752329Z",
     "iopub.status.idle": "2025-08-25T05:51:18.759131Z",
     "shell.execute_reply": "2025-08-25T05:51:18.758138Z"
    },
    "papermill": {
     "duration": 0.014592,
     "end_time": "2025-08-25T05:51:18.760529",
     "exception": false,
     "start_time": "2025-08-25T05:51:18.745937",
     "status": "completed"
    },
    "tags": []
   },
   "outputs": [
    {
     "name": "stdout",
     "output_type": "stream",
     "text": [
      "Document 0\n",
      "[(0, 0.10932584), (1, 0.022335974), (2, 0.61729795), (3, 0.11450058), (4, 0.026077848), (5, 0.013932211), (6, 0.02934993), (7, 0.026740141), (8, 0.025140794), (9, 0.015298706)]\n",
      "\n",
      "\n",
      "Document 1\n",
      "[(0, 0.15601344), (1, 0.024305172), (2, 0.5245193), (3, 0.15614167), (4, 0.028993245), (5, 0.013398808), (6, 0.030870674), (7, 0.026375914), (8, 0.02472796), (9, 0.014653741)]\n",
      "\n",
      "\n",
      "Document 2\n",
      "[(0, 0.059461255), (1, 0.020437256), (2, 0.27268514), (3, 0.43691456), (4, 0.022218209), (5, 0.012788069), (6, 0.0713548), (7, 0.06689948), (8, 0.023197059), (9, 0.014044178)]\n",
      "\n",
      "\n"
     ]
    }
   ],
   "source": [
    "for idx, doc in enumerate(corpus[:3]):   \n",
    "    print(f\"Document {idx}\")\n",
    "    print(lda[doc])  \n",
    "    print(\"\\n\")"
   ]
  },
  {
   "cell_type": "code",
   "execution_count": 19,
   "id": "b9270cd6",
   "metadata": {
    "execution": {
     "iopub.execute_input": "2025-08-25T05:51:18.773156Z",
     "iopub.status.busy": "2025-08-25T05:51:18.772847Z",
     "iopub.status.idle": "2025-08-25T05:51:21.313646Z",
     "shell.execute_reply": "2025-08-25T05:51:21.312572Z"
    },
    "papermill": {
     "duration": 2.54884,
     "end_time": "2025-08-25T05:51:21.315047",
     "exception": false,
     "start_time": "2025-08-25T05:51:18.766207",
     "status": "completed"
    },
    "tags": []
   },
   "outputs": [
    {
     "name": "stdout",
     "output_type": "stream",
     "text": [
      "Coherence Score: 0.4172\n"
     ]
    }
   ],
   "source": [
    "#Evaluation\n",
    "from gensim.models import CoherenceModel\n",
    "\n",
    "coherence_model_lda = CoherenceModel(model=lda, \n",
    "                                     texts=df['tokens'],  \n",
    "                                     dictionary=id2word, \n",
    "                                     coherence='c_v')\n",
    "\n",
    "coherence_lda = coherence_model_lda.get_coherence()\n",
    "print(f\"Coherence Score: {coherence_lda:.4f}\")"
   ]
  },
  {
   "cell_type": "code",
   "execution_count": 20,
   "id": "98858cf3",
   "metadata": {
    "execution": {
     "iopub.execute_input": "2025-08-25T05:51:21.328183Z",
     "iopub.status.busy": "2025-08-25T05:51:21.327814Z",
     "iopub.status.idle": "2025-08-25T05:51:28.567534Z",
     "shell.execute_reply": "2025-08-25T05:51:28.566434Z"
    },
    "papermill": {
     "duration": 7.248389,
     "end_time": "2025-08-25T05:51:28.569699",
     "exception": false,
     "start_time": "2025-08-25T05:51:21.321310",
     "status": "completed"
    },
    "tags": []
   },
   "outputs": [
    {
     "data": {
      "text/html": [
       "\n",
       "<link rel=\"stylesheet\" type=\"text/css\" href=\"https://cdn.jsdelivr.net/gh/bmabey/pyLDAvis@3.4.0/pyLDAvis/js/ldavis.v1.0.0.css\">\n",
       "\n",
       "\n",
       "<div id=\"ldavis_el131340502075758242596253768\" style=\"background-color:white;\"></div>\n",
       "<script type=\"text/javascript\">\n",
       "\n",
       "var ldavis_el131340502075758242596253768_data = {\"mdsDat\": {\"x\": [-0.2199903307964047, -0.20477756927188726, -0.09889093678340764, -0.0675577184050486, -0.08669310338462449, 0.07173785079529585, 0.041998585035730805, 0.06262772038692649, 0.22734952912908823, 0.27419597329433104], \"y\": [-0.07774059315357154, -0.0896496999058075, 0.24517754330714492, 0.2213566535428957, -0.22920535274340847, 0.15556474426975267, -0.18739242646024662, 0.05298711420607489, -0.04781178096199423, -0.04328620210084014], \"topics\": [1, 2, 3, 4, 5, 6, 7, 8, 9, 10], \"cluster\": [1, 1, 1, 1, 1, 1, 1, 1, 1, 1], \"Freq\": [25.798586839779496, 17.443740657282664, 11.971015539163558, 8.342238186773344, 7.720896895319454, 7.526945866781948, 6.85467886836, 6.44851338034252, 4.123589567947197, 3.7697941982498198]}, \"tinfo\": {\"Term\": [\"win\", \"say\", \"election\", \"world\", \"england\", \"day\", \"party\", \"die\", \"year\", \"man\", \"city\", \"gaza\", \"cup\", \"israel\", \"new\", \"minister\", \"president\", \"police\", \"leader\", \"labour\", \"manchester\", \"war\", \"wale\", \"ukraine\", \"woman\", \"final\", \"find\", \"first\", \"attack\", \"lead\", \"could\", \"get\", \"trump\", \"rise\", \"change\", \"work\", \"still\", \"cut\", \"law\", \"need\", \"want\", \"would\", \"live\", \"like\", \"tax\", \"may\", \"feel\", \"way\", \"cost\", \"risk\", \"high\", \"office\", \"national\", \"due\", \"right\", \"firm\", \"long\", \"bank\", \"mean\", \"raise\", \"help\", \"big\", \"year\", \"face\", \"warn\", \"see\", \"rule\", \"many\", \"say\", \"new\", \"part\", \"back\", \"pay\", \"people\", \"come\", \"use\", \"make\", \"claim\", \"time\", \"bbc\", \"first\", \"give\", \"government\", \"home\", \"plan\", \"end\", \"set\", \"die\", \"police\", \"woman\", \"death\", \"family\", \"child\", \"murder\", \"charge\", \"arrest\", \"starmer\", \"jail\", \"london\", \"yearold\", \"young\", \"hear\", \"body\", \"victim\", \"dead\", \"car\", \"hospital\", \"girl\", \"care\", \"shoot\", \"cancer\", \"boy\", \"street\", \"allegation\", \"crash\", \"age\", \"mother\", \"life\", \"accuse\", \"reveal\", \"show\", \"find\", \"two\", \"court\", \"man\", \"three\", \"follow\", \"take\", \"kill\", \"british\", \"former\", \"tell\", \"bbc\", \"say\", \"leave\", \"win\", \"world\", \"cup\", \"final\", \"beat\", \"open\", \"champion\", \"victory\", \"title\", \"reach\", \"gold\", \"championship\", \"highlight\", \"snooker\", \"score\", \"draw\", \"grand\", \"women\", \"verstappen\", \"seat\", \"candidate\", \"men\", \"coach\", \"australia\", \"womens\", \"semifinal\", \"penalty\", \"crossing\", \"griffith\", \"secure\", \"third\", \"race\", \"second\", \"defeat\", \"england\", \"side\", \"france\", \"round\", \"captain\", \"great\", \"winner\", \"game\", \"first\", \"host\", \"watch\", \"league\", \"record\", \"team\", \"olympic\", \"manchester\", \"premier\", \"liverpool\", \"club\", \"manager\", \"lebanon\", \"officer\", \"queen\", \"wallace\", \"gregg\", \"utd\", \"killer\", \"guardiola\", \"ten\", \"music\", \"morning\", \"wedding\", \"palace\", \"analysis\", \"harry\", \"klopp\", \"pain\", \"phil\", \"jurgen\", \"song\", \"conference\", \"nottingham\", \"artist\", \"pep\", \"hag\", \"tour\", \"football\", \"mark\", \"united\", \"city\", \"singer\", \"husband\", \"celebrate\", \"sack\", \"van\", \"wear\", \"news\", \"good\", \"league\", \"boss\", \"match\", \"team\", \"season\", \"man\", \"player\", \"star\", \"fan\", \"sport\", \"day\", \"president\", \"war\", \"ukraine\", \"israeli\", \"school\", \"russian\", \"russia\", \"force\", \"biden\", \"military\", \"boat\", \"protest\", \"hamas\", \"spain\", \"aid\", \"ukrainian\", \"migrant\", \"hezbollah\", \"resident\", \"iran\", \"hostage\", \"missile\", \"protester\", \"troop\", \"october\", \"georgias\", \"flee\", \"putin\", \"teacher\", \"soldier\", \"east\", \"safe\", \"visit\", \"attack\", \"strike\", \"fight\", \"fear\", \"kill\", \"say\", \"israel\", \"wale\", \"euro\", \"six\", \"ireland\", \"moment\", \"medium\", \"social\", \"event\", \"irish\", \"confirm\", \"hundred\", \"band\", \"northern\", \"suspect\", \"centre\", \"scene\", \"shock\", \"britain\", \"injure\", \"tournament\", \"decade\", \"crowd\", \"pick\", \"southern\", \"princess\", \"festival\", \"welsh\", \"squad\", \"italy\", \"nation\", \"history\", \"night\", \"paris\", \"watch\", \"group\", \"park\", \"make\", \"fan\", \"spark\", \"minister\", \"labour\", \"budget\", \"deal\", \"prime\", \"talk\", \"nhs\", \"sir\", \"rebel\", \"political\", \"action\", \"investigation\", \"keir\", \"paralympic\", \"urge\", \"parliament\", \"yet\", \"door\", \"train\", \"promise\", \"agree\", \"worker\", \"union\", \"mp\", \"rail\", \"china\", \"farage\", \"tackle\", \"snp\", \"able\", \"leader\", \"speech\", \"staff\", \"call\", \"strike\", \"vote\", \"government\", \"debate\", \"plan\", \"gaza\", \"paper\", \"test\", \"tory\", \"sunak\", \"medal\", \"row\", \"conservative\", \"ceasefire\", \"guide\", \"rishi\", \"past\", \"reform\", \"india\", \"american\", \"brand\", \"page\", \"paul\", \"fraud\", \"tuesday\", \"focus\", \"musk\", \"italian\", \"martial\", \"choose\", \"consider\", \"southgate\", \"century\", \"path\", \"indian\", \"seven\", \"lead\", \"series\", \"day\", \"front\", \"england\", \"new\", \"week\", \"election\", \"south\", \"king\", \"general\", \"storm\", \"award\", \"flood\", \"journey\", \"chef\", \"africa\", \"stab\", \"pie\", \"christmas\", \"climate\", \"belfast\", \"anfield\", \"rain\", \"tonne\", \"guilty\", \"economy\", \"survive\", \"verdict\", \"spending\", \"wrong\", \"announcement\", \"cocaine\", \"ceremony\", \"personality\", \"crown\", \"strong\", \"party\", \"result\", \"vote\", \"film\", \"collapse\", \"prison\", \"pitch\", \"term\", \"birth\", \"sentence\", \"letby\", \"sea\", \"suspend\", \"holiday\", \"chant\", \"syria\", \"korea\", \"pass\", \"flight\", \"bear\", \"super\", \"wimbledon\", \"murray\", \"european\", \"lucy\", \"rock\", \"dad\", \"mason\", \"footballer\", \"andy\", \"airport\", \"plane\", \"answer\", \"appeal\"], \"Freq\": [3624.0, 10298.0, 1873.0, 2752.0, 3413.0, 2469.0, 1359.0, 2227.0, 3341.0, 2769.0, 1793.0, 1343.0, 1723.0, 1383.0, 3212.0, 1314.0, 1286.0, 1889.0, 1239.0, 1214.0, 1307.0, 1229.0, 1213.0, 1220.0, 1788.0, 1357.0, 1910.0, 2824.0, 1584.0, 1049.0, 1682.9250206322483, 1686.5430574239626, 1508.5585942308132, 1233.4540235797779, 1127.1773178149062, 855.2825068893532, 844.9009946024336, 798.3674255817953, 769.4300848720795, 836.0765974038806, 984.8194160561161, 730.3246419072257, 699.5806834575571, 695.6316872759816, 665.2080094364613, 629.5006949043508, 614.2328544770266, 586.4960900632481, 581.8302497504811, 570.4449321705508, 555.8138450265715, 549.4493750989328, 542.493971303229, 542.2673576639731, 530.632868557409, 514.7638707791164, 514.2766204117519, 503.8768134712157, 500.34880127591805, 490.352511480424, 1168.2875568036868, 819.3808634008395, 3253.7735163969596, 1341.238920721308, 826.3675998951583, 1008.9724978919853, 791.6164500535408, 590.925258816332, 8342.630260399288, 2798.4750513083036, 659.7807472957946, 1228.722413573353, 1225.4231673295012, 1843.0265840869893, 903.7011702636481, 778.4376769505133, 1589.546128448346, 996.6484410721786, 1009.7566017791202, 1472.673920896107, 1380.848998113524, 899.3403374226029, 1043.5429362908646, 973.7337665580511, 887.0108170410825, 868.2424063988858, 857.0785286308311, 2226.4599955649096, 1888.3448581287635, 1787.0636370933905, 1315.44294682585, 1218.985446017431, 962.5885398681928, 955.8988044993706, 935.3880863814138, 905.6282289598738, 728.3229830210751, 706.9990387348957, 809.75301129744, 664.741223338003, 748.4638340786963, 654.3254467555801, 631.2136810750037, 614.6219417852022, 609.1320354577467, 596.320183040148, 586.458367458957, 560.6649536457121, 546.8786739197931, 545.1651281896008, 535.1833073152259, 519.5511625899509, 521.7926980265815, 517.1258130755143, 512.3359003098863, 500.94440904892696, 489.57558669829393, 1275.9562797779508, 558.6613018359619, 691.7039051431378, 1465.861745665352, 1748.9711360168649, 1582.1662412864223, 712.2319747727023, 2053.3953471178083, 932.9612256062888, 764.2244359624867, 1576.162394379669, 1169.8042095711924, 769.168329400479, 1059.9794400558726, 1069.8962207480274, 1116.0051201873327, 1423.9668007515336, 695.5730123685753, 3623.9909016131332, 2752.0577118856268, 1722.8325792436015, 1356.7444921591066, 1194.6723286736633, 1072.5677043872713, 1001.9008285849534, 795.8655857999614, 771.1224917610906, 765.3016899318981, 709.4181358061895, 585.630143743411, 495.70717539422964, 483.23441273745436, 480.97386615018814, 480.9512030663056, 427.5883216364269, 419.7316450464579, 363.5892708204095, 344.796388660901, 344.1863675843951, 340.0291129361937, 338.21549004549234, 409.33063396460545, 331.1945818947033, 317.2937760692824, 310.8604563831562, 304.5213805551754, 292.376906112641, 288.75713146651816, 630.5128064804984, 610.7825177123979, 1159.9113064945677, 554.8476451458977, 2636.1520940452197, 604.753676455565, 481.95391008608465, 571.8938949541813, 403.0960195885205, 557.5509285210115, 452.4297888241506, 738.5886745475495, 1344.1465831848918, 526.3354113733154, 817.6313652087728, 782.6916503750646, 587.0716311143599, 550.998493202479, 495.1892278974973, 1306.0778294489153, 916.9382139155912, 798.6531767183213, 726.2882290237861, 676.2602435253857, 514.0228445667203, 481.0644354736066, 428.261126723648, 385.16738059320323, 367.4265389373443, 357.8708932612762, 321.67241205189026, 313.25891040068217, 284.400045636042, 284.3253892264298, 258.89464293070654, 249.26452822217476, 249.0541036843613, 243.56108903850384, 302.00760860295895, 234.0386358858919, 232.96873913587714, 225.6898061190951, 219.95938462603405, 214.8374035024552, 204.74211163858413, 204.1915975761657, 202.81927410840302, 201.4119244979449, 198.2103717697802, 617.8392607894606, 635.7610284663195, 431.8815744514619, 731.4204891223708, 1533.8520992728916, 262.29326288281, 252.68927390241788, 377.0212661329656, 260.96580285804123, 449.4834090312662, 289.2877785557784, 462.3585211982605, 588.5315474495684, 857.3251377606373, 575.2821628124422, 519.6618795476206, 580.5333270958591, 358.1733467471882, 715.0423343952066, 383.6267924460492, 450.21610721839636, 384.67514082398156, 338.15263378868207, 355.8148573466453, 1285.2376171999617, 1228.6522138382563, 1219.5102492513272, 821.7879660383937, 780.3258190248322, 733.7380892233913, 713.3107750600402, 683.2977366360374, 604.7736794986663, 560.3140240860952, 471.5349365611577, 435.7243335834172, 426.72625891302346, 405.261292328156, 377.4832052041684, 370.70531627072955, 370.1630286703434, 369.313761050021, 354.92471984761454, 346.94668297569035, 320.56654287655493, 298.10831965709104, 294.1391331560784, 287.9326417837573, 283.83058998963526, 280.0723825742313, 261.8551957273611, 254.34926048241653, 244.930813204624, 243.7845496615354, 355.6469689414086, 278.0413744203798, 520.6092268210734, 892.3121104780312, 713.3950081379019, 455.73459491361456, 357.51156721761413, 412.459380447951, 420.33450431827606, 1382.6093315972455, 1212.5302847144833, 964.3809460649068, 713.6638050713257, 637.8124628008632, 626.6514902769939, 550.5383393061325, 489.99483581794254, 487.1647417316562, 470.7215130042035, 426.80518059238125, 421.6327681129134, 383.7863399985317, 378.2992740367025, 344.39396049080733, 331.46123864554846, 317.75818575792584, 385.6676673710015, 589.1127115376751, 292.6932149232496, 267.74497115951687, 264.49277092407266, 261.81215414837385, 259.99850094366394, 257.684126523394, 249.5810989418594, 235.23627660894158, 229.77386993522194, 229.42685264672272, 226.6841166849145, 445.8862527368237, 545.1732897238619, 383.8481693595115, 663.4696188315801, 797.375301464724, 453.4579825516263, 284.59938928957956, 441.9004326420974, 332.236255194174, 271.1825387174299, 1313.5522818230916, 1213.6531235318187, 803.1034417726803, 629.8727015555683, 593.2004220803886, 592.6355036095875, 550.685094347843, 553.3087407763991, 494.43849103620744, 463.97600372830414, 442.51319289983064, 396.7456028729955, 362.71208036170293, 358.6904784679866, 347.70080827084433, 387.67668626951644, 329.3368229179285, 327.8268031478029, 326.8301236747504, 311.1175203909326, 294.29058661006627, 458.32708295977517, 280.3112299130756, 278.2697679964192, 272.9035704027725, 260.4986347094577, 258.0913306761204, 252.93654860736623, 249.40077131974923, 244.93082422634401, 1227.243895326783, 274.8414140778799, 346.1416517671971, 704.877879745356, 690.0118843442514, 490.58603036038784, 603.2977348846455, 289.0403904186546, 301.64811961379104, 1342.3733585160724, 824.237397308121, 760.0147483432258, 634.2573401128219, 549.5940909587533, 486.5967200991904, 471.31869231072596, 402.02405908929137, 361.5390628645668, 359.270717525889, 340.29225302229185, 562.9808998397036, 311.25407649786314, 306.11265098690774, 298.7682865154655, 295.0671462834526, 262.3671643972865, 247.3508035049317, 245.91409788540935, 379.6475873623803, 242.18500320324273, 241.49795689465296, 237.55780714840927, 238.2989828734329, 236.8982600731684, 240.14751485965388, 231.36793456914157, 225.88269622047002, 224.22430001697495, 223.10746696956707, 435.13346710809407, 1032.6025439018663, 444.60408720007524, 1792.3744547713657, 364.19086628633056, 774.4044826120012, 380.6472020825336, 259.6452575875724, 1872.3982197710527, 829.708298736716, 719.7674876004623, 582.9663743452024, 520.7776171887124, 417.0794880117889, 363.0718115956387, 290.16100914565766, 285.02951457202016, 266.9961262047332, 265.5020435991409, 253.05788279454416, 245.97346117424453, 233.0593678715499, 230.027803105411, 226.7298074128812, 221.942810038266, 208.43571738972017, 192.51250006637525, 188.86365602043958, 187.61380176403898, 177.99029447375997, 177.92421600502755, 173.44393969242404, 173.01106882646866, 172.8096578430796, 164.95739488937764, 161.41097643944872, 155.9814671779337, 152.11964775500223, 1301.4084818783863, 317.20999347614264, 329.8416191876279, 178.18901944810764, 740.3126959073493, 412.7987432625594, 398.9722504979074, 340.231502220894, 302.4842741032908, 302.0105334183101, 286.1981135088979, 276.0908310763946, 269.7443945453816, 261.65932824892997, 250.13513005511783, 248.41658019819374, 246.96156099602885, 246.00355581859296, 240.51095086734833, 237.0381427860693, 236.8499964625531, 232.4424323509256, 225.33087872752176, 211.9262575829644, 211.03526607611357, 203.3682489593405, 201.66342843745505, 200.3314289157685, 196.41686284716707, 191.9405190007117, 182.65588380812676, 179.65991307241862, 174.25839348931578, 173.19263420040485], \"Total\": [3624.0, 10298.0, 1873.0, 2752.0, 3413.0, 2469.0, 1359.0, 2227.0, 3341.0, 2769.0, 1793.0, 1343.0, 1723.0, 1383.0, 3212.0, 1314.0, 1286.0, 1889.0, 1239.0, 1214.0, 1307.0, 1229.0, 1213.0, 1220.0, 1788.0, 1357.0, 1910.0, 2824.0, 1584.0, 1049.0, 1683.8587117086406, 1687.483007780421, 1509.4923699358012, 1234.387685242255, 1128.1321119484726, 856.2161894961212, 845.834756037575, 799.3011240985268, 770.3642488260409, 837.1121655778927, 986.0653517198659, 731.2583476009205, 700.5143692314228, 696.5659456857362, 666.1416930499424, 630.4343819215853, 615.1691345621517, 587.4324017456564, 582.7638635008245, 571.379256660257, 556.7474841686696, 550.3830395771788, 543.4276920367719, 543.2022370282227, 531.5665887092752, 515.6975336405211, 515.210356519058, 504.8105400100033, 501.2824765822861, 491.28627610058896, 1172.899237603386, 823.2593246257949, 3341.9286195210134, 1374.3004137830592, 839.4993351950193, 1034.8716728968932, 805.9827430353298, 595.3654804700647, 10298.901609073828, 3212.2544524594705, 674.2192489097529, 1381.2452361712108, 1411.7267632416044, 2450.8563786504765, 1033.64546621425, 846.5222800145563, 2303.2746926333807, 1219.489267965575, 1344.4534815245156, 2867.206671461219, 2824.821921596789, 1158.244987555645, 1647.6714620470132, 1483.8987921195624, 1189.4903749008347, 1180.9490721464706, 1265.7306871683954, 2227.4025612795617, 1889.2873802644485, 1788.0062104903604, 1316.3855138356355, 1219.9280205981606, 963.5310700726201, 956.8413179896532, 936.3307239915403, 906.5707743690654, 729.265923493381, 707.9416427113637, 810.8349264237554, 665.6837605708989, 749.5259312698822, 655.2681552894608, 632.1562569345724, 615.5645038948177, 610.0746048494465, 597.2628694212879, 587.4009032136992, 561.6074768792066, 547.8214413549903, 546.1076782502018, 536.125853337453, 520.493680524457, 522.7399886263978, 518.0685197196904, 513.2784678752124, 501.88697851636397, 490.5181167188142, 1278.6794682108048, 559.7869482474827, 696.9499918464181, 1559.6594233614662, 1910.0272959904648, 1742.0411592319085, 741.9232124481604, 2769.2763867831036, 1067.1503452199563, 838.0057890016822, 2322.5154243066077, 1583.1025525425518, 897.3723425473459, 1638.87278216099, 1798.4936368298406, 2867.206671461219, 10298.901609073828, 1500.0235583962165, 3624.9184015745373, 2752.9851770650716, 1723.7599972909977, 1357.6719672578847, 1195.5998110323733, 1073.495378404899, 1002.8282843791818, 796.7930606115524, 772.0499271405049, 766.2292180818612, 710.345637917418, 586.5575766579543, 496.6346618055787, 484.1620612274635, 481.90130237318317, 481.87870563819854, 428.5157576240746, 420.65910217162303, 364.5167050430951, 345.7241522765311, 345.11420973231156, 340.95674889168515, 339.14303581070516, 410.45492139922305, 332.12202990273903, 318.2211930194844, 311.7878997419768, 305.44959267976685, 293.3063360498109, 289.68464802423034, 634.6165124021525, 617.4479342825855, 1207.2301162623364, 584.3184400244771, 3413.9298227623553, 667.4085477589814, 514.2383616358993, 635.0819086921031, 417.7649075020747, 632.1577047590855, 488.8000194310433, 986.883786908478, 2824.821921596789, 629.4847977210968, 1638.682206709641, 1640.8403328461923, 1055.2699432031782, 1165.3187291008803, 723.6202821703325, 1307.011613196814, 917.8875887743538, 799.5869712808767, 727.2220672121734, 677.1944315447284, 514.9575886709914, 481.9983376471, 429.1949578057687, 386.1021339231522, 368.3618009121403, 358.80468704325233, 322.60645089034335, 314.1926948670001, 285.3338669020979, 285.25924089055763, 259.8285953721237, 250.198467893851, 249.98795143121234, 244.4950488806868, 303.20817548924623, 234.97242769954542, 233.9026164647715, 226.62363618747, 220.89318052795454, 215.77133118324053, 205.67610501713352, 205.12540148106396, 203.75311577773468, 202.34570523908366, 199.14412613647625, 621.0010604479404, 640.7971438029163, 442.8145242705599, 781.8095453971328, 1793.6340163391517, 269.35099729866147, 259.25726484053575, 416.9543340092786, 269.944903909143, 549.3125587802137, 310.3963311576742, 590.7305630666749, 871.1060749503285, 1640.8403328461923, 996.2407191240554, 933.2070964520931, 1165.3187291008803, 478.59801750209556, 2769.2763867831036, 656.2612548486304, 1098.5752056538588, 780.0233498720775, 691.0048433554232, 2469.196704949639, 1286.1718043507342, 1229.5863069062693, 1220.4443184479262, 822.7220908282765, 781.2599600642695, 734.6721660637444, 714.2448431455878, 684.2319131935075, 605.7078393233597, 561.2481557902538, 472.46923909271135, 436.6658309229507, 427.6604341447194, 406.1955783533093, 378.4173552449993, 371.6393824619096, 371.09723968407593, 370.24793332184277, 355.85892429973035, 347.88079886425044, 321.50068510905464, 299.0424054092982, 295.07337905389, 288.8667304149726, 284.76475605583687, 281.00825009751566, 262.78932035643794, 255.28332856272038, 245.86503801562708, 244.71864683643332, 357.8558917788215, 280.1856400179227, 548.8867680093402, 1584.29167736118, 1404.4579734291874, 697.8375594511351, 638.8602979290969, 1583.1025525425518, 10298.901609073828, 1383.5421399592394, 1213.4630011951172, 965.3137528167251, 714.6554816684679, 638.7451540861443, 627.6276501126105, 551.4710729590372, 490.92755842786073, 488.10150716468144, 471.65452430766663, 427.73806057536154, 422.5655182289254, 384.7191751531599, 379.2319682982717, 345.32668780884194, 332.39400763165344, 318.6909322019594, 386.8116131457529, 590.8823557111149, 293.625939406288, 268.67769492353045, 265.43195125751095, 262.74488391641705, 260.9313575035598, 258.61696825988247, 250.5138468844403, 236.16897141629835, 230.70659320920126, 230.35957234529732, 227.61683462281445, 473.790516860053, 600.4201073857091, 411.14901279354655, 1040.0519555880599, 1638.682206709641, 667.5792910662559, 350.2535272850116, 2303.2746926333807, 780.0233498720775, 425.34118670623803, 1314.4870917818453, 1214.5879651113721, 804.0384155440228, 630.8075314294023, 594.135216579501, 593.5705143289155, 551.6199148967893, 554.3271697220462, 495.374039905813, 464.9108529052314, 443.44815432366903, 397.6804715823691, 363.6468885598559, 359.6278096605101, 348.6356774912067, 388.73630966954096, 330.27177150367305, 328.7623782519382, 327.7649059720505, 312.0523777690935, 295.22557498165156, 459.7995684346174, 281.2460394536631, 279.2045669377392, 273.83834880710435, 261.4334541655234, 259.026245924105, 253.87147584778023, 250.3355625442623, 245.86572793996007, 1239.5495737309877, 275.929815711618, 348.76599958370707, 1400.1870128588926, 1404.4579734291874, 821.2686011849897, 1647.6714620470132, 430.1496575496705, 1189.4903749008347, 1343.2977454311037, 825.1615810020189, 760.9389820582667, 635.1815755110093, 550.5182796686967, 487.52139827675217, 472.242978901954, 402.9483696250949, 362.46338159530126, 360.1950467521305, 341.2164206944233, 564.5539741250956, 312.17839438018325, 307.03684401562793, 299.6926490169284, 295.9914774254936, 263.2913696330782, 248.27514929355894, 246.83839152908234, 381.07510071908285, 243.10925580687785, 242.42217620441252, 238.48222115274882, 239.22693816114167, 237.82258247864232, 241.08791603554386, 232.29217392348528, 226.8069611789647, 225.14884540528024, 224.03172583198733, 437.77760475054373, 1049.9348555933132, 448.9968582724889, 2469.196704949639, 424.41721133408106, 3413.9298227623553, 3212.2544524594705, 1335.3181115549742, 1873.3420715957498, 830.6521687231248, 720.7113106281872, 583.9102015291853, 521.7214631722496, 418.02330285826065, 364.0156575070405, 291.10514272279113, 285.9734469235082, 267.9399177523395, 266.4458862636062, 254.00239374188124, 246.9172722663198, 234.00316415514834, 230.97174293915242, 227.67444438757389, 222.88663157097457, 209.37969462871757, 193.45633329182883, 189.80748317726733, 188.5576614248025, 178.93441034254076, 178.868181512706, 174.38781836165043, 173.9552194198246, 173.75359006196766, 165.90126495653107, 162.35490216785544, 156.9469918179537, 153.06358513776553, 1359.2940267268532, 420.4210143254948, 821.2686011849897, 660.548797167438, 741.2451233911687, 413.73108286997416, 399.993872513509, 341.1639558548595, 303.41669926236983, 302.9428688752067, 287.13043673555046, 277.0231745151925, 270.6767613238818, 262.5917003208542, 251.06811352572436, 249.34959239229758, 247.89394684783898, 246.935922207561, 241.443225435694, 237.9704722278613, 237.78229590855665, 233.37474011033615, 226.26314111474218, 212.85858864626746, 211.96758495628313, 204.3007173825041, 202.5957681324487, 201.26376398449625, 197.34920410127987, 192.87279077580354, 183.58815274621256, 180.59218102302597, 175.1907204781102, 174.1249598330783], \"Category\": [\"Default\", \"Default\", \"Default\", \"Default\", \"Default\", \"Default\", \"Default\", \"Default\", \"Default\", \"Default\", \"Default\", \"Default\", \"Default\", \"Default\", \"Default\", \"Default\", \"Default\", \"Default\", \"Default\", \"Default\", \"Default\", \"Default\", \"Default\", \"Default\", \"Default\", \"Default\", \"Default\", \"Default\", \"Default\", \"Default\", \"Topic1\", \"Topic1\", \"Topic1\", \"Topic1\", \"Topic1\", \"Topic1\", \"Topic1\", \"Topic1\", \"Topic1\", \"Topic1\", \"Topic1\", \"Topic1\", \"Topic1\", \"Topic1\", \"Topic1\", \"Topic1\", \"Topic1\", \"Topic1\", \"Topic1\", \"Topic1\", \"Topic1\", \"Topic1\", \"Topic1\", \"Topic1\", \"Topic1\", \"Topic1\", \"Topic1\", \"Topic1\", \"Topic1\", \"Topic1\", \"Topic1\", \"Topic1\", \"Topic1\", \"Topic1\", \"Topic1\", \"Topic1\", \"Topic1\", \"Topic1\", \"Topic1\", \"Topic1\", \"Topic1\", \"Topic1\", \"Topic1\", \"Topic1\", \"Topic1\", \"Topic1\", \"Topic1\", \"Topic1\", \"Topic1\", \"Topic1\", \"Topic1\", \"Topic1\", \"Topic1\", \"Topic1\", \"Topic1\", \"Topic1\", \"Topic1\", \"Topic2\", \"Topic2\", \"Topic2\", \"Topic2\", \"Topic2\", \"Topic2\", \"Topic2\", \"Topic2\", \"Topic2\", \"Topic2\", \"Topic2\", \"Topic2\", \"Topic2\", \"Topic2\", \"Topic2\", \"Topic2\", \"Topic2\", \"Topic2\", \"Topic2\", \"Topic2\", \"Topic2\", \"Topic2\", \"Topic2\", \"Topic2\", \"Topic2\", \"Topic2\", \"Topic2\", \"Topic2\", \"Topic2\", \"Topic2\", \"Topic2\", \"Topic2\", \"Topic2\", \"Topic2\", \"Topic2\", \"Topic2\", \"Topic2\", \"Topic2\", \"Topic2\", \"Topic2\", \"Topic2\", \"Topic2\", \"Topic2\", \"Topic2\", \"Topic2\", \"Topic2\", \"Topic2\", \"Topic2\", \"Topic3\", \"Topic3\", \"Topic3\", \"Topic3\", \"Topic3\", \"Topic3\", \"Topic3\", \"Topic3\", \"Topic3\", \"Topic3\", \"Topic3\", \"Topic3\", \"Topic3\", \"Topic3\", \"Topic3\", \"Topic3\", \"Topic3\", \"Topic3\", \"Topic3\", \"Topic3\", \"Topic3\", \"Topic3\", \"Topic3\", \"Topic3\", \"Topic3\", \"Topic3\", \"Topic3\", \"Topic3\", \"Topic3\", \"Topic3\", \"Topic3\", \"Topic3\", \"Topic3\", \"Topic3\", \"Topic3\", \"Topic3\", \"Topic3\", \"Topic3\", \"Topic3\", \"Topic3\", \"Topic3\", \"Topic3\", \"Topic3\", \"Topic3\", \"Topic3\", \"Topic3\", \"Topic3\", \"Topic3\", \"Topic3\", \"Topic4\", \"Topic4\", \"Topic4\", \"Topic4\", \"Topic4\", \"Topic4\", \"Topic4\", \"Topic4\", \"Topic4\", \"Topic4\", \"Topic4\", \"Topic4\", \"Topic4\", \"Topic4\", \"Topic4\", \"Topic4\", \"Topic4\", \"Topic4\", \"Topic4\", \"Topic4\", \"Topic4\", \"Topic4\", \"Topic4\", \"Topic4\", \"Topic4\", \"Topic4\", \"Topic4\", \"Topic4\", \"Topic4\", \"Topic4\", \"Topic4\", \"Topic4\", \"Topic4\", \"Topic4\", \"Topic4\", \"Topic4\", \"Topic4\", \"Topic4\", \"Topic4\", \"Topic4\", \"Topic4\", \"Topic4\", \"Topic4\", \"Topic4\", \"Topic4\", \"Topic4\", \"Topic4\", \"Topic4\", \"Topic4\", \"Topic4\", \"Topic4\", \"Topic4\", \"Topic4\", \"Topic4\", \"Topic5\", \"Topic5\", \"Topic5\", \"Topic5\", \"Topic5\", \"Topic5\", \"Topic5\", \"Topic5\", \"Topic5\", \"Topic5\", \"Topic5\", \"Topic5\", \"Topic5\", \"Topic5\", \"Topic5\", \"Topic5\", \"Topic5\", \"Topic5\", \"Topic5\", \"Topic5\", \"Topic5\", \"Topic5\", \"Topic5\", \"Topic5\", \"Topic5\", \"Topic5\", \"Topic5\", \"Topic5\", \"Topic5\", \"Topic5\", \"Topic5\", \"Topic5\", \"Topic5\", \"Topic5\", \"Topic5\", \"Topic5\", \"Topic5\", \"Topic5\", \"Topic5\", \"Topic6\", \"Topic6\", \"Topic6\", \"Topic6\", \"Topic6\", \"Topic6\", \"Topic6\", \"Topic6\", \"Topic6\", \"Topic6\", \"Topic6\", \"Topic6\", \"Topic6\", \"Topic6\", \"Topic6\", \"Topic6\", \"Topic6\", \"Topic6\", \"Topic6\", \"Topic6\", \"Topic6\", \"Topic6\", \"Topic6\", \"Topic6\", \"Topic6\", \"Topic6\", \"Topic6\", \"Topic6\", \"Topic6\", \"Topic6\", \"Topic6\", \"Topic6\", \"Topic6\", \"Topic6\", \"Topic6\", \"Topic6\", \"Topic6\", \"Topic6\", \"Topic6\", \"Topic6\", \"Topic7\", \"Topic7\", \"Topic7\", \"Topic7\", \"Topic7\", \"Topic7\", \"Topic7\", \"Topic7\", \"Topic7\", \"Topic7\", \"Topic7\", \"Topic7\", \"Topic7\", \"Topic7\", \"Topic7\", \"Topic7\", \"Topic7\", \"Topic7\", \"Topic7\", \"Topic7\", \"Topic7\", \"Topic7\", \"Topic7\", \"Topic7\", \"Topic7\", \"Topic7\", \"Topic7\", \"Topic7\", \"Topic7\", \"Topic7\", \"Topic7\", \"Topic7\", \"Topic7\", \"Topic7\", \"Topic7\", \"Topic7\", \"Topic7\", \"Topic7\", \"Topic7\", \"Topic8\", \"Topic8\", \"Topic8\", \"Topic8\", \"Topic8\", \"Topic8\", \"Topic8\", \"Topic8\", \"Topic8\", \"Topic8\", \"Topic8\", \"Topic8\", \"Topic8\", \"Topic8\", \"Topic8\", \"Topic8\", \"Topic8\", \"Topic8\", \"Topic8\", \"Topic8\", \"Topic8\", \"Topic8\", \"Topic8\", \"Topic8\", \"Topic8\", \"Topic8\", \"Topic8\", \"Topic8\", \"Topic8\", \"Topic8\", \"Topic8\", \"Topic8\", \"Topic8\", \"Topic8\", \"Topic8\", \"Topic8\", \"Topic8\", \"Topic8\", \"Topic9\", \"Topic9\", \"Topic9\", \"Topic9\", \"Topic9\", \"Topic9\", \"Topic9\", \"Topic9\", \"Topic9\", \"Topic9\", \"Topic9\", \"Topic9\", \"Topic9\", \"Topic9\", \"Topic9\", \"Topic9\", \"Topic9\", \"Topic9\", \"Topic9\", \"Topic9\", \"Topic9\", \"Topic9\", \"Topic9\", \"Topic9\", \"Topic9\", \"Topic9\", \"Topic9\", \"Topic9\", \"Topic9\", \"Topic9\", \"Topic9\", \"Topic9\", \"Topic9\", \"Topic9\", \"Topic10\", \"Topic10\", \"Topic10\", \"Topic10\", \"Topic10\", \"Topic10\", \"Topic10\", \"Topic10\", \"Topic10\", \"Topic10\", \"Topic10\", \"Topic10\", \"Topic10\", \"Topic10\", \"Topic10\", \"Topic10\", \"Topic10\", \"Topic10\", \"Topic10\", \"Topic10\", \"Topic10\", \"Topic10\", \"Topic10\", \"Topic10\", \"Topic10\", \"Topic10\", \"Topic10\", \"Topic10\", \"Topic10\", \"Topic10\"], \"logprob\": [30.0, 29.0, 28.0, 27.0, 26.0, 25.0, 24.0, 23.0, 22.0, 21.0, 20.0, 19.0, 18.0, 17.0, 16.0, 15.0, 14.0, 13.0, 12.0, 11.0, 10.0, 9.0, 8.0, 7.0, 6.0, 5.0, 4.0, 3.0, 2.0, 1.0, -4.66, -4.6578, -4.7693, -4.9707, -5.0608, -5.3368, -5.349, -5.4057, -5.4426, -5.3595, -5.1958, -5.4948, -5.5378, -5.5434, -5.5882, -5.6433, -5.6679, -5.7141, -5.7221, -5.7418, -5.7678, -5.7793, -5.7921, -5.7925, -5.8142, -5.8445, -5.8455, -5.8659, -5.8729, -5.8931, -5.025, -5.3797, -4.0007, -4.8869, -5.3712, -5.1716, -5.4142, -5.7066, -3.0591, -4.1514, -5.5963, -4.9745, -4.9772, -4.5691, -5.2818, -5.431, -4.717, -5.1839, -5.1708, -4.7934, -4.8578, -5.2866, -5.1379, -5.2071, -5.3004, -5.3218, -5.3347, -3.9887, -4.1535, -4.2086, -4.515, -4.5911, -4.8273, -4.8343, -4.856, -4.8883, -5.1062, -5.1359, -5.0002, -5.1975, -5.0789, -5.2133, -5.2493, -5.2759, -5.2849, -5.3061, -5.3228, -5.3678, -5.3927, -5.3958, -5.4143, -5.4439, -5.4396, -5.4486, -5.4579, -5.4804, -5.5034, -4.5455, -5.3714, -5.1578, -4.4067, -4.2301, -4.3304, -5.1285, -4.0697, -4.8586, -5.0581, -4.3342, -4.6323, -5.0516, -4.7309, -4.7216, -4.6794, -4.4357, -5.1522, -3.1251, -3.4003, -3.8687, -4.1076, -4.2348, -4.3426, -4.4108, -4.641, -4.6726, -4.6802, -4.756, -4.9477, -5.1144, -5.1399, -5.1446, -5.1447, -5.2623, -5.2808, -5.4244, -5.4775, -5.4792, -5.4914, -5.4967, -5.3059, -5.5177, -5.5606, -5.5811, -5.6017, -5.6424, -5.6548, -4.8739, -4.9057, -4.2643, -5.0017, -3.4433, -4.9156, -5.1426, -4.9715, -5.3212, -4.9969, -5.2058, -4.7157, -4.1169, -5.0545, -4.614, -4.6577, -4.9453, -5.0087, -5.1155, -3.7845, -4.1382, -4.2763, -4.3713, -4.4427, -4.717, -4.7833, -4.8995, -5.0056, -5.0527, -5.0791, -5.1857, -5.2122, -5.3089, -5.3091, -5.4028, -5.4408, -5.4416, -5.4639, -5.2488, -5.5038, -5.5084, -5.5401, -5.5658, -5.5894, -5.6375, -5.6402, -5.647, -5.6539, -5.6699, -4.533, -4.5044, -4.8911, -4.3643, -3.6237, -5.3898, -5.4271, -5.027, -5.3949, -4.8512, -5.2918, -4.8229, -4.5816, -4.2054, -4.6044, -4.7061, -4.5953, -5.0782, -4.3869, -5.0096, -4.8495, -5.0069, -5.1358, -5.0849, -3.7232, -3.7682, -3.7757, -4.1704, -4.2222, -4.2837, -4.3119, -4.3549, -4.477, -4.5534, -4.7259, -4.8049, -4.8257, -4.8773, -4.9483, -4.9665, -4.9679, -4.9702, -5.01, -5.0327, -5.1118, -5.1844, -5.1978, -5.2191, -5.2335, -5.2468, -5.3141, -5.3432, -5.3809, -5.3856, -5.0079, -5.2541, -4.6269, -4.088, -4.3118, -4.76, -5.0027, -4.8597, -4.8408, -3.6247, -3.756, -3.9849, -4.286, -4.3984, -4.416, -4.5455, -4.662, -4.6678, -4.7022, -4.8001, -4.8123, -4.9063, -4.9207, -5.0146, -5.0529, -5.0951, -4.9014, -4.4778, -5.1773, -5.2664, -5.2786, -5.2888, -5.2957, -5.3047, -5.3366, -5.3958, -5.4193, -5.4208, -5.4329, -4.7564, -4.5553, -4.9062, -4.3589, -4.1751, -4.7395, -5.2053, -4.7653, -5.0506, -5.2536, -3.5824, -3.6615, -4.0744, -4.3173, -4.3773, -4.3783, -4.4517, -4.4469, -4.5594, -4.623, -4.6704, -4.7796, -4.8693, -4.8804, -4.9115, -4.8027, -4.9658, -4.9704, -4.9734, -5.0227, -5.0783, -4.6353, -5.127, -5.1343, -5.1537, -5.2003, -5.2096, -5.2297, -5.2438, -5.2619, -3.6503, -5.1467, -4.916, -4.2048, -4.2262, -4.5673, -4.3605, -5.0963, -5.0536, -3.4996, -3.9873, -4.0684, -4.2493, -4.3926, -4.5143, -4.5462, -4.7053, -4.8114, -4.8177, -4.872, -4.3685, -4.9612, -4.9778, -5.0021, -5.0146, -5.132, -5.191, -5.1968, -4.7625, -5.2121, -5.2149, -5.2314, -5.2283, -5.2342, -5.2205, -5.2578, -5.2818, -5.2891, -5.2941, -4.6261, -3.7619, -4.6046, -3.2105, -4.8041, -4.0497, -4.7599, -5.1425, -2.7197, -3.5336, -3.6757, -3.8865, -3.9993, -4.2214, -4.3601, -4.5842, -4.6021, -4.6674, -4.673, -4.721, -4.7494, -4.8034, -4.8165, -4.8309, -4.8522, -4.915, -4.9945, -5.0136, -5.0203, -5.0729, -5.0733, -5.0988, -5.1013, -5.1025, -5.149, -5.1707, -5.2049, -5.23, -3.0835, -4.4951, -4.456, -5.0718, -3.5579, -4.142, -4.1761, -4.3353, -4.4529, -4.4545, -4.5083, -4.5442, -4.5675, -4.5979, -4.643, -4.6498, -4.6557, -4.6596, -4.6822, -4.6967, -4.6975, -4.7163, -4.7474, -4.8087, -4.8129, -4.8499, -4.8584, -4.865, -4.8847, -4.9078, -4.9574, -4.9739, -5.0044, -5.0105], \"loglift\": [30.0, 29.0, 28.0, 27.0, 26.0, 25.0, 24.0, 23.0, 22.0, 21.0, 20.0, 19.0, 18.0, 17.0, 16.0, 15.0, 14.0, 13.0, 12.0, 11.0, 10.0, 9.0, 8.0, 7.0, 6.0, 5.0, 4.0, 3.0, 2.0, 1.0, 1.3543, 1.3543, 1.3542, 1.3541, 1.354, 1.3538, 1.3537, 1.3537, 1.3536, 1.3536, 1.3536, 1.3536, 1.3535, 1.3535, 1.3534, 1.3534, 1.3533, 1.3533, 1.3532, 1.3532, 1.3532, 1.3532, 1.3531, 1.3531, 1.3531, 1.353, 1.353, 1.353, 1.353, 1.3529, 1.3509, 1.3501, 1.3281, 1.3305, 1.3391, 1.3295, 1.3369, 1.3474, 1.1442, 1.217, 1.3332, 1.2378, 1.2133, 1.0698, 1.2205, 1.271, 0.984, 1.1531, 1.0686, 0.6886, 0.6391, 1.1019, 0.8981, 0.9336, 1.0614, 1.0472, 0.965, 1.7458, 1.7457, 1.7457, 1.7455, 1.7454, 1.7452, 1.7452, 1.7452, 1.7451, 1.7449, 1.7449, 1.7449, 1.7448, 1.7448, 1.7447, 1.7447, 1.7447, 1.7446, 1.7446, 1.7446, 1.7445, 1.7445, 1.7445, 1.7444, 1.7444, 1.7444, 1.7444, 1.7444, 1.7443, 1.7443, 1.7441, 1.7442, 1.7386, 1.6842, 1.6581, 1.6499, 1.7053, 1.4471, 1.6118, 1.654, 1.3585, 1.4436, 1.592, 1.3104, 1.2268, 0.8026, -0.2324, 0.9777, 2.1224, 2.1223, 2.1221, 2.122, 2.1219, 2.1218, 2.1218, 2.1215, 2.1215, 2.1215, 2.1214, 2.1211, 2.1208, 2.1208, 2.1208, 2.1208, 2.1205, 2.1205, 2.1201, 2.12, 2.12, 2.12, 2.1199, 2.1199, 2.1199, 2.1198, 2.1197, 2.1196, 2.1195, 2.1195, 2.1162, 2.1118, 2.0827, 2.0709, 1.8641, 2.0241, 2.0578, 2.0179, 2.0869, 1.9971, 2.0454, 1.8329, 1.38, 1.9437, 1.4274, 1.3825, 1.5363, 1.3737, 1.7434, 2.4831, 2.4828, 2.4827, 2.4826, 2.4825, 2.482, 2.4819, 2.4817, 2.4814, 2.4813, 2.4812, 2.4809, 2.4809, 2.4806, 2.4806, 2.4802, 2.4801, 2.4801, 2.48, 2.4799, 2.4799, 2.4798, 2.4797, 2.4796, 2.4795, 2.4793, 2.4793, 2.4792, 2.4792, 2.4791, 2.4787, 2.4759, 2.4588, 2.4172, 2.3274, 2.4573, 2.4582, 2.3832, 2.45, 2.2833, 2.4134, 2.2388, 2.0917, 1.8347, 1.9347, 1.8984, 1.787, 2.194, 1.1298, 1.9469, 1.5918, 1.7769, 1.7692, 0.5466, 2.5605, 2.5605, 2.5605, 2.5601, 2.56, 2.56, 2.5599, 2.5599, 2.5597, 2.5596, 2.5593, 2.5591, 2.5591, 2.5589, 2.5588, 2.5587, 2.5587, 2.5587, 2.5586, 2.5586, 2.5583, 2.5581, 2.5581, 2.558, 2.558, 2.5579, 2.5577, 2.5576, 2.5574, 2.5574, 2.555, 2.5536, 2.5083, 1.9872, 1.8839, 2.1352, 1.9807, 1.2162, -0.6375, 2.586, 2.5859, 2.5857, 2.5853, 2.5852, 2.5851, 2.585, 2.5848, 2.5848, 2.5847, 2.5845, 2.5845, 2.5843, 2.5842, 2.584, 2.5839, 2.5837, 2.5837, 2.5837, 2.5835, 2.5832, 2.5831, 2.5831, 2.5831, 2.5831, 2.583, 2.5827, 2.5826, 2.5826, 2.5826, 2.526, 2.4902, 2.518, 2.1371, 1.8664, 2.1999, 2.3791, 0.9357, 1.7332, 2.1366, 2.6795, 2.6795, 2.6791, 2.6788, 2.6787, 2.6787, 2.6785, 2.6784, 2.6783, 2.6782, 2.6781, 2.6779, 2.6777, 2.6776, 2.6776, 2.6775, 2.6774, 2.6774, 2.6774, 2.6772, 2.6771, 2.677, 2.6769, 2.6769, 2.6768, 2.6767, 2.6766, 2.6765, 2.6765, 2.6764, 2.6703, 2.6763, 2.6727, 1.9939, 1.9695, 2.165, 1.6755, 2.2827, 1.3082, 2.7406, 2.7402, 2.7401, 2.7399, 2.7396, 2.7394, 2.7394, 2.739, 2.7388, 2.7388, 2.7386, 2.7385, 2.7384, 2.7383, 2.7382, 2.7382, 2.7378, 2.7376, 2.7376, 2.7376, 2.7375, 2.7375, 2.7374, 2.7374, 2.7374, 2.7374, 2.7373, 2.7372, 2.7372, 2.7372, 2.7353, 2.7247, 2.7315, 2.421, 2.5883, 1.2578, 0.6085, 1.1037, 3.1879, 3.1873, 3.1871, 3.1868, 3.1866, 3.1862, 3.1858, 3.1852, 3.1851, 3.1849, 3.1849, 3.1847, 3.1846, 3.1844, 3.1844, 3.1843, 3.1842, 3.1839, 3.1836, 3.1835, 3.1834, 3.1832, 3.1832, 3.183, 3.183, 3.183, 3.1827, 3.1826, 3.1823, 3.1823, 3.1449, 2.9068, 2.2762, 1.8782, 3.2769, 3.2759, 3.2756, 3.2754, 3.2751, 3.2751, 3.2749, 3.2748, 3.2747, 3.2746, 3.2744, 3.2744, 3.2744, 3.2744, 3.2743, 3.2742, 3.2742, 3.2741, 3.274, 3.2738, 3.2737, 3.2736, 3.2735, 3.2735, 3.2734, 3.2733, 3.2731, 3.273, 3.2728, 3.2728]}, \"token.table\": {\"Topic\": [7, 2, 7, 9, 2, 7, 5, 10, 2, 8, 4, 10, 9, 9, 10, 10, 2, 4, 2, 5, 3, 9, 1, 3, 4, 5, 7, 8, 6, 1, 1, 2, 4, 5, 6, 10, 3, 9, 5, 1, 3, 9, 10, 5, 2, 1, 4, 7, 2, 8, 6, 10, 2, 3, 7, 7, 1, 2, 5, 7, 8, 2, 3, 3, 4, 2, 2, 8, 3, 4, 9, 6, 8, 9, 3, 3, 1, 10, 2, 9, 2, 7, 8, 9, 4, 5, 1, 2, 3, 5, 7, 8, 9, 4, 3, 9, 10, 1, 3, 4, 5, 6, 4, 6, 8, 8, 1, 1, 1, 2, 2, 3, 6, 9, 3, 1, 10, 1, 2, 3, 4, 7, 8, 2, 7, 2, 7, 9, 6, 3, 4, 2, 7, 3, 1, 2, 5, 9, 9, 1, 3, 4, 6, 7, 1, 3, 8, 6, 10, 6, 1, 3, 7, 2, 3, 4, 6, 7, 1, 5, 1, 6, 1, 3, 5, 2, 6, 9, 3, 1, 2, 1, 1, 3, 6, 7, 8, 9, 5, 10, 9, 8, 1, 2, 3, 4, 7, 3, 4, 10, 5, 1, 2, 3, 4, 7, 3, 6, 8, 5, 8, 3, 4, 6, 8, 9, 5, 1, 2, 1, 2, 3, 4, 10, 3, 3, 4, 6, 1, 7, 3, 3, 6, 4, 3, 1, 2, 5, 6, 4, 8, 9, 4, 5, 4, 2, 1, 3, 5, 1, 3, 3, 6, 10, 1, 2, 5, 2, 3, 4, 9, 5, 6, 4, 5, 8, 8, 6, 7, 5, 6, 6, 6, 5, 8, 6, 2, 9, 4, 7, 2, 5, 4, 9, 4, 10, 7, 1, 3, 8, 5, 7, 3, 4, 1, 2, 4, 5, 6, 4, 10, 1, 2, 1, 1, 4, 2, 1, 10, 1, 3, 4, 6, 7, 8, 2, 4, 4, 4, 1, 5, 4, 9, 8, 10, 3, 4, 1, 1, 8, 6, 3, 5, 5, 7, 5, 6, 4, 2, 7, 2, 10, 4, 8, 3, 6, 1, 1, 1, 4, 7, 8, 4, 8, 7, 3, 6, 6, 4, 5, 1, 4, 3, 6, 3, 8, 4, 4, 8, 7, 3, 6, 3, 6, 7, 1, 2, 7, 8, 9, 10, 3, 8, 8, 8, 1, 7, 8, 3, 1, 2, 5, 4, 9, 4, 6, 9, 10, 1, 7, 10, 3, 4, 10, 2, 7, 4, 5, 7, 6, 10, 7, 5, 5, 5, 4, 3, 8, 7, 9, 1, 3, 7, 1, 3, 8, 5, 3, 9, 1, 2, 1, 1, 8, 1, 10, 3, 4, 8, 1, 7, 5, 5, 4, 7, 5, 7, 1, 2, 4, 5, 6, 7, 8, 6, 5, 3, 10, 3, 4, 3, 1, 3, 5, 8, 3, 1, 2, 5, 3, 10, 3, 8, 10, 1, 3, 6, 7, 2, 8, 6, 2, 1, 2, 4, 5, 6, 3, 4, 2, 4, 7, 6, 3, 7, 6, 5, 4, 9, 6, 8, 5, 2, 5, 6, 7, 7, 9, 3, 4, 6, 6, 9, 1, 7, 2, 4, 9, 2, 1, 9, 2, 5, 7, 9, 8, 10, 9, 6, 10, 10, 7, 1, 2, 3, 4, 5, 7, 8, 7, 1, 5, 2, 3, 4, 6, 1, 2, 5, 4, 10, 8, 3, 8, 1, 2, 3, 1, 3, 3, 9, 8, 4, 6, 6, 7, 5, 1, 8, 10, 1, 2, 3, 5, 5, 7, 3, 4, 7, 1, 5, 4, 2, 3, 4, 9, 3, 2, 3, 4, 5, 7, 9, 6, 4, 1, 5, 1, 5, 3, 6, 8, 9, 10, 1, 2, 4, 4, 1, 2, 4, 7, 8, 6, 10, 3, 3, 9, 2, 3, 3, 1, 1, 7, 3, 1, 9, 1, 2, 3, 4, 9, 2, 7, 2], \"Freq\": [0.9964788588177224, 0.9985942004365298, 0.9989893873290497, 0.9964920577709205, 0.9982327126338564, 0.9958486828868816, 0.9962545183899356, 0.9967963469460602, 0.9979374934414689, 0.997688802113764, 0.9979752191999259, 0.9954747853634882, 0.9970376807577676, 0.9945088200112049, 0.9932032902492746, 0.9935393533807174, 0.9993704028574464, 0.9963037827673947, 0.43615705988618203, 0.5630276373639281, 0.9964553442452017, 0.9975520435074702, 0.8897768244303726, 0.057918751793677635, 0.023891485114892023, 0.0021719531922629112, 0.01592765674326135, 0.009411797166472615, 0.9981306490562276, 0.9983943678949587, 0.5137404340822466, 0.3892290050480565, 0.0714981595294369, 0.014648403415787072, 0.010463145296990765, 0.9959218796400418, 0.9994983178929617, 0.9957928059649772, 0.9988313849063759, 0.9948262661613569, 0.002429368171334205, 0.0012146840856671025, 0.9953308461076337, 0.9990068367337259, 0.9981709317563678, 0.4065282538903813, 0.5771697431777018, 0.01606037546233605, 0.9990515148542062, 0.9966503176573955, 0.9968143308174272, 0.001692384262847924, 0.8569464017768379, 0.13595248506732668, 0.006686187790196394, 0.9987085000866281, 0.33852620803287553, 0.11284206934429183, 0.041423038113727384, 0.5035041701754794, 0.0035709515615282225, 0.9979000204328061, 0.9967714753525339, 0.9646573773025648, 0.033511670675523346, 0.9978855718546316, 0.9985005308427533, 0.9987215768024296, 0.033576818510030054, 0.9041757555915236, 0.059958604482196524, 0.9958061589569983, 0.9964420793137475, 0.9945674618167184, 0.9991740516376694, 0.9990494084806965, 0.9989964721893101, 0.9957457221041536, 0.9985787885012815, 0.9965960233931488, 0.9994488293225666, 0.9945169443975757, 0.9965411927241342, 0.9962851028690676, 0.8552469377955539, 0.14439958076209156, 0.8175553702602526, 0.005740107915568473, 0.1312024666415651, 0.025420477911803237, 0.0073801387485880375, 0.01312024666415651, 0.995713031664464, 0.9983195405265158, 0.9966296350211857, 0.9956628806248038, 0.9983202272070644, 0.874574532127462, 0.07836342599814648, 0.011609396444169848, 0.003869798814723283, 0.030958390517786264, 0.9967127682767174, 0.9982745033856263, 0.9976464239674743, 0.9954874717346536, 0.9986892401044982, 0.99949003339611, 0.039087603020678215, 0.9596680465766514, 0.9975092119478443, 0.9985280953370326, 0.9971649917390817, 0.9939661677679549, 0.9995591049263284, 0.9983721728153526, 0.9970593258786175, 0.013364670353661864, 0.10448742276499276, 0.008909780235774576, 0.14417644381526132, 0.0032399200857362097, 0.725742099204911, 0.9982385681342831, 0.9987198449777979, 0.9989474862636566, 0.6718591888373837, 0.32546811915997825, 0.9946052038922709, 0.9498245511073569, 0.04963047203984387, 0.999370315315272, 0.9976810660149381, 0.9981765003767187, 0.9977867597990759, 0.0027944209470164762, 0.9948138571378655, 0.9957457779653861, 0.9992835950165756, 0.7350020593371903, 0.2354038853637545, 0.026250073547756797, 0.0008467765660566709, 0.0016935531321133417, 0.0008787526855407276, 0.7721306930284526, 0.22671819286950773, 0.9986390406094477, 0.9959663894619997, 0.9977432825989825, 0.9757691888548643, 0.02110164539656306, 0.0029105717788362843, 0.9992392824965971, 0.0794848000513932, 0.4935749680610707, 0.42562828414617004, 0.9960380620101111, 0.4398457705242883, 0.5603729033725808, 0.9980994908611859, 0.9950502751936968, 0.007164991239411951, 0.3396205847481265, 0.6534472010343699, 0.4783900922309897, 0.25130618769096297, 0.2694729000541651, 0.9995050591939069, 0.08376843636521451, 0.9156937200172511, 0.9986473977573697, 0.48888037488018404, 0.47578220408324934, 0.0017700230806668503, 0.025134327745469275, 0.00035400461613337007, 0.007788101554934142, 0.9969963758216379, 0.9981642664237351, 0.9972098521420858, 0.9954372127741651, 0.0011933091789154606, 0.9116882126914119, 0.02147956522047829, 0.0572788405879421, 0.007159855073492763, 0.006242225076506023, 0.9925137871644577, 0.9931633668986704, 0.9981995677638628, 0.11166211434587332, 0.6467860175225449, 0.004271228417601711, 0.09701790262838174, 0.13973018680439886, 0.9373085245267537, 0.06028332834093229, 0.9966034800182874, 0.13901415499749373, 0.8576466511709783, 0.7488217050510059, 0.2249504986756743, 0.026345553898952843, 0.9990339108097831, 0.9984411960489787, 0.9964120267032524, 0.9997137702849782, 0.9989183248011898, 0.7761743065232215, 0.012950628028752305, 0.07943051857634748, 0.11051202584535301, 0.02072100484600369, 0.99810565751996, 0.3202824638961551, 0.6761518682252163, 0.002295931640832653, 0.6336214615885672, 0.3659710166071897, 0.9987964091987324, 0.8826911319741853, 0.1170593974302683, 0.9963030886786626, 0.9955461717349704, 0.08238721712315872, 0.014979494022392495, 0.22319446093364817, 0.67857107921438, 0.9962039382630936, 0.9966822232484699, 0.9976411560993433, 0.9942547834140377, 0.9984557043579676, 0.9960153597860719, 0.9980646773702888, 0.9958229680382462, 0.0034103526302679665, 0.996629465799724, 0.9986574089871537, 0.998722075089823, 0.08993702798382544, 0.9076977824293494, 0.9977466906984066, 0.6563789964467616, 0.3423414067710009, 0.0006739004070295293, 0.9976150816145587, 0.8356039763061166, 0.1540942693948542, 0.00794300357705434, 0.9984426623884649, 0.9986617028495471, 0.9758646499476707, 0.023143035176624603, 0.996623063206137, 0.9953947333657507, 0.9978682421329884, 0.9982888986736977, 0.9974681015246428, 0.9988334094100323, 0.9986122802306892, 0.9996081507432398, 0.9991223150121695, 0.9979779576422179, 0.9972900307491025, 0.9986698865350578, 0.9962036303706131, 0.9959565047421575, 0.9982211079478289, 0.7390550903483253, 0.2602484591653932, 0.998120152623515, 0.9990130436171909, 0.9958615242262006, 0.9963938334953064, 0.99951591393274, 0.998229086009482, 0.01619148074705395, 0.9838705653945136, 0.008874191265211363, 0.9898756984013038, 0.47719451084055975, 0.5222933534998209, 0.31599503710914223, 0.4639927127172215, 0.11533152198287258, 0.037999403196669, 0.06733227583971174, 0.9981404513846223, 0.9960629853511782, 0.0015641136420204702, 0.99790450360906, 0.9991875203069552, 0.9992657263662026, 0.9992659068969866, 0.9989702880370017, 0.9976507527386763, 0.9954352220577373, 0.6903214823161716, 0.026918196165787826, 0.08639872640309318, 0.19190068879480998, 0.00043416445428690043, 0.003907480088582104, 0.7413488988669862, 0.25819019127613013, 0.9982362058973169, 0.9992260105521635, 0.9926675620047405, 0.00503892163454183, 0.9755777561985474, 0.022582818430521928, 0.9948712374510466, 0.9937208568523364, 0.44255985790309693, 0.557218223025691, 0.9993109799623217, 0.9974416089885488, 0.9989305120173285, 0.9991457884517685, 0.9971939288640124, 0.9970432556032752, 0.9977761070974097, 0.9996294434651427, 0.9965141886553799, 0.9989999642104712, 0.9968109923738879, 0.9989437358149379, 0.9956857190734714, 0.9991207340508447, 0.9944173800977083, 0.9955856263003913, 0.9941334731554702, 0.05698721067474465, 0.9413442948494858, 0.9973728022003795, 0.9986714258571013, 0.8710393405658461, 0.0009339235245523725, 0.009027927404006268, 0.1186082876181513, 0.7820824397532564, 0.2166808491091273, 0.9988761919574545, 0.06323741317860243, 0.9339679484839744, 0.9967514123247576, 0.9945135927928075, 0.9973144287009769, 0.9974871326372242, 0.9979287529248058, 0.6840604280954666, 0.31508237900154823, 0.9995385369933916, 0.9950952830893096, 0.9961410587089031, 0.996048003811559, 0.9985922987342571, 0.998254279442119, 0.36152040095670446, 0.6374681538146145, 0.18557985840670088, 0.8136963022447654, 0.9981058891304316, 0.9789100519856914, 0.014831970484631687, 0.005932788193852675, 0.04193353231843048, 0.9571144832680359, 0.9962098580101508, 0.001771309823032823, 0.9972474303674793, 0.9948973959728186, 0.9948639672670131, 0.8677316545215571, 0.007791876081418064, 0.12325331256061302, 0.9974729624124964, 0.7519820484196701, 0.23461187077661982, 0.013056660634524929, 0.9933494746651844, 0.991654688895968, 0.997248141465023, 0.9964306417117877, 0.9960536051368876, 0.9975152806535169, 0.7456975009772124, 0.25389024272279387, 0.9967208933428271, 0.41294529883911457, 0.5851328219712915, 0.001523783390550238, 0.9993185894968142, 0.9980408009416439, 0.9990330092865304, 0.9990889208216427, 0.9980892959248627, 0.9979488284147529, 0.9982329515469257, 0.9966275604864251, 0.9984751934413019, 0.9963623317788557, 0.9949729245151037, 0.9972158158337231, 0.9895571206500555, 0.009717418533388434, 0.9969385266499146, 0.9960220513687819, 0.9973818195965124, 0.9983957567098024, 0.9972262577464208, 0.4425407953745588, 0.5562557749140601, 0.9962252532481535, 0.9975863348055116, 0.24261394298675665, 0.7540060777137437, 0.005739292699326771, 0.9928976369835314, 0.9989341152711443, 0.9988758108503143, 0.9964350464378364, 0.9975860925222961, 0.9936333195537986, 0.9006712239339097, 0.09762520259423497, 0.9973679250777976, 0.9826513121327253, 0.017370098951841103, 0.9982571198692799, 0.9990850802646496, 0.9668639645364312, 0.0296356770739136, 0.9921993146480209, 0.0035690622829065498, 0.8100863875279103, 0.13826717198127103, 0.003495518392784942, 0.04078104791582433, 9.709773313291506e-05, 0.007185232251835714, 0.00019419546626583012, 0.9978319678028318, 0.9983872716782185, 0.99812969508747, 0.9963065381913151, 0.2507323382288657, 0.7480181423827826, 0.9979054044336716, 0.0016566849791588459, 0.9608772879121307, 0.002485027468738269, 0.03479038456233576, 0.9976365747066683, 0.9750001149181413, 0.02222497784253444, 0.0019326067689160382, 0.9961624396920363, 0.9968876346926155, 0.006681561228607414, 0.9910982489100998, 0.0022271870762024712, 0.6770792623486286, 0.2512382793779042, 0.011850862234806803, 0.05925431117403401, 0.004568529724446842, 0.9936552150671881, 0.997901787024561, 0.9979716852658966, 0.05129324954006912, 0.9399487978217667, 0.007693987431010368, 0.000641165619250864, 0.000641165619250864, 0.9064912369364517, 0.09289662262819837, 0.02227576678822201, 0.9727084830856946, 0.9976058006994107, 0.9990828004747999, 0.9975998507100755, 0.9946649108473106, 0.9981106002058, 0.997063375244496, 0.9964252378709871, 0.9992148714616285, 0.9976143550671336, 0.9944372903242495, 0.9970566436046495, 0.10814847336138625, 0.14811638742972466, 0.6371355713246886, 0.10579741959266047, 0.9966302455962578, 0.9951462495712557, 0.358897629133461, 0.48914273648028156, 0.15050545737854817, 0.9940980427622109, 0.9983265410104134, 0.005734503943581752, 0.9920691822396431, 0.5361490018786964, 0.40962147851513303, 0.05279565723083937, 0.9982641126472537, 0.9990130979702401, 0.9986171487600627, 0.9985844040201663, 0.5076691602662252, 0.4912927357415083, 0.9930513509349187, 0.9990585604732171, 0.9967100329922902, 0.997042488644648, 0.9961581660043132, 0.997499743529619, 0.9945875492341921, 0.9965672557546293, 0.09386374691788513, 0.6785746107458117, 0.15500435270843416, 0.00904192057465866, 0.0004305676464123171, 0.022389517613440487, 0.0404733587627578, 0.999038843212149, 0.9982861108051725, 0.996481655046977, 0.005148805944815967, 0.472832012598933, 0.4985760423230128, 0.023169626751671852, 0.39977900687342055, 0.5949423328992489, 0.005004187846816113, 0.9953252415614738, 0.996588280107308, 0.9987660218750697, 0.9943012633118177, 0.004727264326363634, 0.032797627960084626, 0.8742910539073987, 0.0927704333728108, 0.7512346197763058, 0.2484280821834516, 0.9986400787000996, 0.9934105614626857, 0.9981397830847679, 0.9951673827323649, 0.0032206064166095953, 0.997477665856396, 0.9976662969155224, 0.9969995491909799, 0.9996738175391889, 0.9971787694418918, 0.002624154656426031, 0.021239452239069853, 0.9081300930326623, 0.07003278846396005, 0.9996359371409166, 0.9982795621452333, 0.995569575109098, 0.06395419484754652, 0.9350103286711302, 0.9981766711434095, 0.9190543691143274, 0.07914735569493565, 0.9977573117846275, 0.023665943536531172, 0.1565593187801293, 0.8173852806078844, 0.9947779169990166, 0.9985824928296935, 0.999082949242125, 0.9990046843393142, 0.04919047347036894, 0.9491939510393413, 0.5978555606430677, 0.4018173829169294, 0.9996184463847179, 0.9971454860610235, 0.9989195931912548, 0.9995231673425637, 0.983919778576259, 0.014294234071325797, 0.49918159643808346, 0.486366420979404, 0.0006102464504133049, 0.0042717251528931344, 0.008543450305786269, 0.99756158880341, 0.06443375127987727, 0.9310677059942266, 0.9952099311241208, 0.3504782837514391, 0.26660313892203485, 0.1872213054227773, 0.0014977704433822181, 0.19471015763968838, 0.9969372647769952, 0.9941093020192066, 0.9997466421384442, 0.9247135475283368, 0.07364975157305337, 0.999437244409747, 0.998433167930468, 0.9966216336113939, 0.9985795766173998, 0.002174860675499303, 0.9960861893786808, 0.9996421422558759, 0.9982792024117758, 0.9920417700348063, 0.973689258649212, 0.022142902624475012, 0.002094598896909798, 0.0008976852415327707, 0.0008976852415327707, 0.9989728447479137, 0.996149318187616, 0.997964138122217], \"Term\": [\"able\", \"accuse\", \"action\", \"africa\", \"age\", \"agree\", \"aid\", \"airport\", \"allegation\", \"american\", \"analysis\", \"andy\", \"anfield\", \"announcement\", \"answer\", \"appeal\", \"arrest\", \"artist\", \"attack\", \"attack\", \"australia\", \"award\", \"back\", \"back\", \"back\", \"back\", \"back\", \"back\", \"band\", \"bank\", \"bbc\", \"bbc\", \"bbc\", \"bbc\", \"bbc\", \"bear\", \"beat\", \"belfast\", \"biden\", \"big\", \"big\", \"big\", \"birth\", \"boat\", \"body\", \"boss\", \"boss\", \"boss\", \"boy\", \"brand\", \"britain\", \"britain\", \"british\", \"british\", \"british\", \"budget\", \"call\", \"call\", \"call\", \"call\", \"call\", \"cancer\", \"candidate\", \"captain\", \"captain\", \"car\", \"care\", \"ceasefire\", \"celebrate\", \"celebrate\", \"celebrate\", \"centre\", \"century\", \"ceremony\", \"champion\", \"championship\", \"change\", \"chant\", \"charge\", \"chef\", \"child\", \"china\", \"choose\", \"christmas\", \"city\", \"city\", \"claim\", \"claim\", \"claim\", \"claim\", \"claim\", \"claim\", \"climate\", \"club\", \"coach\", \"cocaine\", \"collapse\", \"come\", \"come\", \"come\", \"come\", \"come\", \"conference\", \"confirm\", \"conservative\", \"consider\", \"cost\", \"could\", \"court\", \"court\", \"crash\", \"crossing\", \"crowd\", \"crown\", \"cup\", \"cut\", \"dad\", \"day\", \"day\", \"day\", \"day\", \"day\", \"day\", \"dead\", \"deal\", \"death\", \"debate\", \"debate\", \"decade\", \"defeat\", \"defeat\", \"die\", \"door\", \"draw\", \"due\", \"east\", \"east\", \"economy\", \"election\", \"end\", \"end\", \"end\", \"end\", \"end\", \"england\", \"england\", \"england\", \"euro\", \"european\", \"event\", \"face\", \"face\", \"face\", \"family\", \"fan\", \"fan\", \"fan\", \"farage\", \"fear\", \"fear\", \"feel\", \"festival\", \"fight\", \"fight\", \"fight\", \"film\", \"film\", \"film\", \"final\", \"find\", \"find\", \"firm\", \"first\", \"first\", \"first\", \"first\", \"first\", \"first\", \"flee\", \"flight\", \"flood\", \"focus\", \"follow\", \"follow\", \"follow\", \"follow\", \"follow\", \"football\", \"football\", \"footballer\", \"force\", \"former\", \"former\", \"former\", \"former\", \"former\", \"france\", \"france\", \"fraud\", \"front\", \"front\", \"game\", \"game\", \"game\", \"gaza\", \"general\", \"georgias\", \"get\", \"girl\", \"give\", \"give\", \"give\", \"give\", \"give\", \"gold\", \"good\", \"good\", \"good\", \"government\", \"government\", \"grand\", \"great\", \"great\", \"gregg\", \"griffith\", \"group\", \"group\", \"group\", \"group\", \"guardiola\", \"guide\", \"guilty\", \"hag\", \"hamas\", \"harry\", \"hear\", \"help\", \"help\", \"hezbollah\", \"high\", \"highlight\", \"history\", \"history\", \"holiday\", \"home\", \"home\", \"home\", \"hospital\", \"host\", \"host\", \"host\", \"hostage\", \"hundred\", \"husband\", \"husband\", \"india\", \"indian\", \"injure\", \"investigation\", \"iran\", \"ireland\", \"irish\", \"israel\", \"israeli\", \"italian\", \"italy\", \"jail\", \"journey\", \"jurgen\", \"keir\", \"kill\", \"kill\", \"killer\", \"king\", \"klopp\", \"korea\", \"labour\", \"law\", \"lead\", \"lead\", \"leader\", \"leader\", \"league\", \"league\", \"leave\", \"leave\", \"leave\", \"leave\", \"leave\", \"lebanon\", \"letby\", \"life\", \"life\", \"like\", \"live\", \"liverpool\", \"london\", \"long\", \"lucy\", \"make\", \"make\", \"make\", \"make\", \"make\", \"make\", \"man\", \"man\", \"manager\", \"manchester\", \"many\", \"many\", \"mark\", \"mark\", \"martial\", \"mason\", \"match\", \"match\", \"may\", \"mean\", \"medal\", \"medium\", \"men\", \"migrant\", \"military\", \"minister\", \"missile\", \"moment\", \"morning\", \"mother\", \"mp\", \"murder\", \"murray\", \"music\", \"musk\", \"nation\", \"nation\", \"national\", \"need\", \"new\", \"new\", \"new\", \"new\", \"news\", \"news\", \"nhs\", \"night\", \"night\", \"northern\", \"nottingham\", \"october\", \"office\", \"officer\", \"olympic\", \"olympic\", \"open\", \"page\", \"pain\", \"palace\", \"paper\", \"paralympic\", \"paris\", \"paris\", \"park\", \"park\", \"parliament\", \"part\", \"part\", \"part\", \"party\", \"party\", \"pass\", \"past\", \"past\", \"path\", \"paul\", \"pay\", \"pay\", \"pay\", \"penalty\", \"people\", \"people\", \"people\", \"pep\", \"personality\", \"phil\", \"pick\", \"pie\", \"pitch\", \"plan\", \"plan\", \"plane\", \"player\", \"player\", \"player\", \"police\", \"political\", \"premier\", \"president\", \"prime\", \"princess\", \"prison\", \"promise\", \"protest\", \"protester\", \"putin\", \"queen\", \"race\", \"race\", \"rail\", \"rain\", \"raise\", \"reach\", \"rebel\", \"record\", \"record\", \"reform\", \"resident\", \"result\", \"result\", \"reveal\", \"reveal\", \"right\", \"rise\", \"rishi\", \"risk\", \"rock\", \"round\", \"round\", \"row\", \"rule\", \"rule\", \"russia\", \"russian\", \"sack\", \"sack\", \"safe\", \"safe\", \"say\", \"say\", \"say\", \"say\", \"say\", \"say\", \"say\", \"scene\", \"school\", \"score\", \"sea\", \"season\", \"season\", \"seat\", \"second\", \"second\", \"second\", \"second\", \"secure\", \"see\", \"see\", \"see\", \"semifinal\", \"sentence\", \"series\", \"series\", \"series\", \"set\", \"set\", \"set\", \"set\", \"seven\", \"seven\", \"shock\", \"shoot\", \"show\", \"show\", \"show\", \"show\", \"show\", \"side\", \"side\", \"singer\", \"singer\", \"sir\", \"six\", \"snooker\", \"snp\", \"social\", \"soldier\", \"song\", \"south\", \"southern\", \"southgate\", \"spain\", \"spark\", \"spark\", \"spark\", \"spark\", \"speech\", \"spending\", \"sport\", \"sport\", \"sport\", \"squad\", \"stab\", \"staff\", \"staff\", \"star\", \"star\", \"star\", \"starmer\", \"still\", \"storm\", \"street\", \"strike\", \"strike\", \"strong\", \"sunak\", \"super\", \"survive\", \"suspect\", \"suspend\", \"syria\", \"tackle\", \"take\", \"take\", \"take\", \"take\", \"take\", \"take\", \"take\", \"talk\", \"tax\", \"teacher\", \"team\", \"team\", \"team\", \"team\", \"tell\", \"tell\", \"tell\", \"ten\", \"term\", \"test\", \"third\", \"third\", \"three\", \"three\", \"three\", \"time\", \"time\", \"title\", \"tonne\", \"tory\", \"tour\", \"tour\", \"tournament\", \"train\", \"troop\", \"trump\", \"tuesday\", \"tuesday\", \"two\", \"two\", \"two\", \"ukraine\", \"ukrainian\", \"union\", \"united\", \"united\", \"urge\", \"use\", \"use\", \"utd\", \"van\", \"van\", \"van\", \"verdict\", \"verstappen\", \"victim\", \"victory\", \"visit\", \"visit\", \"vote\", \"vote\", \"wale\", \"wallace\", \"want\", \"war\", \"warn\", \"warn\", \"watch\", \"watch\", \"watch\", \"watch\", \"watch\", \"way\", \"wear\", \"wear\", \"wedding\", \"week\", \"week\", \"week\", \"week\", \"week\", \"welsh\", \"wimbledon\", \"win\", \"winner\", \"winner\", \"woman\", \"women\", \"womens\", \"work\", \"worker\", \"worker\", \"world\", \"would\", \"wrong\", \"year\", \"year\", \"year\", \"year\", \"year\", \"yearold\", \"yet\", \"young\"]}, \"R\": 30, \"lambda.step\": 0.01, \"plot.opts\": {\"xlab\": \"PC1\", \"ylab\": \"PC2\"}, \"topic.order\": [4, 1, 7, 9, 3, 8, 5, 2, 10, 6]};\n",
       "\n",
       "function LDAvis_load_lib(url, callback){\n",
       "  var s = document.createElement('script');\n",
       "  s.src = url;\n",
       "  s.async = true;\n",
       "  s.onreadystatechange = s.onload = callback;\n",
       "  s.onerror = function(){console.warn(\"failed to load library \" + url);};\n",
       "  document.getElementsByTagName(\"head\")[0].appendChild(s);\n",
       "}\n",
       "\n",
       "if(typeof(LDAvis) !== \"undefined\"){\n",
       "   // already loaded: just create the visualization\n",
       "   !function(LDAvis){\n",
       "       new LDAvis(\"#\" + \"ldavis_el131340502075758242596253768\", ldavis_el131340502075758242596253768_data);\n",
       "   }(LDAvis);\n",
       "}else if(typeof define === \"function\" && define.amd){\n",
       "   // require.js is available: use it to load d3/LDAvis\n",
       "   require.config({paths: {d3: \"https://d3js.org/d3.v5\"}});\n",
       "   require([\"d3\"], function(d3){\n",
       "      window.d3 = d3;\n",
       "      LDAvis_load_lib(\"https://cdn.jsdelivr.net/gh/bmabey/pyLDAvis@3.4.0/pyLDAvis/js/ldavis.v3.0.0.js\", function(){\n",
       "        new LDAvis(\"#\" + \"ldavis_el131340502075758242596253768\", ldavis_el131340502075758242596253768_data);\n",
       "      });\n",
       "    });\n",
       "}else{\n",
       "    // require.js not available: dynamically load d3 & LDAvis\n",
       "    LDAvis_load_lib(\"https://d3js.org/d3.v5.js\", function(){\n",
       "         LDAvis_load_lib(\"https://cdn.jsdelivr.net/gh/bmabey/pyLDAvis@3.4.0/pyLDAvis/js/ldavis.v3.0.0.js\", function(){\n",
       "                 new LDAvis(\"#\" + \"ldavis_el131340502075758242596253768\", ldavis_el131340502075758242596253768_data);\n",
       "            })\n",
       "         });\n",
       "}\n",
       "</script>"
      ],
      "text/plain": [
       "PreparedData(topic_coordinates=              x         y  topics  cluster       Freq\n",
       "topic                                                \n",
       "3     -0.219990 -0.077741       1        1  25.798587\n",
       "0     -0.204778 -0.089650       2        1  17.443741\n",
       "6     -0.098891  0.245178       3        1  11.971016\n",
       "8     -0.067558  0.221357       4        1   8.342238\n",
       "2     -0.086693 -0.229205       5        1   7.720897\n",
       "7      0.071738  0.155565       6        1   7.526946\n",
       "4      0.041999 -0.187392       7        1   6.854679\n",
       "1      0.062628  0.052987       8        1   6.448513\n",
       "9      0.227350 -0.047812       9        1   4.123590\n",
       "5      0.274196 -0.043286      10        1   3.769794, topic_info=          Term          Freq         Total Category  logprob  loglift\n",
       "467        win   3624.000000   3624.000000  Default  30.0000  30.0000\n",
       "10         say  10298.000000  10298.000000  Default  29.0000  29.0000\n",
       "962   election   1873.000000   1873.000000  Default  28.0000  28.0000\n",
       "41       world   2752.000000   2752.000000  Default  27.0000  27.0000\n",
       "440    england   3413.000000   3413.000000  Default  26.0000  26.0000\n",
       "...        ...           ...           ...      ...      ...      ...\n",
       "818       andy    191.940519    192.872791  Topic10  -4.9078   3.2733\n",
       "2262   airport    182.655884    183.588153  Topic10  -4.9574   3.2731\n",
       "1080     plane    179.659913    180.592181  Topic10  -4.9739   3.2730\n",
       "341     answer    174.258393    175.190720  Topic10  -5.0044   3.2728\n",
       "1069    appeal    173.192634    174.124960  Topic10  -5.0105   3.2728\n",
       "\n",
       "[458 rows x 6 columns], token_table=      Topic      Freq     Term\n",
       "term                          \n",
       "2279      7  0.996479     able\n",
       "672       2  0.998594   accuse\n",
       "1236      7  0.998989   action\n",
       "2070      9  0.996492   africa\n",
       "3019      2  0.998233      age\n",
       "...     ...       ...      ...\n",
       "312       4  0.000898     year\n",
       "312       9  0.000898     year\n",
       "168       2  0.998973  yearold\n",
       "2487      7  0.996149      yet\n",
       "53        2  0.997964    young\n",
       "\n",
       "[625 rows x 3 columns], R=30, lambda_step=0.01, plot_opts={'xlab': 'PC1', 'ylab': 'PC2'}, topic_order=[4, 1, 7, 9, 3, 8, 5, 2, 10, 6])"
      ]
     },
     "execution_count": 20,
     "metadata": {},
     "output_type": "execute_result"
    }
   ],
   "source": [
    "#Visualization\n",
    "import pyLDAvis\n",
    "import pyLDAvis.gensim_models as gensimvis\n",
    "\n",
    "pyLDAvis.enable_notebook()\n",
    "vis = gensimvis.prepare(lda, corpus, id2word)\n",
    "vis"
   ]
  },
  {
   "cell_type": "code",
   "execution_count": 21,
   "id": "0c67608c",
   "metadata": {
    "execution": {
     "iopub.execute_input": "2025-08-25T05:51:28.587788Z",
     "iopub.status.busy": "2025-08-25T05:51:28.586581Z",
     "iopub.status.idle": "2025-08-25T05:51:28.595751Z",
     "shell.execute_reply": "2025-08-25T05:51:28.594573Z"
    },
    "papermill": {
     "duration": 0.018651,
     "end_time": "2025-08-25T05:51:28.597371",
     "exception": false,
     "start_time": "2025-08-25T05:51:28.578720",
     "status": "completed"
    },
    "tags": []
   },
   "outputs": [
    {
     "name": "stdout",
     "output_type": "stream",
     "text": [
      "Topic 0: 0.019*\"die\" + 0.017*\"man\" + 0.016*\"police\" + 0.015*\"woman\" + 0.015*\"find\" + 0.013*\"two\" + 0.013*\"take\" + 0.012*\"show\" + 0.012*\"say\" + 0.011*\"death\"\n",
      "Topic 1: 0.040*\"day\" + 0.030*\"gaza\" + 0.023*\"lead\" + 0.019*\"paper\" + 0.017*\"england\" + 0.017*\"test\" + 0.014*\"tory\" + 0.013*\"past\" + 0.012*\"sunak\" + 0.011*\"medal\"\n",
      "Topic 2: 0.024*\"president\" + 0.023*\"war\" + 0.023*\"ukraine\" + 0.017*\"attack\" + 0.015*\"israeli\" + 0.015*\"school\" + 0.014*\"russian\" + 0.013*\"strike\" + 0.013*\"russia\" + 0.013*\"force\"\n",
      "Topic 3: 0.047*\"say\" + 0.018*\"year\" + 0.016*\"new\" + 0.010*\"people\" + 0.009*\"get\" + 0.009*\"could\" + 0.009*\"make\" + 0.008*\"trump\" + 0.008*\"bbc\" + 0.008*\"first\"\n",
      "Topic 4: 0.028*\"minister\" + 0.026*\"leader\" + 0.026*\"labour\" + 0.017*\"budget\" + 0.015*\"call\" + 0.015*\"strike\" + 0.013*\"deal\" + 0.013*\"government\" + 0.013*\"prime\" + 0.013*\"talk\"\n",
      "Topic 5: 0.028*\"collapse\" + 0.016*\"prison\" + 0.015*\"pitch\" + 0.013*\"term\" + 0.012*\"birth\" + 0.012*\"sentence\" + 0.011*\"letby\" + 0.011*\"sea\" + 0.010*\"suspend\" + 0.010*\"holiday\"\n",
      "Topic 6: 0.044*\"win\" + 0.033*\"world\" + 0.032*\"england\" + 0.021*\"cup\" + 0.016*\"final\" + 0.016*\"first\" + 0.014*\"beat\" + 0.014*\"second\" + 0.013*\"open\" + 0.012*\"champion\"\n",
      "Topic 7: 0.027*\"israel\" + 0.023*\"wale\" + 0.019*\"euro\" + 0.015*\"watch\" + 0.014*\"six\" + 0.013*\"paris\" + 0.012*\"ireland\" + 0.012*\"moment\" + 0.011*\"britain\" + 0.011*\"medium\"\n",
      "Topic 8: 0.027*\"city\" + 0.023*\"manchester\" + 0.016*\"premier\" + 0.015*\"league\" + 0.014*\"liverpool\" + 0.013*\"united\" + 0.013*\"club\" + 0.012*\"man\" + 0.012*\"manager\" + 0.011*\"football\"\n",
      "Topic 9: 0.066*\"election\" + 0.046*\"party\" + 0.029*\"south\" + 0.025*\"king\" + 0.021*\"general\" + 0.018*\"storm\" + 0.015*\"award\" + 0.013*\"flood\" + 0.012*\"vote\" + 0.011*\"result\"\n"
     ]
    }
   ],
   "source": [
    "topics = lda.print_topics(num_words=10)\n",
    "for idx, topic in topics:\n",
    "    print(f\"Topic {idx}: {topic}\")"
   ]
  },
  {
   "cell_type": "markdown",
   "id": "108c352b",
   "metadata": {
    "papermill": {
     "duration": 0.006145,
     "end_time": "2025-08-25T05:51:28.610392",
     "exception": false,
     "start_time": "2025-08-25T05:51:28.604247",
     "status": "completed"
    },
    "tags": []
   },
   "source": [
    "it shows what my model has learned we can see in topic 0 it leans die, man , police, woman etc and so on 10 topics. sicne it is unigram so only 1 word"
   ]
  },
  {
   "cell_type": "code",
   "execution_count": 22,
   "id": "44469f6a",
   "metadata": {
    "execution": {
     "iopub.execute_input": "2025-08-25T05:51:28.624407Z",
     "iopub.status.busy": "2025-08-25T05:51:28.624096Z",
     "iopub.status.idle": "2025-08-25T05:51:31.275383Z",
     "shell.execute_reply": "2025-08-25T05:51:31.274280Z"
    },
    "papermill": {
     "duration": 2.660269,
     "end_time": "2025-08-25T05:51:31.276949",
     "exception": false,
     "start_time": "2025-08-25T05:51:28.616680",
     "status": "completed"
    },
    "tags": []
   },
   "outputs": [
    {
     "name": "stdout",
     "output_type": "stream",
     "text": [
      "Topic 0: world, cup, england, final, women, 2022, win, australia, wales, euro\n",
      "Topic 1: uk, says, election, sunak, new, papers, minister, labour, government, rishi\n",
      "Topic 2: ukraine, war, russia, russian, putin, invasion, ukrainian, kyiv, says, president\n",
      "Topic 3: league, manchester, city, premier, united, liverpool, champions, win, man, arsenal\n",
      "Topic 4: israel, police, gaza, year, hamas, people, killed, old, say, attack\n"
     ]
    }
   ],
   "source": [
    "#Compare with NMF\n",
    "\n",
    "from sklearn.feature_extraction.text import TfidfVectorizer\n",
    "from sklearn.decomposition import NMF\n",
    "\n",
    "vectorizer = TfidfVectorizer(max_df=0.95, min_df=2, stop_words='english')\n",
    "tfidf = vectorizer.fit_transform(df['text'])  \n",
    "\n",
    "nmf = NMF(n_components=5, random_state=42)\n",
    "nmf_topics = nmf.fit_transform(tfidf)\n",
    "\n",
    "feature_names = vectorizer.get_feature_names_out()\n",
    "for topic_idx, topic in enumerate(nmf.components_):\n",
    "    top_words = [feature_names[i] for i in topic.argsort()[:-11:-1]]\n",
    "    print(f\"Topic {topic_idx}: {', '.join(top_words)}\")\n"
   ]
  },
  {
   "cell_type": "markdown",
   "id": "29e249f9",
   "metadata": {
    "papermill": {
     "duration": 0.006301,
     "end_time": "2025-08-25T05:51:31.289979",
     "exception": false,
     "start_time": "2025-08-25T05:51:31.283678",
     "status": "completed"
    },
    "tags": []
   },
   "source": [
    "now we can see the difference using NMF it extract words like word, cup , england but using LDA it extract words like die, man, police, women this shows each topic is tight and interpretable, with clear themes like crime, war, politics, sports, Israel/Gaza, etc.in LDA while in NMF it more focus on politics and sports etc."
   ]
  },
  {
   "cell_type": "code",
   "execution_count": null,
   "id": "6e664651",
   "metadata": {
    "papermill": {
     "duration": 0.006133,
     "end_time": "2025-08-25T05:51:31.302597",
     "exception": false,
     "start_time": "2025-08-25T05:51:31.296464",
     "status": "completed"
    },
    "tags": []
   },
   "outputs": [],
   "source": []
  }
 ],
 "metadata": {
  "kaggle": {
   "accelerator": "none",
   "dataSources": [
    {
     "datasetId": 1977878,
     "sourceId": 10093095,
     "sourceType": "datasetVersion"
    }
   ],
   "dockerImageVersionId": 31089,
   "isGpuEnabled": false,
   "isInternetEnabled": true,
   "language": "python",
   "sourceType": "notebook"
  },
  "kernelspec": {
   "display_name": "Python 3",
   "language": "python",
   "name": "python3"
  },
  "language_info": {
   "codemirror_mode": {
    "name": "ipython",
    "version": 3
   },
   "file_extension": ".py",
   "mimetype": "text/x-python",
   "name": "python",
   "nbconvert_exporter": "python",
   "pygments_lexer": "ipython3",
   "version": "3.11.13"
  },
  "papermill": {
   "default_parameters": {},
   "duration": 568.924366,
   "end_time": "2025-08-25T05:51:34.030831",
   "environment_variables": {},
   "exception": null,
   "input_path": "__notebook__.ipynb",
   "output_path": "__notebook__.ipynb",
   "parameters": {},
   "start_time": "2025-08-25T05:42:05.106465",
   "version": "2.6.0"
  }
 },
 "nbformat": 4,
 "nbformat_minor": 5
}
