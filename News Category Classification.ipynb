{
 "cells": [
  {
   "cell_type": "code",
   "execution_count": 1,
   "id": "2103facd",
   "metadata": {
    "_cell_guid": "b1076dfc-b9ad-4769-8c92-a6c4dae69d19",
    "_uuid": "8f2839f25d086af736a60e9eeb907d3b93b6e0e5",
    "execution": {
     "iopub.execute_input": "2025-08-23T07:10:37.892656Z",
     "iopub.status.busy": "2025-08-23T07:10:37.892286Z",
     "iopub.status.idle": "2025-08-23T07:10:40.111270Z",
     "shell.execute_reply": "2025-08-23T07:10:40.109620Z"
    },
    "papermill": {
     "duration": 2.227694,
     "end_time": "2025-08-23T07:10:40.113213",
     "exception": false,
     "start_time": "2025-08-23T07:10:37.885519",
     "status": "completed"
    },
    "tags": []
   },
   "outputs": [
    {
     "name": "stdout",
     "output_type": "stream",
     "text": [
      "/kaggle/input/new-dataset-for-text-classification-ag-news/train.csv\n",
      "/kaggle/input/new-dataset-for-text-classification-ag-news/test.csv\n"
     ]
    }
   ],
   "source": [
    "# This Python 3 environment comes with many helpful analytics libraries installed\n",
    "# It is defined by the kaggle/python Docker image: https://github.com/kaggle/docker-python\n",
    "# For example, here's several helpful packages to load\n",
    "\n",
    "import numpy as np # linear algebra\n",
    "import pandas as pd # data processing, CSV file I/O (e.g. pd.read_csv)\n",
    "\n",
    "# Input data files are available in the read-only \"../input/\" directory\n",
    "# For example, running this (by clicking run or pressing Shift+Enter) will list all files under the input directory\n",
    "\n",
    "import os\n",
    "for dirname, _, filenames in os.walk('/kaggle/input'):\n",
    "    for filename in filenames:\n",
    "        print(os.path.join(dirname, filename))\n",
    "\n",
    "# You can write up to 20GB to the current directory (/kaggle/working/) that gets preserved as output when you create a version using \"Save & Run All\" \n",
    "# You can also write temporary files to /kaggle/temp/, but they won't be saved outside of the current session"
   ]
  },
  {
   "cell_type": "markdown",
   "id": "439f37f2",
   "metadata": {},
   "source": [
    "# Task : News Category Classification"
   ]
  },
  {
   "cell_type": "code",
   "execution_count": 2,
   "id": "f76f6a75",
   "metadata": {
    "execution": {
     "iopub.execute_input": "2025-08-23T07:10:40.125935Z",
     "iopub.status.busy": "2025-08-23T07:10:40.125417Z",
     "iopub.status.idle": "2025-08-23T07:10:40.957101Z",
     "shell.execute_reply": "2025-08-23T07:10:40.956109Z"
    },
    "papermill": {
     "duration": 0.840221,
     "end_time": "2025-08-23T07:10:40.958983",
     "exception": false,
     "start_time": "2025-08-23T07:10:40.118762",
     "status": "completed"
    },
    "tags": []
   },
   "outputs": [
    {
     "data": {
      "text/html": [
       "<div>\n",
       "<style scoped>\n",
       "    .dataframe tbody tr th:only-of-type {\n",
       "        vertical-align: middle;\n",
       "    }\n",
       "\n",
       "    .dataframe tbody tr th {\n",
       "        vertical-align: top;\n",
       "    }\n",
       "\n",
       "    .dataframe thead th {\n",
       "        text-align: right;\n",
       "    }\n",
       "</style>\n",
       "<table border=\"1\" class=\"dataframe\">\n",
       "  <thead>\n",
       "    <tr style=\"text-align: right;\">\n",
       "      <th></th>\n",
       "      <th>text</th>\n",
       "      <th>label</th>\n",
       "    </tr>\n",
       "  </thead>\n",
       "  <tbody>\n",
       "    <tr>\n",
       "      <th>0</th>\n",
       "      <td>Wall St. Bears Claw Back Into the Black (Reute...</td>\n",
       "      <td>2</td>\n",
       "    </tr>\n",
       "    <tr>\n",
       "      <th>1</th>\n",
       "      <td>Carlyle Looks Toward Commercial Aerospace (Reu...</td>\n",
       "      <td>2</td>\n",
       "    </tr>\n",
       "    <tr>\n",
       "      <th>2</th>\n",
       "      <td>Oil and Economy Cloud Stocks' Outlook (Reuters...</td>\n",
       "      <td>2</td>\n",
       "    </tr>\n",
       "    <tr>\n",
       "      <th>3</th>\n",
       "      <td>Iraq Halts Oil Exports from Main Southern Pipe...</td>\n",
       "      <td>2</td>\n",
       "    </tr>\n",
       "    <tr>\n",
       "      <th>4</th>\n",
       "      <td>Oil prices soar to all-time record, posing new...</td>\n",
       "      <td>2</td>\n",
       "    </tr>\n",
       "  </tbody>\n",
       "</table>\n",
       "</div>"
      ],
      "text/plain": [
       "                                                text  label\n",
       "0  Wall St. Bears Claw Back Into the Black (Reute...      2\n",
       "1  Carlyle Looks Toward Commercial Aerospace (Reu...      2\n",
       "2  Oil and Economy Cloud Stocks' Outlook (Reuters...      2\n",
       "3  Iraq Halts Oil Exports from Main Southern Pipe...      2\n",
       "4  Oil prices soar to all-time record, posing new...      2"
      ]
     },
     "execution_count": 2,
     "metadata": {},
     "output_type": "execute_result"
    }
   ],
   "source": [
    "train_df = pd.read_csv('/kaggle/input/new-dataset-for-text-classification-ag-news/train.csv')\n",
    "train_df.head()"
   ]
  },
  {
   "cell_type": "code",
   "execution_count": 3,
   "id": "41fe89f1",
   "metadata": {
    "execution": {
     "iopub.execute_input": "2025-08-23T07:10:40.970602Z",
     "iopub.status.busy": "2025-08-23T07:10:40.970246Z",
     "iopub.status.idle": "2025-08-23T07:10:41.034430Z",
     "shell.execute_reply": "2025-08-23T07:10:41.033452Z"
    },
    "papermill": {
     "duration": 0.0718,
     "end_time": "2025-08-23T07:10:41.036117",
     "exception": false,
     "start_time": "2025-08-23T07:10:40.964317",
     "status": "completed"
    },
    "tags": []
   },
   "outputs": [
    {
     "data": {
      "text/html": [
       "<div>\n",
       "<style scoped>\n",
       "    .dataframe tbody tr th:only-of-type {\n",
       "        vertical-align: middle;\n",
       "    }\n",
       "\n",
       "    .dataframe tbody tr th {\n",
       "        vertical-align: top;\n",
       "    }\n",
       "\n",
       "    .dataframe thead th {\n",
       "        text-align: right;\n",
       "    }\n",
       "</style>\n",
       "<table border=\"1\" class=\"dataframe\">\n",
       "  <thead>\n",
       "    <tr style=\"text-align: right;\">\n",
       "      <th></th>\n",
       "      <th>text</th>\n",
       "      <th>label</th>\n",
       "    </tr>\n",
       "  </thead>\n",
       "  <tbody>\n",
       "    <tr>\n",
       "      <th>0</th>\n",
       "      <td>Fears for T N pension after talks Unions repre...</td>\n",
       "      <td>2</td>\n",
       "    </tr>\n",
       "    <tr>\n",
       "      <th>1</th>\n",
       "      <td>The Race is On: Second Private Team Sets Launc...</td>\n",
       "      <td>3</td>\n",
       "    </tr>\n",
       "    <tr>\n",
       "      <th>2</th>\n",
       "      <td>Ky. Company Wins Grant to Study Peptides (AP) ...</td>\n",
       "      <td>3</td>\n",
       "    </tr>\n",
       "    <tr>\n",
       "      <th>3</th>\n",
       "      <td>Prediction Unit Helps Forecast Wildfires (AP) ...</td>\n",
       "      <td>3</td>\n",
       "    </tr>\n",
       "    <tr>\n",
       "      <th>4</th>\n",
       "      <td>Calif. Aims to Limit Farm-Related Smog (AP) AP...</td>\n",
       "      <td>3</td>\n",
       "    </tr>\n",
       "  </tbody>\n",
       "</table>\n",
       "</div>"
      ],
      "text/plain": [
       "                                                text  label\n",
       "0  Fears for T N pension after talks Unions repre...      2\n",
       "1  The Race is On: Second Private Team Sets Launc...      3\n",
       "2  Ky. Company Wins Grant to Study Peptides (AP) ...      3\n",
       "3  Prediction Unit Helps Forecast Wildfires (AP) ...      3\n",
       "4  Calif. Aims to Limit Farm-Related Smog (AP) AP...      3"
      ]
     },
     "execution_count": 3,
     "metadata": {},
     "output_type": "execute_result"
    }
   ],
   "source": [
    "test_df = pd.read_csv('/kaggle/input/new-dataset-for-text-classification-ag-news/test.csv')\n",
    "test_df.head()"
   ]
  },
  {
   "cell_type": "code",
   "execution_count": 4,
   "id": "233d66f4",
   "metadata": {
    "execution": {
     "iopub.execute_input": "2025-08-23T07:10:41.047573Z",
     "iopub.status.busy": "2025-08-23T07:10:41.047222Z",
     "iopub.status.idle": "2025-08-23T07:10:41.090665Z",
     "shell.execute_reply": "2025-08-23T07:10:41.089621Z"
    },
    "papermill": {
     "duration": 0.05115,
     "end_time": "2025-08-23T07:10:41.092502",
     "exception": false,
     "start_time": "2025-08-23T07:10:41.041352",
     "status": "completed"
    },
    "tags": []
   },
   "outputs": [
    {
     "name": "stdout",
     "output_type": "stream",
     "text": [
      "<class 'pandas.core.frame.DataFrame'>\n",
      "RangeIndex: 120000 entries, 0 to 119999\n",
      "Data columns (total 2 columns):\n",
      " #   Column  Non-Null Count   Dtype \n",
      "---  ------  --------------   ----- \n",
      " 0   text    120000 non-null  object\n",
      " 1   label   120000 non-null  int64 \n",
      "dtypes: int64(1), object(1)\n",
      "memory usage: 1.8+ MB\n"
     ]
    }
   ],
   "source": [
    "train_df.info()"
   ]
  },
  {
   "cell_type": "code",
   "execution_count": 5,
   "id": "effd2e64",
   "metadata": {
    "execution": {
     "iopub.execute_input": "2025-08-23T07:10:41.104589Z",
     "iopub.status.busy": "2025-08-23T07:10:41.103488Z",
     "iopub.status.idle": "2025-08-23T07:10:41.115446Z",
     "shell.execute_reply": "2025-08-23T07:10:41.114236Z"
    },
    "papermill": {
     "duration": 0.019686,
     "end_time": "2025-08-23T07:10:41.117176",
     "exception": false,
     "start_time": "2025-08-23T07:10:41.097490",
     "status": "completed"
    },
    "tags": []
   },
   "outputs": [
    {
     "name": "stdout",
     "output_type": "stream",
     "text": [
      "<class 'pandas.core.frame.DataFrame'>\n",
      "RangeIndex: 7600 entries, 0 to 7599\n",
      "Data columns (total 2 columns):\n",
      " #   Column  Non-Null Count  Dtype \n",
      "---  ------  --------------  ----- \n",
      " 0   text    7600 non-null   object\n",
      " 1   label   7600 non-null   int64 \n",
      "dtypes: int64(1), object(1)\n",
      "memory usage: 118.9+ KB\n"
     ]
    }
   ],
   "source": [
    "test_df.info()"
   ]
  },
  {
   "cell_type": "code",
   "execution_count": 6,
   "id": "ba87ac4e",
   "metadata": {
    "execution": {
     "iopub.execute_input": "2025-08-23T07:10:41.128226Z",
     "iopub.status.busy": "2025-08-23T07:10:41.127912Z",
     "iopub.status.idle": "2025-08-23T07:10:43.819008Z",
     "shell.execute_reply": "2025-08-23T07:10:43.817960Z"
    },
    "papermill": {
     "duration": 2.698653,
     "end_time": "2025-08-23T07:10:43.820810",
     "exception": false,
     "start_time": "2025-08-23T07:10:41.122157",
     "status": "completed"
    },
    "tags": []
   },
   "outputs": [
    {
     "data": {
      "image/png": "[encoded data removed]",
      "text/plain": [
       "<Figure size 640x480 with 1 Axes>"
      ]
     },
     "metadata": {},
     "output_type": "display_data"
    }
   ],
   "source": [
    "# Expository Data Analysis\n",
    "import seaborn as sns\n",
    "import matplotlib.pyplot as plt\n",
    "\n",
    "sns.countplot(x='label', data=train_df)\n",
    "plt.title(\"Count Plot of Training Data\")\n",
    "plt.show()\n",
    "\n",
    "#Means there are four labels and they are almost equal in size \n"
   ]
  },
  {
   "cell_type": "code",
   "execution_count": 7,
   "id": "8e4b83ba",
   "metadata": {
    "execution": {
     "iopub.execute_input": "2025-08-23T07:10:43.833366Z",
     "iopub.status.busy": "2025-08-23T07:10:43.832824Z",
     "iopub.status.idle": "2025-08-23T07:10:45.119739Z",
     "shell.execute_reply": "2025-08-23T07:10:45.118822Z"
    },
    "papermill": {
     "duration": 1.295115,
     "end_time": "2025-08-23T07:10:45.121552",
     "exception": false,
     "start_time": "2025-08-23T07:10:43.826437",
     "status": "completed"
    },
    "tags": []
   },
   "outputs": [
    {
     "name": "stderr",
     "output_type": "stream",
     "text": [
      "/usr/local/lib/python3.11/dist-packages/seaborn/_oldcore.py:1119: FutureWarning: use_inf_as_na option is deprecated and will be removed in a future version. Convert inf values to NaN before operating instead.\n",
      "  with pd.option_context('mode.use_inf_as_na', True):\n"
     ]
    },
    {
     "data": {
      "image/png": "[encoded data removed]",
      "text/plain": [
       "<Figure size 640x480 with 1 Axes>"
      ]
     },
     "metadata": {},
     "output_type": "display_data"
    }
   ],
   "source": [
    "train_df['text_len'] = train_df['text'].apply(lambda x: len(x.split()))\n",
    "sns.histplot(train_df['text_len'], bins=50, kde=True)\n",
    "plt.title(\"Text Length Distribution\")\n",
    "plt.show()"
   ]
  },
  {
   "cell_type": "code",
   "execution_count": 8,
   "id": "61e2bde4",
   "metadata": {
    "execution": {
     "iopub.execute_input": "2025-08-23T07:10:45.135719Z",
     "iopub.status.busy": "2025-08-23T07:10:45.135424Z",
     "iopub.status.idle": "2025-08-23T07:10:46.809172Z",
     "shell.execute_reply": "2025-08-23T07:10:46.808070Z"
    },
    "papermill": {
     "duration": 1.682605,
     "end_time": "2025-08-23T07:10:46.811285",
     "exception": false,
     "start_time": "2025-08-23T07:10:45.128680",
     "status": "completed"
    },
    "tags": []
   },
   "outputs": [
    {
     "data": {
      "text/plain": [
       "[('the', 177529),\n",
       " ('to', 117605),\n",
       " ('a', 98112),\n",
       " ('of', 97395),\n",
       " ('in', 92055),\n",
       " ('and', 68046),\n",
       " ('on', 55156),\n",
       " ('for', 48430),\n",
       " ('-', 39105),\n",
       " ('#39;s', 30928),\n",
       " ('that', 26988),\n",
       " ('The', 25054),\n",
       " ('with', 24531),\n",
       " ('as', 23641),\n",
       " ('at', 23186),\n",
       " ('its', 21390),\n",
       " ('is', 20708),\n",
       " ('by', 19048),\n",
       " ('has', 18605),\n",
       " ('from', 16928)]"
      ]
     },
     "execution_count": 8,
     "metadata": {},
     "output_type": "execute_result"
    }
   ],
   "source": [
    "\n",
    "from collections import Counter\n",
    "all_words = \" \".join(train_df['text']).split()\n",
    "Counter(all_words).most_common(20)"
   ]
  },
  {
   "cell_type": "code",
   "execution_count": 9,
   "id": "df265e70",
   "metadata": {
    "execution": {
     "iopub.execute_input": "2025-08-23T07:10:46.827071Z",
     "iopub.status.busy": "2025-08-23T07:10:46.826682Z",
     "iopub.status.idle": "2025-08-23T07:10:48.640539Z",
     "shell.execute_reply": "2025-08-23T07:10:48.639261Z"
    },
    "papermill": {
     "duration": 1.824195,
     "end_time": "2025-08-23T07:10:48.643050",
     "exception": false,
     "start_time": "2025-08-23T07:10:46.818855",
     "status": "completed"
    },
    "tags": []
   },
   "outputs": [
    {
     "name": "stderr",
     "output_type": "stream",
     "text": [
      "[nltk_data] Downloading package stopwords to /usr/share/nltk_data...\n",
      "[nltk_data]   Package stopwords is already up-to-date!\n",
      "[nltk_data] Downloading package wordnet to /usr/share/nltk_data...\n",
      "[nltk_data]   Package wordnet is already up-to-date!\n",
      "[nltk_data] Downloading package omw-1.4 to /usr/share/nltk_data...\n"
     ]
    }
   ],
   "source": [
    "# Preprocessing\n",
    "import re\n",
    "import nltk\n",
    "from nltk.corpus import stopwords\n",
    "from nltk.stem import WordNetLemmatizer\n",
    "\n",
    "nltk.download('stopwords')\n",
    "nltk.download('wordnet')\n",
    "nltk.download('omw-1.4')\n",
    "\n",
    "stop_words = set(stopwords.words('english'))\n",
    "lemmatizer = WordNetLemmatizer()"
   ]
  },
  {
   "cell_type": "code",
   "execution_count": 10,
   "id": "eb13fbbb",
   "metadata": {
    "execution": {
     "iopub.execute_input": "2025-08-23T07:10:48.658682Z",
     "iopub.status.busy": "2025-08-23T07:10:48.658315Z",
     "iopub.status.idle": "2025-08-23T07:11:08.455244Z",
     "shell.execute_reply": "2025-08-23T07:11:08.453855Z"
    },
    "papermill": {
     "duration": 19.807191,
     "end_time": "2025-08-23T07:11:08.457214",
     "exception": false,
     "start_time": "2025-08-23T07:10:48.650023",
     "status": "completed"
    },
    "tags": []
   },
   "outputs": [],
   "source": [
    "def clean_text(text):\n",
    "    text = text.lower()\n",
    "    text = re.sub(r'[^a-z\\s]', '', text)\n",
    "    tokens = text.split()\n",
    "    tokens = [lemmatizer.lemmatize(word) for word in tokens if word not in stop_words]\n",
    "    return \" \".join(tokens)\n",
    "train_df['Cleaned_text'] = train_df['text'].apply(clean_text)\n",
    "test_df['clean_text'] = test_df['text'].apply(clean_text)\n",
    "    "
   ]
  },
  {
   "cell_type": "code",
   "execution_count": 11,
   "id": "1708b1db",
   "metadata": {
    "execution": {
     "iopub.execute_input": "2025-08-23T07:11:08.471464Z",
     "iopub.status.busy": "2025-08-23T07:11:08.471118Z",
     "iopub.status.idle": "2025-08-23T07:11:08.481363Z",
     "shell.execute_reply": "2025-08-23T07:11:08.480487Z"
    },
    "papermill": {
     "duration": 0.019591,
     "end_time": "2025-08-23T07:11:08.483025",
     "exception": false,
     "start_time": "2025-08-23T07:11:08.463434",
     "status": "completed"
    },
    "tags": []
   },
   "outputs": [
    {
     "data": {
      "text/html": [
       "<div>\n",
       "<style scoped>\n",
       "    .dataframe tbody tr th:only-of-type {\n",
       "        vertical-align: middle;\n",
       "    }\n",
       "\n",
       "    .dataframe tbody tr th {\n",
       "        vertical-align: top;\n",
       "    }\n",
       "\n",
       "    .dataframe thead th {\n",
       "        text-align: right;\n",
       "    }\n",
       "</style>\n",
       "<table border=\"1\" class=\"dataframe\">\n",
       "  <thead>\n",
       "    <tr style=\"text-align: right;\">\n",
       "      <th></th>\n",
       "      <th>text</th>\n",
       "      <th>label</th>\n",
       "      <th>text_len</th>\n",
       "      <th>Cleaned_text</th>\n",
       "    </tr>\n",
       "  </thead>\n",
       "  <tbody>\n",
       "    <tr>\n",
       "      <th>0</th>\n",
       "      <td>Wall St. Bears Claw Back Into the Black (Reute...</td>\n",
       "      <td>2</td>\n",
       "      <td>21</td>\n",
       "      <td>wall st bear claw back black reuters reuters s...</td>\n",
       "    </tr>\n",
       "    <tr>\n",
       "      <th>1</th>\n",
       "      <td>Carlyle Looks Toward Commercial Aerospace (Reu...</td>\n",
       "      <td>2</td>\n",
       "      <td>36</td>\n",
       "      <td>carlyle look toward commercial aerospace reute...</td>\n",
       "    </tr>\n",
       "    <tr>\n",
       "      <th>2</th>\n",
       "      <td>Oil and Economy Cloud Stocks' Outlook (Reuters...</td>\n",
       "      <td>2</td>\n",
       "      <td>36</td>\n",
       "      <td>oil economy cloud stock outlook reuters reuter...</td>\n",
       "    </tr>\n",
       "    <tr>\n",
       "      <th>3</th>\n",
       "      <td>Iraq Halts Oil Exports from Main Southern Pipe...</td>\n",
       "      <td>2</td>\n",
       "      <td>36</td>\n",
       "      <td>iraq halt oil export main southern pipeline re...</td>\n",
       "    </tr>\n",
       "    <tr>\n",
       "      <th>4</th>\n",
       "      <td>Oil prices soar to all-time record, posing new...</td>\n",
       "      <td>2</td>\n",
       "      <td>37</td>\n",
       "      <td>oil price soar alltime record posing new menac...</td>\n",
       "    </tr>\n",
       "  </tbody>\n",
       "</table>\n",
       "</div>"
      ],
      "text/plain": [
       "                                                text  label  text_len  \\\n",
       "0  Wall St. Bears Claw Back Into the Black (Reute...      2        21   \n",
       "1  Carlyle Looks Toward Commercial Aerospace (Reu...      2        36   \n",
       "2  Oil and Economy Cloud Stocks' Outlook (Reuters...      2        36   \n",
       "3  Iraq Halts Oil Exports from Main Southern Pipe...      2        36   \n",
       "4  Oil prices soar to all-time record, posing new...      2        37   \n",
       "\n",
       "                                        Cleaned_text  \n",
       "0  wall st bear claw back black reuters reuters s...  \n",
       "1  carlyle look toward commercial aerospace reute...  \n",
       "2  oil economy cloud stock outlook reuters reuter...  \n",
       "3  iraq halt oil export main southern pipeline re...  \n",
       "4  oil price soar alltime record posing new menac...  "
      ]
     },
     "execution_count": 11,
     "metadata": {},
     "output_type": "execute_result"
    }
   ],
   "source": [
    "train_df.head()"
   ]
  },
  {
   "cell_type": "code",
   "execution_count": 12,
   "id": "8f0d1a1e",
   "metadata": {
    "execution": {
     "iopub.execute_input": "2025-08-23T07:11:08.497909Z",
     "iopub.status.busy": "2025-08-23T07:11:08.497539Z",
     "iopub.status.idle": "2025-08-23T07:11:08.506880Z",
     "shell.execute_reply": "2025-08-23T07:11:08.506122Z"
    },
    "papermill": {
     "duration": 0.018808,
     "end_time": "2025-08-23T07:11:08.508639",
     "exception": false,
     "start_time": "2025-08-23T07:11:08.489831",
     "status": "completed"
    },
    "tags": []
   },
   "outputs": [
    {
     "data": {
      "text/html": [
       "<div>\n",
       "<style scoped>\n",
       "    .dataframe tbody tr th:only-of-type {\n",
       "        vertical-align: middle;\n",
       "    }\n",
       "\n",
       "    .dataframe tbody tr th {\n",
       "        vertical-align: top;\n",
       "    }\n",
       "\n",
       "    .dataframe thead th {\n",
       "        text-align: right;\n",
       "    }\n",
       "</style>\n",
       "<table border=\"1\" class=\"dataframe\">\n",
       "  <thead>\n",
       "    <tr style=\"text-align: right;\">\n",
       "      <th></th>\n",
       "      <th>text</th>\n",
       "      <th>label</th>\n",
       "      <th>clean_text</th>\n",
       "    </tr>\n",
       "  </thead>\n",
       "  <tbody>\n",
       "    <tr>\n",
       "      <th>0</th>\n",
       "      <td>Fears for T N pension after talks Unions repre...</td>\n",
       "      <td>2</td>\n",
       "      <td>fear n pension talk union representing worker ...</td>\n",
       "    </tr>\n",
       "    <tr>\n",
       "      <th>1</th>\n",
       "      <td>The Race is On: Second Private Team Sets Launc...</td>\n",
       "      <td>3</td>\n",
       "      <td>race second private team set launch date human...</td>\n",
       "    </tr>\n",
       "    <tr>\n",
       "      <th>2</th>\n",
       "      <td>Ky. Company Wins Grant to Study Peptides (AP) ...</td>\n",
       "      <td>3</td>\n",
       "      <td>ky company win grant study peptide ap ap compa...</td>\n",
       "    </tr>\n",
       "    <tr>\n",
       "      <th>3</th>\n",
       "      <td>Prediction Unit Helps Forecast Wildfires (AP) ...</td>\n",
       "      <td>3</td>\n",
       "      <td>prediction unit help forecast wildfire ap ap b...</td>\n",
       "    </tr>\n",
       "    <tr>\n",
       "      <th>4</th>\n",
       "      <td>Calif. Aims to Limit Farm-Related Smog (AP) AP...</td>\n",
       "      <td>3</td>\n",
       "      <td>calif aim limit farmrelated smog ap ap souther...</td>\n",
       "    </tr>\n",
       "  </tbody>\n",
       "</table>\n",
       "</div>"
      ],
      "text/plain": [
       "                                                text  label  \\\n",
       "0  Fears for T N pension after talks Unions repre...      2   \n",
       "1  The Race is On: Second Private Team Sets Launc...      3   \n",
       "2  Ky. Company Wins Grant to Study Peptides (AP) ...      3   \n",
       "3  Prediction Unit Helps Forecast Wildfires (AP) ...      3   \n",
       "4  Calif. Aims to Limit Farm-Related Smog (AP) AP...      3   \n",
       "\n",
       "                                          clean_text  \n",
       "0  fear n pension talk union representing worker ...  \n",
       "1  race second private team set launch date human...  \n",
       "2  ky company win grant study peptide ap ap compa...  \n",
       "3  prediction unit help forecast wildfire ap ap b...  \n",
       "4  calif aim limit farmrelated smog ap ap souther...  "
      ]
     },
     "execution_count": 12,
     "metadata": {},
     "output_type": "execute_result"
    }
   ],
   "source": [
    "test_df.head()"
   ]
  },
  {
   "cell_type": "code",
   "execution_count": 13,
   "id": "2285b884",
   "metadata": {
    "execution": {
     "iopub.execute_input": "2025-08-23T07:11:08.523769Z",
     "iopub.status.busy": "2025-08-23T07:11:08.522841Z",
     "iopub.status.idle": "2025-08-23T07:11:08.539296Z",
     "shell.execute_reply": "2025-08-23T07:11:08.538350Z"
    },
    "papermill": {
     "duration": 0.025808,
     "end_time": "2025-08-23T07:11:08.541042",
     "exception": false,
     "start_time": "2025-08-23T07:11:08.515234",
     "status": "completed"
    },
    "tags": []
   },
   "outputs": [
    {
     "data": {
      "text/html": [
       "<div>\n",
       "<style scoped>\n",
       "    .dataframe tbody tr th:only-of-type {\n",
       "        vertical-align: middle;\n",
       "    }\n",
       "\n",
       "    .dataframe tbody tr th {\n",
       "        vertical-align: top;\n",
       "    }\n",
       "\n",
       "    .dataframe thead th {\n",
       "        text-align: right;\n",
       "    }\n",
       "</style>\n",
       "<table border=\"1\" class=\"dataframe\">\n",
       "  <thead>\n",
       "    <tr style=\"text-align: right;\">\n",
       "      <th></th>\n",
       "      <th>label</th>\n",
       "      <th>Cleaned_text</th>\n",
       "    </tr>\n",
       "  </thead>\n",
       "  <tbody>\n",
       "    <tr>\n",
       "      <th>0</th>\n",
       "      <td>2</td>\n",
       "      <td>wall st bear claw back black reuters reuters s...</td>\n",
       "    </tr>\n",
       "    <tr>\n",
       "      <th>1</th>\n",
       "      <td>2</td>\n",
       "      <td>carlyle look toward commercial aerospace reute...</td>\n",
       "    </tr>\n",
       "    <tr>\n",
       "      <th>2</th>\n",
       "      <td>2</td>\n",
       "      <td>oil economy cloud stock outlook reuters reuter...</td>\n",
       "    </tr>\n",
       "    <tr>\n",
       "      <th>3</th>\n",
       "      <td>2</td>\n",
       "      <td>iraq halt oil export main southern pipeline re...</td>\n",
       "    </tr>\n",
       "    <tr>\n",
       "      <th>4</th>\n",
       "      <td>2</td>\n",
       "      <td>oil price soar alltime record posing new menac...</td>\n",
       "    </tr>\n",
       "  </tbody>\n",
       "</table>\n",
       "</div>"
      ],
      "text/plain": [
       "   label                                       Cleaned_text\n",
       "0      2  wall st bear claw back black reuters reuters s...\n",
       "1      2  carlyle look toward commercial aerospace reute...\n",
       "2      2  oil economy cloud stock outlook reuters reuter...\n",
       "3      2  iraq halt oil export main southern pipeline re...\n",
       "4      2  oil price soar alltime record posing new menac..."
      ]
     },
     "execution_count": 13,
     "metadata": {},
     "output_type": "execute_result"
    }
   ],
   "source": [
    "train_df = train_df.drop(columns=['text', 'text_len'])\n",
    "train_df.head()"
   ]
  },
  {
   "cell_type": "code",
   "execution_count": 14,
   "id": "802b6562",
   "metadata": {
    "execution": {
     "iopub.execute_input": "2025-08-23T07:11:08.556561Z",
     "iopub.status.busy": "2025-08-23T07:11:08.556216Z",
     "iopub.status.idle": "2025-08-23T07:11:08.568820Z",
     "shell.execute_reply": "2025-08-23T07:11:08.567857Z"
    },
    "papermill": {
     "duration": 0.022044,
     "end_time": "2025-08-23T07:11:08.570485",
     "exception": false,
     "start_time": "2025-08-23T07:11:08.548441",
     "status": "completed"
    },
    "tags": []
   },
   "outputs": [
    {
     "data": {
      "text/html": [
       "<div>\n",
       "<style scoped>\n",
       "    .dataframe tbody tr th:only-of-type {\n",
       "        vertical-align: middle;\n",
       "    }\n",
       "\n",
       "    .dataframe tbody tr th {\n",
       "        vertical-align: top;\n",
       "    }\n",
       "\n",
       "    .dataframe thead th {\n",
       "        text-align: right;\n",
       "    }\n",
       "</style>\n",
       "<table border=\"1\" class=\"dataframe\">\n",
       "  <thead>\n",
       "    <tr style=\"text-align: right;\">\n",
       "      <th></th>\n",
       "      <th>label</th>\n",
       "      <th>clean_text</th>\n",
       "    </tr>\n",
       "  </thead>\n",
       "  <tbody>\n",
       "    <tr>\n",
       "      <th>0</th>\n",
       "      <td>2</td>\n",
       "      <td>fear n pension talk union representing worker ...</td>\n",
       "    </tr>\n",
       "    <tr>\n",
       "      <th>1</th>\n",
       "      <td>3</td>\n",
       "      <td>race second private team set launch date human...</td>\n",
       "    </tr>\n",
       "    <tr>\n",
       "      <th>2</th>\n",
       "      <td>3</td>\n",
       "      <td>ky company win grant study peptide ap ap compa...</td>\n",
       "    </tr>\n",
       "    <tr>\n",
       "      <th>3</th>\n",
       "      <td>3</td>\n",
       "      <td>prediction unit help forecast wildfire ap ap b...</td>\n",
       "    </tr>\n",
       "    <tr>\n",
       "      <th>4</th>\n",
       "      <td>3</td>\n",
       "      <td>calif aim limit farmrelated smog ap ap souther...</td>\n",
       "    </tr>\n",
       "  </tbody>\n",
       "</table>\n",
       "</div>"
      ],
      "text/plain": [
       "   label                                         clean_text\n",
       "0      2  fear n pension talk union representing worker ...\n",
       "1      3  race second private team set launch date human...\n",
       "2      3  ky company win grant study peptide ap ap compa...\n",
       "3      3  prediction unit help forecast wildfire ap ap b...\n",
       "4      3  calif aim limit farmrelated smog ap ap souther..."
      ]
     },
     "execution_count": 14,
     "metadata": {},
     "output_type": "execute_result"
    }
   ],
   "source": [
    "test_df = test_df.drop(columns = ['text'])\n",
    "test_df.head()"
   ]
  },
  {
   "cell_type": "code",
   "execution_count": 15,
   "id": "e524b38a",
   "metadata": {
    "execution": {
     "iopub.execute_input": "2025-08-23T07:11:08.586577Z",
     "iopub.status.busy": "2025-08-23T07:11:08.586235Z",
     "iopub.status.idle": "2025-08-23T07:11:08.652910Z",
     "shell.execute_reply": "2025-08-23T07:11:08.651450Z"
    },
    "papermill": {
     "duration": 0.077041,
     "end_time": "2025-08-23T07:11:08.655057",
     "exception": false,
     "start_time": "2025-08-23T07:11:08.578016",
     "status": "completed"
    },
    "tags": []
   },
   "outputs": [
    {
     "name": "stdout",
     "output_type": "stream",
     "text": [
      "Train size: 96000\n",
      "Validation size: 24000\n"
     ]
    }
   ],
   "source": [
    "# Model Training\n",
    "from sklearn.model_selection import train_test_split\n",
    "\n",
    "X = train_df['Cleaned_text']\n",
    "y = train_df[ 'label']\n",
    "\n",
    "X_train, X_val, y_train , y_val = train_test_split(X, y, test_size= 0.2 , random_state = 42, stratify = y)\n",
    "\n",
    "print(\"Train size:\", X_train.shape[0])\n",
    "print(\"Validation size:\", X_val.shape[0])"
   ]
  },
  {
   "cell_type": "code",
   "execution_count": 16,
   "id": "021bc84a",
   "metadata": {
    "execution": {
     "iopub.execute_input": "2025-08-23T07:11:08.678582Z",
     "iopub.status.busy": "2025-08-23T07:11:08.678173Z",
     "iopub.status.idle": "2025-08-23T07:11:12.327260Z",
     "shell.execute_reply": "2025-08-23T07:11:12.325910Z"
    },
    "papermill": {
     "duration": 3.664047,
     "end_time": "2025-08-23T07:11:12.329179",
     "exception": false,
     "start_time": "2025-08-23T07:11:08.665132",
     "status": "completed"
    },
    "tags": []
   },
   "outputs": [],
   "source": [
    "# Feature Engineering\n",
    "from sklearn.feature_extraction.text import TfidfVectorizer\n",
    "\n",
    "vectorizer = TfidfVectorizer(max_features=5000)\n",
    "X_train_vec = vectorizer.fit_transform(X_train)\n",
    "X_val_vec = vectorizer.transform(X_val)\n",
    "X_test_vec = vectorizer.transform(test_df[\"clean_text\"])"
   ]
  },
  {
   "cell_type": "code",
   "execution_count": 17,
   "id": "440f11ca",
   "metadata": {
    "execution": {
     "iopub.execute_input": "2025-08-23T07:11:12.345350Z",
     "iopub.status.busy": "2025-08-23T07:11:12.344684Z",
     "iopub.status.idle": "2025-08-23T07:11:29.733047Z",
     "shell.execute_reply": "2025-08-23T07:11:29.732147Z"
    },
    "papermill": {
     "duration": 17.399364,
     "end_time": "2025-08-23T07:11:29.735476",
     "exception": false,
     "start_time": "2025-08-23T07:11:12.336112",
     "status": "completed"
    },
    "tags": []
   },
   "outputs": [
    {
     "name": "stdout",
     "output_type": "stream",
     "text": [
      "Logistic Regression Accuracy is :  0.9128333333333334\n",
      "Classification Report: \n",
      "              precision    recall  f1-score   support\n",
      "\n",
      "           0       0.92      0.90      0.91      6000\n",
      "           1       0.95      0.97      0.96      6000\n",
      "           2       0.88      0.89      0.89      6000\n",
      "           3       0.89      0.89      0.89      6000\n",
      "\n",
      "    accuracy                           0.91     24000\n",
      "   macro avg       0.91      0.91      0.91     24000\n",
      "weighted avg       0.91      0.91      0.91     24000\n",
      "\n"
     ]
    }
   ],
   "source": [
    "# Logistic Regression\n",
    "from sklearn.linear_model import LogisticRegression\n",
    "from sklearn.metrics import accuracy_score, classification_report\n",
    "\n",
    "logistic_reg = LogisticRegression(max_iter = 300)\n",
    "logistic_reg.fit(X_train_vec, y_train)\n",
    "\n",
    "lg_y_pred = logistic_reg.predict(X_val_vec)\n",
    "\n",
    "print(\"Logistic Regression Accuracy is : \", accuracy_score(y_val, lg_y_pred))\n",
    "print(\"Classification Report: \")\n",
    "print(classification_report(y_val, lg_y_pred))"
   ]
  },
  {
   "cell_type": "code",
   "execution_count": 18,
   "id": "3cefb98c",
   "metadata": {
    "execution": {
     "iopub.execute_input": "2025-08-23T07:11:29.763654Z",
     "iopub.status.busy": "2025-08-23T07:11:29.763276Z",
     "iopub.status.idle": "2025-08-23T07:14:38.792736Z",
     "shell.execute_reply": "2025-08-23T07:14:38.789399Z"
    },
    "papermill": {
     "duration": 189.053036,
     "end_time": "2025-08-23T07:14:38.800470",
     "exception": false,
     "start_time": "2025-08-23T07:11:29.747434",
     "status": "completed"
    },
    "tags": []
   },
   "outputs": [
    {
     "name": "stdout",
     "output_type": "stream",
     "text": [
      "Random Forest Validation Accuracy: 0.88425\n",
      "              precision    recall  f1-score   support\n",
      "\n",
      "           0       0.90      0.88      0.89      6000\n",
      "           1       0.91      0.96      0.94      6000\n",
      "           2       0.86      0.86      0.86      6000\n",
      "           3       0.87      0.84      0.85      6000\n",
      "\n",
      "    accuracy                           0.88     24000\n",
      "   macro avg       0.88      0.88      0.88     24000\n",
      "weighted avg       0.88      0.88      0.88     24000\n",
      "\n"
     ]
    }
   ],
   "source": [
    "# Random Forest\n",
    "\n",
    "from sklearn.ensemble import RandomForestClassifier\n",
    "\n",
    "rf = RandomForestClassifier(n_estimators = 200, random_state = 42, n_jobs = -1)\n",
    "rf.fit(X_train_vec, y_train)\n",
    "\n",
    "rf_y_pred = rf.predict(X_val_vec)\n",
    "\n",
    "\n",
    "print(\"Random Forest Validation Accuracy:\", accuracy_score(y_val, rf_y_pred))\n",
    "print(classification_report(y_val, rf_y_pred))"
   ]
  },
  {
   "cell_type": "code",
   "execution_count": 19,
   "id": "5774dbe2",
   "metadata": {
    "execution": {
     "iopub.execute_input": "2025-08-23T07:14:38.818275Z",
     "iopub.status.busy": "2025-08-23T07:14:38.817934Z",
     "iopub.status.idle": "2025-08-23T07:14:42.589864Z",
     "shell.execute_reply": "2025-08-23T07:14:42.588468Z"
    },
    "papermill": {
     "duration": 3.783671,
     "end_time": "2025-08-23T07:14:42.591359",
     "exception": false,
     "start_time": "2025-08-23T07:14:38.807688",
     "status": "completed"
    },
    "tags": []
   },
   "outputs": [
    {
     "name": "stdout",
     "output_type": "stream",
     "text": [
      "SVM Validation Accuracy: 0.9125\n",
      "              precision    recall  f1-score   support\n",
      "\n",
      "           0       0.92      0.90      0.91      6000\n",
      "           1       0.95      0.98      0.96      6000\n",
      "           2       0.88      0.89      0.89      6000\n",
      "           3       0.89      0.89      0.89      6000\n",
      "\n",
      "    accuracy                           0.91     24000\n",
      "   macro avg       0.91      0.91      0.91     24000\n",
      "weighted avg       0.91      0.91      0.91     24000\n",
      "\n"
     ]
    }
   ],
   "source": [
    "# SVM\n",
    "from sklearn.svm import LinearSVC\n",
    "\n",
    "svm = LinearSVC(random_state = 42)\n",
    "svm.fit(X_train_vec, y_train)\n",
    "\n",
    "svm_y_pred = svm.predict(X_val_vec)\n",
    "\n",
    "print(\"SVM Validation Accuracy:\", accuracy_score(y_val, svm_y_pred))\n",
    "print(classification_report(y_val, svm_y_pred))"
   ]
  },
  {
   "cell_type": "code",
   "execution_count": 20,
   "id": "abaf268a",
   "metadata": {
    "execution": {
     "iopub.execute_input": "2025-08-23T07:14:42.606858Z",
     "iopub.status.busy": "2025-08-23T07:14:42.606523Z",
     "iopub.status.idle": "2025-08-23T07:17:30.767877Z",
     "shell.execute_reply": "2025-08-23T07:17:30.766674Z"
    },
    "papermill": {
     "duration": 168.17837,
     "end_time": "2025-08-23T07:17:30.776737",
     "exception": false,
     "start_time": "2025-08-23T07:14:42.598367",
     "status": "completed"
    },
    "tags": []
   },
   "outputs": [
    {
     "name": "stdout",
     "output_type": "stream",
     "text": [
      "XGB Validation Accuracy:  0.8907083333333333\n",
      "              precision    recall  f1-score   support\n",
      "\n",
      "           0       0.91      0.88      0.90      6000\n",
      "           1       0.92      0.96      0.94      6000\n",
      "           2       0.87      0.87      0.87      6000\n",
      "           3       0.86      0.86      0.86      6000\n",
      "\n",
      "    accuracy                           0.89     24000\n",
      "   macro avg       0.89      0.89      0.89     24000\n",
      "weighted avg       0.89      0.89      0.89     24000\n",
      "\n"
     ]
    }
   ],
   "source": [
    "# Gradient Boosting\n",
    "\n",
    "from xgboost import XGBClassifier\n",
    "\n",
    "xgb = XGBClassifier(eval_metric = 'mlogloss', use_label_encoder = False)\n",
    "xgb.fit(X_train_vec, y_train)\n",
    "\n",
    "xgb_y_pred= xgb.predict(X_val_vec)\n",
    "\n",
    "print(\"XGB Validation Accuracy: \", accuracy_score(y_val, xgb_y_pred))\n",
    "print(classification_report(y_val, xgb_y_pred))"
   ]
  },
  {
   "cell_type": "code",
   "execution_count": 21,
   "id": "f45693d8",
   "metadata": {
    "execution": {
     "iopub.execute_input": "2025-08-23T07:17:30.793107Z",
     "iopub.status.busy": "2025-08-23T07:17:30.792725Z",
     "iopub.status.idle": "2025-08-23T07:20:07.181122Z",
     "shell.execute_reply": "2025-08-23T07:20:07.179576Z"
    },
    "papermill": {
     "duration": 156.399162,
     "end_time": "2025-08-23T07:20:07.183315",
     "exception": false,
     "start_time": "2025-08-23T07:17:30.784153",
     "status": "completed"
    },
    "tags": []
   },
   "outputs": [
    {
     "name": "stderr",
     "output_type": "stream",
     "text": [
      "2025-08-23 07:17:32.953491: E external/local_xla/xla/stream_executor/cuda/cuda_fft.cc:477] Unable to register cuFFT factory: Attempting to register factory for plugin cuFFT when one has already been registered\n",
      "WARNING: All log messages before absl::InitializeLog() is called are written to STDERR\n",
      "E0000 00:00:1755933453.217517      13 cuda_dnn.cc:8310] Unable to register cuDNN factory: Attempting to register factory for plugin cuDNN when one has already been registered\n",
      "E0000 00:00:1755933453.289547      13 cuda_blas.cc:1418] Unable to register cuBLAS factory: Attempting to register factory for plugin cuBLAS when one has already been registered\n",
      "/usr/local/lib/python3.11/dist-packages/keras/src/layers/core/dense.py:87: UserWarning: Do not pass an `input_shape`/`input_dim` argument to a layer. When using Sequential models, prefer using an `Input(shape)` object as the first layer in the model instead.\n",
      "  super().__init__(activity_regularizer=activity_regularizer, **kwargs)\n",
      "2025-08-23 07:17:57.314853: E external/local_xla/xla/stream_executor/cuda/cuda_driver.cc:152] failed call to cuInit: INTERNAL: CUDA error: Failed call to cuInit: UNKNOWN ERROR (303)\n"
     ]
    },
    {
     "name": "stdout",
     "output_type": "stream",
     "text": [
      "Epoch 1/5\n",
      "\u001b[1m1500/1500\u001b[0m \u001b[32m━━━━━━━━━━━━━━━━━━━━\u001b[0m\u001b[37m\u001b[0m \u001b[1m30s\u001b[0m 18ms/step - accuracy: 0.8338 - loss: 0.4799 - val_accuracy: 0.9138 - val_loss: 0.2548\n",
      "Epoch 2/5\n",
      "\u001b[1m1500/1500\u001b[0m \u001b[32m━━━━━━━━━━━━━━━━━━━━\u001b[0m\u001b[37m\u001b[0m \u001b[1m23s\u001b[0m 15ms/step - accuracy: 0.9273 - loss: 0.2129 - val_accuracy: 0.9158 - val_loss: 0.2535\n",
      "Epoch 3/5\n",
      "\u001b[1m1500/1500\u001b[0m \u001b[32m━━━━━━━━━━━━━━━━━━━━\u001b[0m\u001b[37m\u001b[0m \u001b[1m23s\u001b[0m 15ms/step - accuracy: 0.9448 - loss: 0.1590 - val_accuracy: 0.9153 - val_loss: 0.2660\n",
      "Epoch 4/5\n",
      "\u001b[1m1500/1500\u001b[0m \u001b[32m━━━━━━━━━━━━━━━━━━━━\u001b[0m\u001b[37m\u001b[0m \u001b[1m23s\u001b[0m 15ms/step - accuracy: 0.9615 - loss: 0.1119 - val_accuracy: 0.9140 - val_loss: 0.3022\n",
      "Epoch 5/5\n",
      "\u001b[1m1500/1500\u001b[0m \u001b[32m━━━━━━━━━━━━━━━━━━━━\u001b[0m\u001b[37m\u001b[0m \u001b[1m23s\u001b[0m 15ms/step - accuracy: 0.9743 - loss: 0.0746 - val_accuracy: 0.9135 - val_loss: 0.3428\n"
     ]
    }
   ],
   "source": [
    "# Simple Neural Network\n",
    "\n",
    "from tensorflow.keras.models import Sequential\n",
    "from tensorflow.keras.layers import Dense, Dropout\n",
    "\n",
    "X_train_dense = X_train_vec.toarray()\n",
    "X_val_dense = X_val_vec.toarray()\n",
    "\n",
    "model= Sequential(\n",
    "    [\n",
    "        Dense(256, activation= 'relu', input_shape=(X_train_dense.shape[1],)),\n",
    "        Dropout(0.3),\n",
    "        Dense(128, activation='relu'),\n",
    "        Dropout(0.3),\n",
    "        Dense(len(y.unique()), activation = 'softmax')\n",
    "    ]\n",
    ")\n",
    "\n",
    "model.compile(optimizer = 'adam', loss= 'sparse_categorical_crossentropy', metrics=['accuracy'])\n",
    "history = model.fit(X_train_dense, y_train, validation_data = (X_val_dense , y_val), epochs = 5 , batch_size = 64)"
   ]
  },
  {
   "cell_type": "code",
   "execution_count": 22,
   "id": "df8f5d62",
   "metadata": {
    "execution": {
     "iopub.execute_input": "2025-08-23T07:20:07.393701Z",
     "iopub.status.busy": "2025-08-23T07:20:07.392399Z",
     "iopub.status.idle": "2025-08-23T07:20:09.805187Z",
     "shell.execute_reply": "2025-08-23T07:20:09.803894Z"
    },
    "papermill": {
     "duration": 2.51716,
     "end_time": "2025-08-23T07:20:09.807205",
     "exception": false,
     "start_time": "2025-08-23T07:20:07.290045",
     "status": "completed"
    },
    "tags": []
   },
   "outputs": [
    {
     "name": "stdout",
     "output_type": "stream",
     "text": [
      "\u001b[1m238/238\u001b[0m \u001b[32m━━━━━━━━━━━━━━━━━━━━\u001b[0m\u001b[37m\u001b[0m \u001b[1m1s\u001b[0m 4ms/step - accuracy: 0.9035 - loss: 0.3641\n",
      "✅ Test Accuracy: 0.9062\n",
      "✅ Test Loss: 0.3573\n"
     ]
    }
   ],
   "source": [
    "X_test_dense = X_test_vec.toarray()\n",
    "\n",
    "test_loss, test_accuracy = model.evaluate(X_test_dense, test_df[\"label\"], verbose=1)\n",
    "\n",
    "print(f\"✅ Test Accuracy: {test_accuracy:.4f}\")\n",
    "print(f\"✅ Test Loss: {test_loss:.4f}\")\n"
   ]
  },
  {
   "cell_type": "code",
   "execution_count": 23,
   "id": "25e987a8",
   "metadata": {
    "execution": {
     "iopub.execute_input": "2025-08-23T07:20:10.018840Z",
     "iopub.status.busy": "2025-08-23T07:20:10.018413Z",
     "iopub.status.idle": "2025-08-23T07:20:11.446771Z",
     "shell.execute_reply": "2025-08-23T07:20:11.445614Z"
    },
    "papermill": {
     "duration": 1.53784,
     "end_time": "2025-08-23T07:20:11.448487",
     "exception": false,
     "start_time": "2025-08-23T07:20:09.910647",
     "status": "completed"
    },
    "tags": []
   },
   "outputs": [
    {
     "name": "stdout",
     "output_type": "stream",
     "text": [
      "\u001b[1m238/238\u001b[0m \u001b[32m━━━━━━━━━━━━━━━━━━━━\u001b[0m\u001b[37m\u001b[0m \u001b[1m1s\u001b[0m 3ms/step\n",
      "              precision    recall  f1-score   support\n",
      "\n",
      "           0       0.92      0.90      0.91      1900\n",
      "           1       0.95      0.97      0.96      1900\n",
      "           2       0.88      0.86      0.87      1900\n",
      "           3       0.87      0.89      0.88      1900\n",
      "\n",
      "    accuracy                           0.91      7600\n",
      "   macro avg       0.91      0.91      0.91      7600\n",
      "weighted avg       0.91      0.91      0.91      7600\n",
      "\n"
     ]
    }
   ],
   "source": [
    "y_true = test_df[\"label\"].values\n",
    "y_pred_probs = model.predict(X_test_dense)\n",
    "y_pred = y_pred_probs.argmax(axis=1)\n",
    "\n",
    "print(classification_report(y_true, y_pred))"
   ]
  },
  {
   "cell_type": "code",
   "execution_count": null,
   "id": "9f452a5f",
   "metadata": {
    "papermill": {
     "duration": 0.105915,
     "end_time": "2025-08-23T07:20:11.660628",
     "exception": false,
     "start_time": "2025-08-23T07:20:11.554713",
     "status": "completed"
    },
    "tags": []
   },
   "outputs": [],
   "source": []
  }
 ],
 "metadata": {
  "kaggle": {
   "accelerator": "none",
   "dataSources": [
    {
     "datasetId": 2655962,
     "sourceId": 4549154,
     "sourceType": "datasetVersion"
    }
   ],
   "dockerImageVersionId": 31089,
   "isGpuEnabled": false,
   "isInternetEnabled": true,
   "language": "python",
   "sourceType": "notebook"
  },
  "kernelspec": {
   "display_name": "Python 3",
   "language": "python",
   "name": "python3"
  },
  "language_info": {
   "codemirror_mode": {
    "name": "ipython",
    "version": 3
   },
   "file_extension": ".py",
   "mimetype": "text/x-python",
   "name": "python",
   "nbconvert_exporter": "python",
   "pygments_lexer": "ipython3",
   "version": "3.11.13"
  },
  "papermill": {
   "default_parameters": {},
   "duration": 583.556519,
   "end_time": "2025-08-23T07:20:15.225836",
   "environment_variables": {},
   "exception": null,
   "input_path": "__notebook__.ipynb",
   "output_path": "__notebook__.ipynb",
   "parameters": {},
   "start_time": "2025-08-23T07:10:31.669317",
   "version": "2.6.0"
  }
 },
 "nbformat": 4,
 "nbformat_minor": 5
}
