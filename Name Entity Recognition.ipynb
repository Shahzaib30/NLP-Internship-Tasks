{
 "cells": [
  {
   "cell_type": "code",
   "execution_count": 1,
   "id": "5f62e77b",
   "metadata": {
    "_cell_guid": "b1076dfc-b9ad-4769-8c92-a6c4dae69d19",
    "_uuid": "8f2839f25d086af736a60e9eeb907d3b93b6e0e5",
    "execution": {
     "iopub.execute_input": "2025-08-24T13:43:41.327406Z",
     "iopub.status.busy": "2025-08-24T13:43:41.326540Z",
     "iopub.status.idle": "2025-08-24T13:43:43.292896Z",
     "shell.execute_reply": "2025-08-24T13:43:43.291764Z"
    },
    "papermill": {
     "duration": 1.974347,
     "end_time": "2025-08-24T13:43:43.294582",
     "exception": false,
     "start_time": "2025-08-24T13:43:41.320235",
     "status": "completed"
    },
    "tags": []
   },
   "outputs": [
    {
     "name": "stdout",
     "output_type": "stream",
     "text": [
      "/kaggle/input/conll003-englishversion/valid.txt\n",
      "/kaggle/input/conll003-englishversion/metadata\n",
      "/kaggle/input/conll003-englishversion/test.txt\n",
      "/kaggle/input/conll003-englishversion/train.txt\n"
     ]
    }
   ],
   "source": [
    "# This Python 3 environment comes with many helpful analytics libraries installed\n",
    "# It is defined by the kaggle/python Docker image: https://github.com/kaggle/docker-python\n",
    "# For example, here's several helpful packages to load\n",
    "\n",
    "import numpy as np # linear algebra\n",
    "import pandas as pd # data processing, CSV file I/O (e.g. pd.read_csv)\n",
    "\n",
    "# Input data files are available in the read-only \"../input/\" directory\n",
    "# For example, running this (by clicking run or pressing Shift+Enter) will list all files under the input directory\n",
    "\n",
    "import os\n",
    "for dirname, _, filenames in os.walk('/kaggle/input'):\n",
    "    for filename in filenames:\n",
    "        print(os.path.join(dirname, filename))\n",
    "\n",
    "# You can write up to 20GB to the current directory (/kaggle/working/) that gets preserved as output when you create a version using \"Save & Run All\" \n",
    "# You can also write temporary files to /kaggle/temp/, but they won't be saved outside of the current session"
   ]
  },
  {
   "cell_type": "code",
   "execution_count": 2,
   "id": "b328a697",
   "metadata": {
    "execution": {
     "iopub.execute_input": "2025-08-24T13:43:43.304371Z",
     "iopub.status.busy": "2025-08-24T13:43:43.303898Z",
     "iopub.status.idle": "2025-08-24T13:46:04.386852Z",
     "shell.execute_reply": "2025-08-24T13:46:04.385569Z"
    },
    "papermill": {
     "duration": 141.089996,
     "end_time": "2025-08-24T13:46:04.388840",
     "exception": false,
     "start_time": "2025-08-24T13:43:43.298844",
     "status": "completed"
    },
    "tags": []
   },
   "outputs": [
    {
     "name": "stdout",
     "output_type": "stream",
     "text": [
      "\u001b[2K     \u001b[90m━━━━━━━━━━━━━━━━━━━━━━━━━━━━━━━━━━━━━━━━\u001b[0m \u001b[32m43.6/43.6 kB\u001b[0m \u001b[31m1.7 MB/s\u001b[0m eta \u001b[36m0:00:00\u001b[0m\r\n",
      "\u001b[?25h  Preparing metadata (setup.py) ... \u001b[?25l\u001b[?25hdone\r\n",
      "\u001b[2K     \u001b[90m━━━━━━━━━━━━━━━━━━━━━━━━━━━━━━━━━━━━━━━\u001b[0m \u001b[32m126.8/126.8 kB\u001b[0m \u001b[31m4.3 MB/s\u001b[0m eta \u001b[36m0:00:00\u001b[0m\r\n",
      "\u001b[2K   \u001b[90m━━━━━━━━━━━━━━━━━━━━━━━━━━━━━━━━━━━━━━━━\u001b[0m \u001b[32m6.6/6.6 MB\u001b[0m \u001b[31m56.8 MB/s\u001b[0m eta \u001b[36m0:00:00\u001b[0m\r\n",
      "\u001b[2K   \u001b[90m━━━━━━━━━━━━━━━━━━━━━━━━━━━━━━━━━━━━━━━━\u001b[0m \u001b[32m197.7/197.7 kB\u001b[0m \u001b[31m10.0 MB/s\u001b[0m eta \u001b[36m0:00:00\u001b[0m\r\n",
      "\u001b[2K   \u001b[90m━━━━━━━━━━━━━━━━━━━━━━━━━━━━━━━━━━━━━━━━\u001b[0m \u001b[32m13.0/13.0 MB\u001b[0m \u001b[31m76.5 MB/s\u001b[0m eta \u001b[36m0:00:00\u001b[0m\r\n",
      "\u001b[2K   \u001b[90m━━━━━━━━━━━━━━━━━━━━━━━━━━━━━━━━━━━━━━━━\u001b[0m \u001b[32m8.3/8.3 MB\u001b[0m \u001b[31m87.0 MB/s\u001b[0m eta \u001b[36m0:00:00\u001b[0m\r\n",
      "\u001b[2K   \u001b[90m━━━━━━━━━━━━━━━━━━━━━━━━━━━━━━━━━━━━━━━━\u001b[0m \u001b[32m314.2/314.2 kB\u001b[0m \u001b[31m12.0 MB/s\u001b[0m eta \u001b[36m0:00:00\u001b[0m\r\n",
      "\u001b[2K   \u001b[90m━━━━━━━━━━━━━━━━━━━━━━━━━━━━━━━━━━━━━━━━\u001b[0m \u001b[32m920.2/920.2 kB\u001b[0m \u001b[31m35.3 MB/s\u001b[0m eta \u001b[36m0:00:00\u001b[0m\r\n",
      "\u001b[2K   \u001b[90m━━━━━━━━━━━━━━━━━━━━━━━━━━━━━━━━━━━━━━━━\u001b[0m \u001b[32m363.4/363.4 MB\u001b[0m \u001b[31m4.1 MB/s\u001b[0m eta \u001b[36m0:00:00\u001b[0m\r\n",
      "\u001b[2K   \u001b[90m━━━━━━━━━━━━━━━━━━━━━━━━━━━━━━━━━━━━━━━━\u001b[0m \u001b[32m13.8/13.8 MB\u001b[0m \u001b[31m77.8 MB/s\u001b[0m eta \u001b[36m0:00:00\u001b[0m\r\n",
      "\u001b[2K   \u001b[90m━━━━━━━━━━━━━━━━━━━━━━━━━━━━━━━━━━━━━━━━\u001b[0m \u001b[32m24.6/24.6 MB\u001b[0m \u001b[31m66.8 MB/s\u001b[0m eta \u001b[36m0:00:00\u001b[0m\r\n",
      "\u001b[2K   \u001b[90m━━━━━━━━━━━━━━━━━━━━━━━━━━━━━━━━━━━━━━━━\u001b[0m \u001b[32m883.7/883.7 kB\u001b[0m \u001b[31m31.8 MB/s\u001b[0m eta \u001b[36m0:00:00\u001b[0m\r\n",
      "\u001b[2K   \u001b[90m━━━━━━━━━━━━━━━━━━━━━━━━━━━━━━━━━━━━━━━━\u001b[0m \u001b[32m664.8/664.8 MB\u001b[0m \u001b[31m2.2 MB/s\u001b[0m eta \u001b[36m0:00:00\u001b[0m\r\n",
      "\u001b[2K   \u001b[90m━━━━━━━━━━━━━━━━━━━━━━━━━━━━━━━━━━━━━━━━\u001b[0m \u001b[32m211.5/211.5 MB\u001b[0m \u001b[31m7.4 MB/s\u001b[0m eta \u001b[36m0:00:00\u001b[0m\r\n",
      "\u001b[2K   \u001b[90m━━━━━━━━━━━━━━━━━━━━━━━━━━━━━━━━━━━━━━━━\u001b[0m \u001b[32m56.3/56.3 MB\u001b[0m \u001b[31m26.1 MB/s\u001b[0m eta \u001b[36m0:00:00\u001b[0m\r\n",
      "\u001b[2K   \u001b[90m━━━━━━━━━━━━━━━━━━━━━━━━━━━━━━━━━━━━━━━━\u001b[0m \u001b[32m127.9/127.9 MB\u001b[0m \u001b[31m11.7 MB/s\u001b[0m eta \u001b[36m0:00:00\u001b[0m\r\n",
      "\u001b[2K   \u001b[90m━━━━━━━━━━━━━━━━━━━━━━━━━━━━━━━━━━━━━━━━\u001b[0m \u001b[32m207.5/207.5 MB\u001b[0m \u001b[31m7.2 MB/s\u001b[0m eta \u001b[36m0:00:00\u001b[0m\r\n",
      "\u001b[2K   \u001b[90m━━━━━━━━━━━━━━━━━━━━━━━━━━━━━━━━━━━━━━━━\u001b[0m \u001b[32m21.1/21.1 MB\u001b[0m \u001b[31m8.1 MB/s\u001b[0m eta \u001b[36m0:00:00\u001b[0m\r\n",
      "\u001b[2K   \u001b[90m━━━━━━━━━━━━━━━━━━━━━━━━━━━━━━━━━━━━━━━━\u001b[0m \u001b[32m8.2/8.2 MB\u001b[0m \u001b[31m82.7 MB/s\u001b[0m eta \u001b[36m0:00:00\u001b[0m\r\n",
      "\u001b[2K   \u001b[90m━━━━━━━━━━━━━━━━━━━━━━━━━━━━━━━━━━━━━━━━\u001b[0m \u001b[32m10.2/10.2 MB\u001b[0m \u001b[31m83.3 MB/s\u001b[0m eta \u001b[36m0:00:00\u001b[0m\r\n",
      "\u001b[2K   \u001b[90m━━━━━━━━━━━━━━━━━━━━━━━━━━━━━━━━━━━━━━━━\u001b[0m \u001b[32m3.6/3.6 MB\u001b[0m \u001b[31m66.3 MB/s\u001b[0m eta \u001b[36m0:00:00\u001b[0m\r\n",
      "\u001b[?25h  Building wheel for seqeval (setup.py) ... \u001b[?25l\u001b[?25hdone\r\n",
      "\u001b[31mERROR: pip's dependency resolver does not currently take into account all the packages that are installed. This behaviour is the source of the following dependency conflicts.\r\n",
      "bigframes 2.8.0 requires google-cloud-bigquery-storage<3.0.0,>=2.30.0, which is not installed.\r\n",
      "datasets 3.6.0 requires fsspec[http]<=2025.3.0,>=2023.1.0, but you have fsspec 2025.5.1 which is incompatible.\r\n",
      "cesium 0.12.4 requires numpy<3.0,>=2.0, but you have numpy 1.26.4 which is incompatible.\r\n",
      "google-colab 1.0.0 requires google-auth==2.38.0, but you have google-auth 2.40.3 which is incompatible.\r\n",
      "google-colab 1.0.0 requires notebook==6.5.7, but you have notebook 6.5.4 which is incompatible.\r\n",
      "google-colab 1.0.0 requires requests==2.32.3, but you have requests 2.32.4 which is incompatible.\r\n",
      "google-colab 1.0.0 requires tornado==6.4.2, but you have tornado 6.5.1 which is incompatible.\r\n",
      "dopamine-rl 4.1.2 requires gymnasium>=1.0.0, but you have gymnasium 0.29.0 which is incompatible.\r\n",
      "pandas-gbq 0.29.1 requires google-api-core<3.0.0,>=2.10.2, but you have google-api-core 1.34.1 which is incompatible.\r\n",
      "sentence-transformers 4.1.0 requires transformers<5.0.0,>=4.41.0, but you have transformers 4.36.2 which is incompatible.\r\n",
      "bigframes 2.8.0 requires google-cloud-bigquery[bqstorage,pandas]>=3.31.0, but you have google-cloud-bigquery 3.25.0 which is incompatible.\r\n",
      "bigframes 2.8.0 requires rich<14,>=12.4.4, but you have rich 14.0.0 which is incompatible.\r\n",
      "mlxtend 0.23.4 requires scikit-learn>=1.3.1, but you have scikit-learn 1.2.2 which is incompatible.\u001b[0m\u001b[31m\r\n",
      "\u001b[0m"
     ]
    }
   ],
   "source": [
    "!pip -q install -U spacy==3.7.5 spacy-transformers==1.3.4 seqeval==1.2.2 pandas==2.2.2 matplotlib==3.9.0\n"
   ]
  },
  {
   "cell_type": "code",
   "execution_count": 3,
   "id": "b277f3f4",
   "metadata": {
    "execution": {
     "iopub.execute_input": "2025-08-24T13:46:04.445377Z",
     "iopub.status.busy": "2025-08-24T13:46:04.444394Z",
     "iopub.status.idle": "2025-08-24T13:46:13.374542Z",
     "shell.execute_reply": "2025-08-24T13:46:13.373537Z"
    },
    "papermill": {
     "duration": 8.960827,
     "end_time": "2025-08-24T13:46:13.376421",
     "exception": false,
     "start_time": "2025-08-24T13:46:04.415594",
     "status": "completed"
    },
    "tags": []
   },
   "outputs": [],
   "source": [
    "import os \n",
    "from collections import Counter, defaultdict\n",
    "import time \n",
    "import matplotlib.pyplot as plt\n",
    "import spacy\n",
    "from spacy.matcher import Matcher\n",
    "from spacy.tokens import Span\n",
    "from spacy import displacy\n",
    "from seqeval.metrics import classification_report, f1_score"
   ]
  },
  {
   "cell_type": "code",
   "execution_count": 4,
   "id": "a569312d",
   "metadata": {
    "execution": {
     "iopub.execute_input": "2025-08-24T13:46:13.431636Z",
     "iopub.status.busy": "2025-08-24T13:46:13.431065Z",
     "iopub.status.idle": "2025-08-24T13:46:13.437089Z",
     "shell.execute_reply": "2025-08-24T13:46:13.435997Z"
    },
    "papermill": {
     "duration": 0.035241,
     "end_time": "2025-08-24T13:46:13.438498",
     "exception": false,
     "start_time": "2025-08-24T13:46:13.403257",
     "status": "completed"
    },
    "tags": []
   },
   "outputs": [
    {
     "name": "stdout",
     "output_type": "stream",
     "text": [
      "/kaggle/input/conll003-englishversion/ /kaggle/working\n"
     ]
    }
   ],
   "source": [
    "pd.set_option(\"display.max_rows\" , 100)\n",
    "pd.set_option(\"display.max_colwidth\", 100)\n",
    "\n",
    "data_dir = \"/kaggle/input/conll003-englishversion/\"\n",
    "work_dir = \"/kaggle/working\" if os.path.isdir(\"/kaggle/working\") else \".\"\n",
    "\n",
    "print(data_dir, work_dir)"
   ]
  },
  {
   "cell_type": "code",
   "execution_count": 5,
   "id": "1af8734b",
   "metadata": {
    "execution": {
     "iopub.execute_input": "2025-08-24T13:46:13.497125Z",
     "iopub.status.busy": "2025-08-24T13:46:13.496595Z",
     "iopub.status.idle": "2025-08-24T13:46:13.924146Z",
     "shell.execute_reply": "2025-08-24T13:46:13.922785Z"
    },
    "papermill": {
     "duration": 0.459109,
     "end_time": "2025-08-24T13:46:13.925669",
     "exception": false,
     "start_time": "2025-08-24T13:46:13.466560",
     "status": "completed"
    },
    "tags": []
   },
   "outputs": [
    {
     "name": "stdout",
     "output_type": "stream",
     "text": [
      "train | sentences: 14041 | tokens:  203621\n",
      "valid | sentences:  3250 | tokens:   51362\n",
      " test | sentences:  3453 | tokens:   46435\n"
     ]
    }
   ],
   "source": [
    "def load_conll(path):\n",
    "    sents, tags = [], []\n",
    "    cur_tokens , cur_tags = [], []\n",
    "    with open(path, encoding ='utf-8') as f:\n",
    "        for line in f:\n",
    "            line = line.strip()\n",
    "            if not line:\n",
    "                if cur_tokens:\n",
    "                    sents.append(cur_tokens)\n",
    "                    tags.append(cur_tags)\n",
    "                    cur_tokens,cur_tags = [],[]\n",
    "                continue\n",
    "            if line.startswith(\"-DOCSTART-\"):\n",
    "                if cur_tokens:\n",
    "                    sents.append(cur_tokens)\n",
    "                    tags.append(cur_tags)\n",
    "                    cur_tokens, cur_tags = [], []\n",
    "                continue\n",
    "            parts = line.split()\n",
    "            tokens = parts[0]\n",
    "            ner_tag = parts[-1]\n",
    "            cur_tokens.append(tokens)\n",
    "            cur_tags.append(ner_tag)\n",
    "    if cur_tokens:\n",
    "        sents.append(cur_tokens)\n",
    "        tags.append(cur_tags)\n",
    "    return sents, tags\n",
    "\n",
    "train_sents, train_tags = load_conll(os.path.join(data_dir, \"train.txt\"))\n",
    "valid_sents, valid_tags = load_conll(os.path.join(data_dir, \"valid.txt\"))\n",
    "test_sents, test_tags = load_conll(os.path.join(data_dir, \"test.txt\"))\n",
    "\n",
    "for name, s, t in [(\"train\", train_sents, train_tags),\n",
    "                   (\"valid\", valid_sents, valid_tags),\n",
    "                   (\"test\",  test_sents,  test_tags)]:\n",
    "    print(f\"{name:>5} | sentences: {len(s):5d} | tokens: {sum(len(x) for x in s):7d}\")"
   ]
  },
  {
   "cell_type": "code",
   "execution_count": 6,
   "id": "46bc3f72",
   "metadata": {
    "execution": {
     "iopub.execute_input": "2025-08-24T13:46:13.982775Z",
     "iopub.status.busy": "2025-08-24T13:46:13.982406Z",
     "iopub.status.idle": "2025-08-24T13:46:14.000070Z",
     "shell.execute_reply": "2025-08-24T13:46:13.998983Z"
    },
    "papermill": {
     "duration": 0.047914,
     "end_time": "2025-08-24T13:46:14.001543",
     "exception": false,
     "start_time": "2025-08-24T13:46:13.953629",
     "status": "completed"
    },
    "tags": []
   },
   "outputs": [
    {
     "data": {
      "text/html": [
       "<div>\n",
       "<style scoped>\n",
       "    .dataframe tbody tr th:only-of-type {\n",
       "        vertical-align: middle;\n",
       "    }\n",
       "\n",
       "    .dataframe tbody tr th {\n",
       "        vertical-align: top;\n",
       "    }\n",
       "\n",
       "    .dataframe thead th {\n",
       "        text-align: right;\n",
       "    }\n",
       "</style>\n",
       "<table border=\"1\" class=\"dataframe\">\n",
       "  <thead>\n",
       "    <tr style=\"text-align: right;\">\n",
       "      <th></th>\n",
       "      <th>token</th>\n",
       "      <th>tag</th>\n",
       "    </tr>\n",
       "  </thead>\n",
       "  <tbody>\n",
       "    <tr>\n",
       "      <th>0</th>\n",
       "      <td>EU</td>\n",
       "      <td>B-ORG</td>\n",
       "    </tr>\n",
       "    <tr>\n",
       "      <th>1</th>\n",
       "      <td>rejects</td>\n",
       "      <td>O</td>\n",
       "    </tr>\n",
       "    <tr>\n",
       "      <th>2</th>\n",
       "      <td>German</td>\n",
       "      <td>B-MISC</td>\n",
       "    </tr>\n",
       "    <tr>\n",
       "      <th>3</th>\n",
       "      <td>call</td>\n",
       "      <td>O</td>\n",
       "    </tr>\n",
       "    <tr>\n",
       "      <th>4</th>\n",
       "      <td>to</td>\n",
       "      <td>O</td>\n",
       "    </tr>\n",
       "    <tr>\n",
       "      <th>5</th>\n",
       "      <td>boycott</td>\n",
       "      <td>O</td>\n",
       "    </tr>\n",
       "    <tr>\n",
       "      <th>6</th>\n",
       "      <td>British</td>\n",
       "      <td>B-MISC</td>\n",
       "    </tr>\n",
       "    <tr>\n",
       "      <th>7</th>\n",
       "      <td>lamb</td>\n",
       "      <td>O</td>\n",
       "    </tr>\n",
       "    <tr>\n",
       "      <th>8</th>\n",
       "      <td>.</td>\n",
       "      <td>O</td>\n",
       "    </tr>\n",
       "  </tbody>\n",
       "</table>\n",
       "</div>"
      ],
      "text/plain": [
       "     token     tag\n",
       "0       EU   B-ORG\n",
       "1  rejects       O\n",
       "2   German  B-MISC\n",
       "3     call       O\n",
       "4       to       O\n",
       "5  boycott       O\n",
       "6  British  B-MISC\n",
       "7     lamb       O\n",
       "8        .       O"
      ]
     },
     "metadata": {},
     "output_type": "display_data"
    },
    {
     "data": {
      "text/html": [
       "<div>\n",
       "<style scoped>\n",
       "    .dataframe tbody tr th:only-of-type {\n",
       "        vertical-align: middle;\n",
       "    }\n",
       "\n",
       "    .dataframe tbody tr th {\n",
       "        vertical-align: top;\n",
       "    }\n",
       "\n",
       "    .dataframe thead th {\n",
       "        text-align: right;\n",
       "    }\n",
       "</style>\n",
       "<table border=\"1\" class=\"dataframe\">\n",
       "  <thead>\n",
       "    <tr style=\"text-align: right;\">\n",
       "      <th></th>\n",
       "      <th>token</th>\n",
       "      <th>tag</th>\n",
       "    </tr>\n",
       "  </thead>\n",
       "  <tbody>\n",
       "    <tr>\n",
       "      <th>0</th>\n",
       "      <td>Peter</td>\n",
       "      <td>B-PER</td>\n",
       "    </tr>\n",
       "    <tr>\n",
       "      <th>1</th>\n",
       "      <td>Blackburn</td>\n",
       "      <td>I-PER</td>\n",
       "    </tr>\n",
       "  </tbody>\n",
       "</table>\n",
       "</div>"
      ],
      "text/plain": [
       "       token    tag\n",
       "0      Peter  B-PER\n",
       "1  Blackburn  I-PER"
      ]
     },
     "metadata": {},
     "output_type": "display_data"
    }
   ],
   "source": [
    "def show_sentence(idx, sents, tags):\n",
    "    tokens = sents[idx]\n",
    "    ner = tags[idx]\n",
    "    df = pd.DataFrame({'token':tokens, \"tag\":ner})\n",
    "    return df\n",
    "\n",
    "display(show_sentence(0,train_sents, train_tags))\n",
    "display(show_sentence(1,train_sents, train_tags))"
   ]
  },
  {
   "cell_type": "code",
   "execution_count": 7,
   "id": "62f5d48e",
   "metadata": {
    "execution": {
     "iopub.execute_input": "2025-08-24T13:46:14.130621Z",
     "iopub.status.busy": "2025-08-24T13:46:14.130310Z",
     "iopub.status.idle": "2025-08-24T13:46:14.405624Z",
     "shell.execute_reply": "2025-08-24T13:46:14.404594Z"
    },
    "papermill": {
     "duration": 0.377942,
     "end_time": "2025-08-24T13:46:14.407178",
     "exception": false,
     "start_time": "2025-08-24T13:46:14.029236",
     "status": "completed"
    },
    "tags": []
   },
   "outputs": [
    {
     "name": "stdout",
     "output_type": "stream",
     "text": [
      "Entity counts (train, base types): Counter({'PER': 11128, 'ORG': 10025, 'LOC': 8297, 'MISC': 4593})\n"
     ]
    },
    {
     "data": {
      "image/png": "[encoded data removed]",
      "text/plain": [
       "<Figure size 600x400 with 1 Axes>"
      ]
     },
     "metadata": {},
     "output_type": "display_data"
    }
   ],
   "source": [
    "\n",
    "def base_tag(tag):\n",
    "    return tag.split(\"-\")[-1] if tag != \"O\" else \"O\"\n",
    "\n",
    "flat_train_tags = [t for seq in train_tags for t in seq]\n",
    "entity_bases = [base_tag(t) for t in flat_train_tags if t != \"O\"]\n",
    "counts = Counter(entity_bases)\n",
    "\n",
    "print(\"Entity counts (train, base types):\", counts)\n",
    "\n",
    "plt.figure(figsize=(6,4))\n",
    "plt.bar(list(counts.keys()), list(counts.values()))\n",
    "plt.title(\"Entity Base-Type Counts (Train)\")\n",
    "plt.xlabel(\"Type\")\n",
    "plt.ylabel(\"Count\")\n",
    "plt.show()\n"
   ]
  },
  {
   "cell_type": "code",
   "execution_count": 8,
   "id": "877fa158",
   "metadata": {
    "execution": {
     "iopub.execute_input": "2025-08-24T13:46:14.467811Z",
     "iopub.status.busy": "2025-08-24T13:46:14.467389Z",
     "iopub.status.idle": "2025-08-24T13:46:39.384644Z",
     "shell.execute_reply": "2025-08-24T13:46:39.383479Z"
    },
    "papermill": {
     "duration": 24.949773,
     "end_time": "2025-08-24T13:46:39.386554",
     "exception": false,
     "start_time": "2025-08-24T13:46:14.436781",
     "status": "completed"
    },
    "tags": []
   },
   "outputs": [
    {
     "name": "stdout",
     "output_type": "stream",
     "text": [
      "Requirement already satisfied: spacy in /usr/local/lib/python3.11/dist-packages (3.7.5)\r\n",
      "Collecting spacy\r\n",
      "  Downloading spacy-3.8.7-cp311-cp311-manylinux_2_17_x86_64.manylinux2014_x86_64.whl.metadata (27 kB)\r\n",
      "Requirement already satisfied: spacy-legacy<3.1.0,>=3.0.11 in /usr/local/lib/python3.11/dist-packages (from spacy) (3.0.12)\r\n",
      "Requirement already satisfied: spacy-loggers<2.0.0,>=1.0.0 in /usr/local/lib/python3.11/dist-packages (from spacy) (1.0.5)\r\n",
      "Requirement already satisfied: murmurhash<1.1.0,>=0.28.0 in /usr/local/lib/python3.11/dist-packages (from spacy) (1.0.13)\r\n",
      "Requirement already satisfied: cymem<2.1.0,>=2.0.2 in /usr/local/lib/python3.11/dist-packages (from spacy) (2.0.11)\r\n",
      "Requirement already satisfied: preshed<3.1.0,>=3.0.2 in /usr/local/lib/python3.11/dist-packages (from spacy) (3.0.10)\r\n",
      "Collecting thinc<8.4.0,>=8.3.4 (from spacy)\r\n",
      "  Downloading thinc-8.3.6-cp311-cp311-manylinux_2_17_x86_64.manylinux2014_x86_64.whl.metadata (15 kB)\r\n",
      "Requirement already satisfied: wasabi<1.2.0,>=0.9.1 in /usr/local/lib/python3.11/dist-packages (from spacy) (1.1.3)\r\n",
      "Requirement already satisfied: srsly<3.0.0,>=2.4.3 in /usr/local/lib/python3.11/dist-packages (from spacy) (2.5.1)\r\n",
      "Requirement already satisfied: catalogue<2.1.0,>=2.0.6 in /usr/local/lib/python3.11/dist-packages (from spacy) (2.0.10)\r\n",
      "Requirement already satisfied: weasel<0.5.0,>=0.1.0 in /usr/local/lib/python3.11/dist-packages (from spacy) (0.4.1)\r\n",
      "Requirement already satisfied: typer<1.0.0,>=0.3.0 in /usr/local/lib/python3.11/dist-packages (from spacy) (0.16.0)\r\n",
      "Requirement already satisfied: tqdm<5.0.0,>=4.38.0 in /usr/local/lib/python3.11/dist-packages (from spacy) (4.67.1)\r\n",
      "Requirement already satisfied: numpy>=1.19.0 in /usr/local/lib/python3.11/dist-packages (from spacy) (1.26.4)\r\n",
      "Requirement already satisfied: requests<3.0.0,>=2.13.0 in /usr/local/lib/python3.11/dist-packages (from spacy) (2.32.4)\r\n",
      "Requirement already satisfied: pydantic!=1.8,!=1.8.1,<3.0.0,>=1.7.4 in /usr/local/lib/python3.11/dist-packages (from spacy) (2.11.7)\r\n",
      "Requirement already satisfied: jinja2 in /usr/local/lib/python3.11/dist-packages (from spacy) (3.1.6)\r\n",
      "Requirement already satisfied: setuptools in /usr/local/lib/python3.11/dist-packages (from spacy) (75.2.0)\r\n",
      "Requirement already satisfied: packaging>=20.0 in /usr/local/lib/python3.11/dist-packages (from spacy) (25.0)\r\n",
      "Requirement already satisfied: langcodes<4.0.0,>=3.2.0 in /usr/local/lib/python3.11/dist-packages (from spacy) (3.5.0)\r\n",
      "Requirement already satisfied: language-data>=1.2 in /usr/local/lib/python3.11/dist-packages (from langcodes<4.0.0,>=3.2.0->spacy) (1.3.0)\r\n",
      "Requirement already satisfied: mkl_fft in /usr/local/lib/python3.11/dist-packages (from numpy>=1.19.0->spacy) (1.3.8)\r\n",
      "Requirement already satisfied: mkl_random in /usr/local/lib/python3.11/dist-packages (from numpy>=1.19.0->spacy) (1.2.4)\r\n",
      "Requirement already satisfied: mkl_umath in /usr/local/lib/python3.11/dist-packages (from numpy>=1.19.0->spacy) (0.1.1)\r\n",
      "Requirement already satisfied: mkl in /usr/local/lib/python3.11/dist-packages (from numpy>=1.19.0->spacy) (2025.2.0)\r\n",
      "Requirement already satisfied: tbb4py in /usr/local/lib/python3.11/dist-packages (from numpy>=1.19.0->spacy) (2022.2.0)\r\n",
      "Requirement already satisfied: mkl-service in /usr/local/lib/python3.11/dist-packages (from numpy>=1.19.0->spacy) (2.4.1)\r\n",
      "Requirement already satisfied: annotated-types>=0.6.0 in /usr/local/lib/python3.11/dist-packages (from pydantic!=1.8,!=1.8.1,<3.0.0,>=1.7.4->spacy) (0.7.0)\r\n",
      "Requirement already satisfied: pydantic-core==2.33.2 in /usr/local/lib/python3.11/dist-packages (from pydantic!=1.8,!=1.8.1,<3.0.0,>=1.7.4->spacy) (2.33.2)\r\n",
      "Requirement already satisfied: typing-extensions>=4.12.2 in /usr/local/lib/python3.11/dist-packages (from pydantic!=1.8,!=1.8.1,<3.0.0,>=1.7.4->spacy) (4.14.0)\r\n",
      "Requirement already satisfied: typing-inspection>=0.4.0 in /usr/local/lib/python3.11/dist-packages (from pydantic!=1.8,!=1.8.1,<3.0.0,>=1.7.4->spacy) (0.4.1)\r\n",
      "Requirement already satisfied: charset_normalizer<4,>=2 in /usr/local/lib/python3.11/dist-packages (from requests<3.0.0,>=2.13.0->spacy) (3.4.2)\r\n",
      "Requirement already satisfied: idna<4,>=2.5 in /usr/local/lib/python3.11/dist-packages (from requests<3.0.0,>=2.13.0->spacy) (3.10)\r\n",
      "Requirement already satisfied: urllib3<3,>=1.21.1 in /usr/local/lib/python3.11/dist-packages (from requests<3.0.0,>=2.13.0->spacy) (2.5.0)\r\n",
      "Requirement already satisfied: certifi>=2017.4.17 in /usr/local/lib/python3.11/dist-packages (from requests<3.0.0,>=2.13.0->spacy) (2025.6.15)\r\n",
      "Collecting blis<1.4.0,>=1.3.0 (from thinc<8.4.0,>=8.3.4->spacy)\r\n",
      "  Downloading blis-1.3.0-cp311-cp311-manylinux_2_17_x86_64.manylinux2014_x86_64.whl.metadata (7.4 kB)\r\n",
      "Requirement already satisfied: confection<1.0.0,>=0.0.1 in /usr/local/lib/python3.11/dist-packages (from thinc<8.4.0,>=8.3.4->spacy) (0.1.5)\r\n",
      "Collecting numpy>=1.19.0 (from spacy)\r\n",
      "  Downloading numpy-2.3.2-cp311-cp311-manylinux_2_27_x86_64.manylinux_2_28_x86_64.whl.metadata (62 kB)\r\n",
      "\u001b[2K     \u001b[90m━━━━━━━━━━━━━━━━━━━━━━━━━━━━━━━━━━━━━━━━\u001b[0m \u001b[32m62.1/62.1 kB\u001b[0m \u001b[31m3.1 MB/s\u001b[0m eta \u001b[36m0:00:00\u001b[0m\r\n",
      "\u001b[?25hRequirement already satisfied: click>=8.0.0 in /usr/local/lib/python3.11/dist-packages (from typer<1.0.0,>=0.3.0->spacy) (8.2.1)\r\n",
      "Requirement already satisfied: shellingham>=1.3.0 in /usr/local/lib/python3.11/dist-packages (from typer<1.0.0,>=0.3.0->spacy) (1.5.4)\r\n",
      "Requirement already satisfied: rich>=10.11.0 in /usr/local/lib/python3.11/dist-packages (from typer<1.0.0,>=0.3.0->spacy) (14.0.0)\r\n",
      "Requirement already satisfied: cloudpathlib<1.0.0,>=0.7.0 in /usr/local/lib/python3.11/dist-packages (from weasel<0.5.0,>=0.1.0->spacy) (0.21.1)\r\n",
      "Requirement already satisfied: smart-open<8.0.0,>=5.2.1 in /usr/local/lib/python3.11/dist-packages (from weasel<0.5.0,>=0.1.0->spacy) (7.1.0)\r\n",
      "Requirement already satisfied: MarkupSafe>=2.0 in /usr/local/lib/python3.11/dist-packages (from jinja2->spacy) (3.0.2)\r\n",
      "Requirement already satisfied: marisa-trie>=1.1.0 in /usr/local/lib/python3.11/dist-packages (from language-data>=1.2->langcodes<4.0.0,>=3.2.0->spacy) (1.2.1)\r\n",
      "Requirement already satisfied: markdown-it-py>=2.2.0 in /usr/local/lib/python3.11/dist-packages (from rich>=10.11.0->typer<1.0.0,>=0.3.0->spacy) (3.0.0)\r\n",
      "Requirement already satisfied: pygments<3.0.0,>=2.13.0 in /usr/local/lib/python3.11/dist-packages (from rich>=10.11.0->typer<1.0.0,>=0.3.0->spacy) (2.19.2)\r\n",
      "Requirement already satisfied: wrapt in /usr/local/lib/python3.11/dist-packages (from smart-open<8.0.0,>=5.2.1->weasel<0.5.0,>=0.1.0->spacy) (1.17.2)\r\n",
      "Requirement already satisfied: mdurl~=0.1 in /usr/local/lib/python3.11/dist-packages (from markdown-it-py>=2.2.0->rich>=10.11.0->typer<1.0.0,>=0.3.0->spacy) (0.1.2)\r\n",
      "Requirement already satisfied: intel-openmp<2026,>=2024 in /usr/local/lib/python3.11/dist-packages (from mkl->numpy>=1.19.0->spacy) (2024.2.0)\r\n",
      "Requirement already satisfied: tbb==2022.* in /usr/local/lib/python3.11/dist-packages (from mkl->numpy>=1.19.0->spacy) (2022.2.0)\r\n",
      "Requirement already satisfied: tcmlib==1.* in /usr/local/lib/python3.11/dist-packages (from tbb==2022.*->mkl->numpy>=1.19.0->spacy) (1.4.0)\r\n",
      "Requirement already satisfied: intel-cmplr-lib-ur==2024.2.0 in /usr/local/lib/python3.11/dist-packages (from intel-openmp<2026,>=2024->mkl->numpy>=1.19.0->spacy) (2024.2.0)\r\n",
      "INFO: pip is looking at multiple versions of mkl-fft to determine which version is compatible with other requirements. This could take a while.\r\n",
      "Collecting mkl_fft (from numpy>=1.19.0->spacy)\r\n",
      "  Downloading mkl_fft-2.0.0-22-cp311-cp311-manylinux_2_28_x86_64.whl.metadata (7.1 kB)\r\n",
      "Collecting numpy>=1.19.0 (from spacy)\r\n",
      "  Downloading numpy-2.2.6-cp311-cp311-manylinux_2_17_x86_64.manylinux2014_x86_64.whl.metadata (62 kB)\r\n",
      "\u001b[2K     \u001b[90m━━━━━━━━━━━━━━━━━━━━━━━━━━━━━━━━━━━━━━━━\u001b[0m \u001b[32m62.0/62.0 kB\u001b[0m \u001b[31m2.7 MB/s\u001b[0m eta \u001b[36m0:00:00\u001b[0m\r\n",
      "\u001b[?25hINFO: pip is looking at multiple versions of mkl-random to determine which version is compatible with other requirements. This could take a while.\r\n",
      "Collecting mkl_random (from numpy>=1.19.0->spacy)\r\n",
      "  Downloading mkl_random-1.2.11-22-cp311-cp311-manylinux_2_28_x86_64.whl.metadata (4.1 kB)\r\n",
      "INFO: pip is looking at multiple versions of mkl-umath to determine which version is compatible with other requirements. This could take a while.\r\n",
      "Collecting mkl_umath (from numpy>=1.19.0->spacy)\r\n",
      "  Downloading mkl_umath-0.2.0-21-cp311-cp311-manylinux_2_28_x86_64.whl.metadata (4.2 kB)\r\n",
      "Requirement already satisfied: intel-cmplr-lib-rt in /usr/local/lib/python3.11/dist-packages (from mkl_umath->numpy>=1.19.0->spacy) (2024.2.0)\r\n",
      "Downloading spacy-3.8.7-cp311-cp311-manylinux_2_17_x86_64.manylinux2014_x86_64.whl (33.0 MB)\r\n",
      "\u001b[2K   \u001b[90m━━━━━━━━━━━━━━━━━━━━━━━━━━━━━━━━━━━━━━━━\u001b[0m \u001b[32m33.0/33.0 MB\u001b[0m \u001b[31m46.3 MB/s\u001b[0m eta \u001b[36m0:00:00\u001b[0m\r\n",
      "\u001b[?25hDownloading thinc-8.3.6-cp311-cp311-manylinux_2_17_x86_64.manylinux2014_x86_64.whl (4.5 MB)\r\n",
      "\u001b[2K   \u001b[90m━━━━━━━━━━━━━━━━━━━━━━━━━━━━━━━━━━━━━━━━\u001b[0m \u001b[32m4.5/4.5 MB\u001b[0m \u001b[31m69.2 MB/s\u001b[0m eta \u001b[36m0:00:00\u001b[0m\r\n",
      "\u001b[?25hDownloading blis-1.3.0-cp311-cp311-manylinux_2_17_x86_64.manylinux2014_x86_64.whl (11.7 MB)\r\n",
      "\u001b[2K   \u001b[90m━━━━━━━━━━━━━━━━━━━━━━━━━━━━━━━━━━━━━━━━\u001b[0m \u001b[32m11.7/11.7 MB\u001b[0m \u001b[31m80.0 MB/s\u001b[0m eta \u001b[36m0:00:00\u001b[0m\r\n",
      "\u001b[?25hDownloading numpy-2.2.6-cp311-cp311-manylinux_2_17_x86_64.manylinux2014_x86_64.whl (16.8 MB)\r\n",
      "\u001b[2K   \u001b[90m━━━━━━━━━━━━━━━━━━━━━━━━━━━━━━━━━━━━━━━━\u001b[0m \u001b[32m16.8/16.8 MB\u001b[0m \u001b[31m76.8 MB/s\u001b[0m eta \u001b[36m0:00:00\u001b[0m\r\n",
      "\u001b[?25hInstalling collected packages: numpy, blis, thinc, spacy\r\n",
      "  Attempting uninstall: numpy\r\n",
      "    Found existing installation: numpy 1.26.4\r\n",
      "    Uninstalling numpy-1.26.4:\r\n",
      "      Successfully uninstalled numpy-1.26.4\r\n",
      "  Attempting uninstall: blis\r\n",
      "    Found existing installation: blis 0.7.11\r\n",
      "    Uninstalling blis-0.7.11:\r\n",
      "      Successfully uninstalled blis-0.7.11\r\n",
      "  Attempting uninstall: thinc\r\n",
      "    Found existing installation: thinc 8.2.5\r\n",
      "    Uninstalling thinc-8.2.5:\r\n",
      "      Successfully uninstalled thinc-8.2.5\r\n",
      "  Attempting uninstall: spacy\r\n",
      "    Found existing installation: spacy 3.7.5\r\n",
      "    Uninstalling spacy-3.7.5:\r\n",
      "      Successfully uninstalled spacy-3.7.5\r\n",
      "\u001b[31mERROR: pip's dependency resolver does not currently take into account all the packages that are installed. This behaviour is the source of the following dependency conflicts.\r\n",
      "bigframes 2.8.0 requires google-cloud-bigquery-storage<3.0.0,>=2.30.0, which is not installed.\r\n",
      "gensim 4.3.3 requires numpy<2.0,>=1.18.5, but you have numpy 2.2.6 which is incompatible.\r\n",
      "gensim 4.3.3 requires scipy<1.14.0,>=1.7.0, but you have scipy 1.15.3 which is incompatible.\r\n",
      "mkl-umath 0.1.1 requires numpy<1.27.0,>=1.26.4, but you have numpy 2.2.6 which is incompatible.\r\n",
      "mkl-random 1.2.4 requires numpy<1.27.0,>=1.26.4, but you have numpy 2.2.6 which is incompatible.\r\n",
      "mkl-fft 1.3.8 requires numpy<1.27.0,>=1.26.4, but you have numpy 2.2.6 which is incompatible.\r\n",
      "numba 0.60.0 requires numpy<2.1,>=1.22, but you have numpy 2.2.6 which is incompatible.\r\n",
      "datasets 3.6.0 requires fsspec[http]<=2025.3.0,>=2023.1.0, but you have fsspec 2025.5.1 which is incompatible.\r\n",
      "ydata-profiling 4.16.1 requires numpy<2.2,>=1.16.0, but you have numpy 2.2.6 which is incompatible.\r\n",
      "onnx 1.18.0 requires protobuf>=4.25.1, but you have protobuf 3.20.3 which is incompatible.\r\n",
      "google-colab 1.0.0 requires google-auth==2.38.0, but you have google-auth 2.40.3 which is incompatible.\r\n",
      "google-colab 1.0.0 requires notebook==6.5.7, but you have notebook 6.5.4 which is incompatible.\r\n",
      "google-colab 1.0.0 requires requests==2.32.3, but you have requests 2.32.4 which is incompatible.\r\n",
      "google-colab 1.0.0 requires tornado==6.4.2, but you have tornado 6.5.1 which is incompatible.\r\n",
      "dopamine-rl 4.1.2 requires gymnasium>=1.0.0, but you have gymnasium 0.29.0 which is incompatible.\r\n",
      "pandas-gbq 0.29.1 requires google-api-core<3.0.0,>=2.10.2, but you have google-api-core 1.34.1 which is incompatible.\r\n",
      "sentence-transformers 4.1.0 requires transformers<5.0.0,>=4.41.0, but you have transformers 4.36.2 which is incompatible.\r\n",
      "imbalanced-learn 0.13.0 requires scikit-learn<2,>=1.3.2, but you have scikit-learn 1.2.2 which is incompatible.\r\n",
      "tensorflow 2.18.0 requires numpy<2.1.0,>=1.26.0, but you have numpy 2.2.6 which is incompatible.\r\n",
      "bigframes 2.8.0 requires google-cloud-bigquery[bqstorage,pandas]>=3.31.0, but you have google-cloud-bigquery 3.25.0 which is incompatible.\r\n",
      "bigframes 2.8.0 requires rich<14,>=12.4.4, but you have rich 14.0.0 which is incompatible.\r\n",
      "mlxtend 0.23.4 requires scikit-learn>=1.3.1, but you have scikit-learn 1.2.2 which is incompatible.\u001b[0m\u001b[31m\r\n",
      "\u001b[0mSuccessfully installed blis-1.3.0 numpy-2.2.6 spacy-3.8.7 thinc-8.3.6\r\n",
      "Collecting en-core-web-sm==3.8.0\r\n",
      "  Downloading https://github.com/explosion/spacy-models/releases/download/en_core_web_sm-3.8.0/en_core_web_sm-3.8.0-py3-none-any.whl (12.8 MB)\r\n",
      "\u001b[2K     \u001b[90m━━━━━━━━━━━━━━━━━━━━━━━━━━━━━━━━━━━━━━━━\u001b[0m \u001b[32m12.8/12.8 MB\u001b[0m \u001b[31m83.3 MB/s\u001b[0m eta \u001b[36m0:00:00\u001b[0m\r\n",
      "\u001b[?25h\u001b[38;5;2m✔ Download and installation successful\u001b[0m\r\n",
      "You can now load the package via spacy.load('en_core_web_sm')\r\n",
      "\u001b[38;5;3m⚠ Restart to reload dependencies\u001b[0m\r\n",
      "If you are in a Jupyter or Colab notebook, you may need to restart Python in\r\n",
      "order to load all the package's dependencies. You can do this by selecting the\r\n",
      "'Restart kernel' or 'Restart runtime' option.\r\n"
     ]
    }
   ],
   "source": [
    "!pip install -U spacy\n",
    "!python -m spacy download en_core_web_sm\n"
   ]
  },
  {
   "cell_type": "code",
   "execution_count": 9,
   "id": "2909be50",
   "metadata": {
    "execution": {
     "iopub.execute_input": "2025-08-24T13:46:39.451161Z",
     "iopub.status.busy": "2025-08-24T13:46:39.450819Z",
     "iopub.status.idle": "2025-08-24T13:46:43.375528Z",
     "shell.execute_reply": "2025-08-24T13:46:43.374513Z"
    },
    "papermill": {
     "duration": 3.959106,
     "end_time": "2025-08-24T13:46:43.377077",
     "exception": false,
     "start_time": "2025-08-24T13:46:39.417971",
     "status": "completed"
    },
    "tags": []
   },
   "outputs": [
    {
     "name": "stderr",
     "output_type": "stream",
     "text": [
      "/usr/local/lib/python3.11/dist-packages/spacy/util.py:910: UserWarning: [W095] Model 'en_core_web_sm' (3.8.0) was trained with spaCy v3.8.0 and may not be 100% compatible with the current version (3.7.5). If you see errors or degraded performance, download a newer compatible model or retrain your custom model with the current spaCy version. For more details and available updates, run: python -m spacy validate\n",
      "  if lower_version is not None:\n",
      "/usr/local/lib/python3.11/dist-packages/transformers/utils/generic.py:441: FutureWarning: `torch.utils._pytree._register_pytree_node` is deprecated. Please use `torch.utils._pytree.register_pytree_node` instead.\n",
      "  _torch_pytree._register_pytree_node(\n",
      "/usr/local/lib/python3.11/dist-packages/transformers/utils/generic.py:309: FutureWarning: `torch.utils._pytree._register_pytree_node` is deprecated. Please use `torch.utils._pytree.register_pytree_node` instead.\n",
      "  _torch_pytree._register_pytree_node(\n"
     ]
    },
    {
     "name": "stdout",
     "output_type": "stream",
     "text": [
      "[('Barack Obama', 'PERSON'), ('Stanford University', 'ORG'), ('Deutsche Bank', 'ORG'), ('Berlin', 'GPE')]\n"
     ]
    },
    {
     "data": {
      "text/html": [
       "<span class=\"tex2jax_ignore\"><div class=\"entities\" style=\"line-height: 2.5; direction: ltr\">\n",
       "<mark class=\"entity\" style=\"background: #aa9cfc; padding: 0.45em 0.6em; margin: 0 0.25em; line-height: 1; border-radius: 0.35em;\">\n",
       "    Barack Obama\n",
       "    <span style=\"font-size: 0.8em; font-weight: bold; line-height: 1; border-radius: 0.35em; vertical-align: middle; margin-left: 0.5rem\">PERSON</span>\n",
       "</mark>\n",
       " gave a talk at \n",
       "<mark class=\"entity\" style=\"background: #7aecec; padding: 0.45em 0.6em; margin: 0 0.25em; line-height: 1; border-radius: 0.35em;\">\n",
       "    Stanford University\n",
       "    <span style=\"font-size: 0.8em; font-weight: bold; line-height: 1; border-radius: 0.35em; vertical-align: middle; margin-left: 0.5rem\">ORG</span>\n",
       "</mark>\n",
       " and later visited \n",
       "<mark class=\"entity\" style=\"background: #7aecec; padding: 0.45em 0.6em; margin: 0 0.25em; line-height: 1; border-radius: 0.35em;\">\n",
       "    Deutsche Bank\n",
       "    <span style=\"font-size: 0.8em; font-weight: bold; line-height: 1; border-radius: 0.35em; vertical-align: middle; margin-left: 0.5rem\">ORG</span>\n",
       "</mark>\n",
       " in \n",
       "<mark class=\"entity\" style=\"background: #feca74; padding: 0.45em 0.6em; margin: 0 0.25em; line-height: 1; border-radius: 0.35em;\">\n",
       "    Berlin\n",
       "    <span style=\"font-size: 0.8em; font-weight: bold; line-height: 1; border-radius: 0.35em; vertical-align: middle; margin-left: 0.5rem\">GPE</span>\n",
       "</mark>\n",
       ".</div></span>"
      ],
      "text/plain": [
       "<IPython.core.display.HTML object>"
      ]
     },
     "metadata": {},
     "output_type": "display_data"
    }
   ],
   "source": [
    "\n",
    "nlp_rb = spacy.load(\"en_core_web_sm\")  \n",
    "matcher = Matcher(nlp_rb.vocab)\n",
    "\n",
    "pattern_person = [{\"POS\": \"PROPN\"}, {\"POS\": \"PROPN\"}]\n",
    "matcher.add(\"RB_PERSON\", [pattern_person])\n",
    "\n",
    "ORG_KEYWORDS = {\"Inc.\", \"Corp.\", \"Corporation\", \"Ltd.\", \"University\", \"College\", \"Bank\", \"FC\", \"Club\"}\n",
    "\n",
    "def apply_rule_based(doc):\n",
    "    matches = matcher(doc)\n",
    "    spans = []\n",
    "    for match_id, start, end in matches:\n",
    "        label = nlp_rb.vocab.strings[match_id]\n",
    "        spans.append(Span(doc, start, end, label=label))\n",
    "    \n",
    "    all_spans = list(doc.ents) + spans\n",
    "    all_spans = spacy.util.filter_spans(all_spans)\n",
    "    doc.ents = all_spans\n",
    "    return doc\n",
    "\n",
    "sample_text = \"Barack Obama gave a talk at Stanford University and later visited Deutsche Bank in Berlin.\"\n",
    "doc_rb = nlp_rb(sample_text)\n",
    "doc_rb = apply_rule_based(doc_rb)\n",
    "\n",
    "print([(ent.text, ent.label_) for ent in doc_rb.ents])\n",
    "displacy.render(doc_rb, style=\"ent\", jupyter=True)\n"
   ]
  },
  {
   "cell_type": "code",
   "execution_count": 10,
   "id": "8b353be9",
   "metadata": {
    "execution": {
     "iopub.execute_input": "2025-08-24T13:46:43.442599Z",
     "iopub.status.busy": "2025-08-24T13:46:43.441532Z",
     "iopub.status.idle": "2025-08-24T13:46:44.187501Z",
     "shell.execute_reply": "2025-08-24T13:46:44.186557Z"
    },
    "papermill": {
     "duration": 0.78034,
     "end_time": "2025-08-24T13:46:44.189071",
     "exception": false,
     "start_time": "2025-08-24T13:46:43.408731",
     "status": "completed"
    },
    "tags": []
   },
   "outputs": [
    {
     "name": "stdout",
     "output_type": "stream",
     "text": [
      "Could not load en_core_web_trf. Make sure it's downloaded. Falling back to small model only.\n",
      "SM ents: [('Apple', 'ORG'), ('U.K.', 'GPE'), ('$1 billion', 'MONEY'), ('Barack Obama', 'PERSON'), ('Paris', 'GPE'), ('the United Nations', 'ORG')]\n"
     ]
    },
    {
     "data": {
      "text/html": [
       "<span class=\"tex2jax_ignore\"><div class=\"entities\" style=\"line-height: 2.5; direction: ltr\">\n",
       "<mark class=\"entity\" style=\"background: #7aecec; padding: 0.45em 0.6em; margin: 0 0.25em; line-height: 1; border-radius: 0.35em;\">\n",
       "    Apple\n",
       "    <span style=\"font-size: 0.8em; font-weight: bold; line-height: 1; border-radius: 0.35em; vertical-align: middle; margin-left: 0.5rem\">ORG</span>\n",
       "</mark>\n",
       " is looking at buying a \n",
       "<mark class=\"entity\" style=\"background: #feca74; padding: 0.45em 0.6em; margin: 0 0.25em; line-height: 1; border-radius: 0.35em;\">\n",
       "    U.K.\n",
       "    <span style=\"font-size: 0.8em; font-weight: bold; line-height: 1; border-radius: 0.35em; vertical-align: middle; margin-left: 0.5rem\">GPE</span>\n",
       "</mark>\n",
       " startup for \n",
       "<mark class=\"entity\" style=\"background: #e4e7d2; padding: 0.45em 0.6em; margin: 0 0.25em; line-height: 1; border-radius: 0.35em;\">\n",
       "    $1 billion\n",
       "    <span style=\"font-size: 0.8em; font-weight: bold; line-height: 1; border-radius: 0.35em; vertical-align: middle; margin-left: 0.5rem\">MONEY</span>\n",
       "</mark>\n",
       ". \n",
       "<mark class=\"entity\" style=\"background: #aa9cfc; padding: 0.45em 0.6em; margin: 0 0.25em; line-height: 1; border-radius: 0.35em;\">\n",
       "    Barack Obama\n",
       "    <span style=\"font-size: 0.8em; font-weight: bold; line-height: 1; border-radius: 0.35em; vertical-align: middle; margin-left: 0.5rem\">PERSON</span>\n",
       "</mark>\n",
       " visited \n",
       "<mark class=\"entity\" style=\"background: #feca74; padding: 0.45em 0.6em; margin: 0 0.25em; line-height: 1; border-radius: 0.35em;\">\n",
       "    Paris\n",
       "    <span style=\"font-size: 0.8em; font-weight: bold; line-height: 1; border-radius: 0.35em; vertical-align: middle; margin-left: 0.5rem\">GPE</span>\n",
       "</mark>\n",
       " and \n",
       "<mark class=\"entity\" style=\"background: #7aecec; padding: 0.45em 0.6em; margin: 0 0.25em; line-height: 1; border-radius: 0.35em;\">\n",
       "    the United Nations\n",
       "    <span style=\"font-size: 0.8em; font-weight: bold; line-height: 1; border-radius: 0.35em; vertical-align: middle; margin-left: 0.5rem\">ORG</span>\n",
       "</mark>\n",
       ".</div></span>"
      ],
      "text/plain": [
       "<IPython.core.display.HTML object>"
      ]
     },
     "metadata": {},
     "output_type": "display_data"
    }
   ],
   "source": [
    "\n",
    "nlp_sm = spacy.load(\"en_core_web_sm\")\n",
    "try:\n",
    "    nlp_trf = spacy.load(\"en_core_web_trf\")\n",
    "except Exception as e:\n",
    "    print(\"Could not load en_core_web_trf. Make sure it's downloaded. Falling back to small model only.\")\n",
    "    nlp_trf = None\n",
    "\n",
    "demo_text = \"Apple is looking at buying a U.K. startup for $1 billion. Barack Obama visited Paris and the United Nations.\"\n",
    "doc_sm = nlp_sm(demo_text)\n",
    "print(\"SM ents:\", [(e.text, e.label_) for e in doc_sm.ents])\n",
    "\n",
    "if nlp_trf:\n",
    "    doc_trf = nlp_trf(demo_text)\n",
    "    print(\"TRF ents:\", [(e.text, e.label_) for e in doc_trf.ents])\n",
    "\n",
    "displacy.render(doc_sm, style=\"ent\", jupyter=True)\n",
    "if nlp_trf:\n",
    "    displacy.render(doc_trf, style=\"ent\", jupyter=True)\n"
   ]
  },
  {
   "cell_type": "code",
   "execution_count": 11,
   "id": "b386da74",
   "metadata": {
    "execution": {
     "iopub.execute_input": "2025-08-24T13:46:44.254315Z",
     "iopub.status.busy": "2025-08-24T13:46:44.253961Z",
     "iopub.status.idle": "2025-08-24T13:46:44.263870Z",
     "shell.execute_reply": "2025-08-24T13:46:44.263048Z"
    },
    "papermill": {
     "duration": 0.044429,
     "end_time": "2025-08-24T13:46:44.265672",
     "exception": false,
     "start_time": "2025-08-24T13:46:44.221243",
     "status": "completed"
    },
    "tags": []
   },
   "outputs": [],
   "source": [
    "\n",
    "def spacy_to_conll_label(label):\n",
    "    if label == \"PERSON\":\n",
    "        return \"PER\"\n",
    "    if label in (\"GPE\", \"LOC\"):\n",
    "        return \"LOC\"\n",
    "    if label == \"ORG\":\n",
    "        return \"ORG\"\n",
    "    return \"MISC\"\n",
    "\n",
    "def token_char_offsets(tokens):\n",
    "    \"\"\"Return [(start, end), ...] char offsets if we join tokens with single spaces.\"\"\"\n",
    "    offs = []\n",
    "    pos = 0\n",
    "    for tok in tokens:\n",
    "        start = pos\n",
    "        end = pos + len(tok)\n",
    "        offs.append((start, end))\n",
    "        pos = end + 1  # account for the space we will insert\n",
    "    return offs\n",
    "\n",
    "def iob_from_doc_for_tokens(tokens, doc):\n",
    "    \"\"\"Create BIO tags for our token list based on spaCy doc.ents spans.\"\"\"\n",
    "    iob = [\"O\"] * len(tokens)\n",
    "    offs = token_char_offsets(tokens)\n",
    "    for ent in doc.ents:\n",
    "        label = spacy_to_conll_label(ent.label_)\n",
    "        s, e = ent.start_char, ent.end_char\n",
    "        covered = [i for i, (ts, te) in enumerate(offs) if not (te <= s or ts >= e)]\n",
    "        if covered:\n",
    "            iob[covered[0]] = f\"B-{label}\"\n",
    "            for i in covered[1:]:\n",
    "                iob[i] = f\"I-{label}\"\n",
    "    return iob\n",
    "\n",
    "def predict_sequences(sents, nlp, limit=None):\n",
    "    \"\"\"Predict BIO tag sequences for a list of tokenized sentences using a spaCy nlp.\"\"\"\n",
    "    y_pred = []\n",
    "    N = len(sents) if limit is None else min(limit, len(sents))\n",
    "    for tokens in sents[:N]:\n",
    "        text = \" \".join(tokens)\n",
    "        doc = nlp(text)\n",
    "        y_pred.append(iob_from_doc_for_tokens(tokens, doc))\n",
    "    return y_pred\n"
   ]
  },
  {
   "cell_type": "code",
   "execution_count": 12,
   "id": "3151feb2",
   "metadata": {
    "execution": {
     "iopub.execute_input": "2025-08-24T13:46:44.331549Z",
     "iopub.status.busy": "2025-08-24T13:46:44.331203Z",
     "iopub.status.idle": "2025-08-24T13:47:02.757257Z",
     "shell.execute_reply": "2025-08-24T13:47:02.755808Z"
    },
    "papermill": {
     "duration": 18.460691,
     "end_time": "2025-08-24T13:47:02.759036",
     "exception": false,
     "start_time": "2025-08-24T13:46:44.298345",
     "status": "completed"
    },
    "tags": []
   },
   "outputs": [
    {
     "name": "stdout",
     "output_type": "stream",
     "text": [
      "Evaluating en_core_web_sm on first 2000 test sentences...\n",
      "F1 (micro): 0.4552\n",
      "Speed: 1651.5 tokens/sec\n",
      "\n",
      "              precision    recall  f1-score   support\n",
      "\n",
      "         LOC       0.77      0.70      0.73      1021\n",
      "        MISC       0.10      0.60      0.18       433\n",
      "         ORG       0.45      0.39      0.42       901\n",
      "         PER       0.74      0.58      0.65       975\n",
      "\n",
      "   micro avg       0.38      0.57      0.46      3330\n",
      "   macro avg       0.52      0.57      0.49      3330\n",
      "weighted avg       0.59      0.57      0.55      3330\n",
      "\n"
     ]
    }
   ],
   "source": [
    "\n",
    "EVAL_N_SM = 2000 \n",
    "print(f\"Evaluating en_core_web_sm on first {EVAL_N_SM} test sentences...\")\n",
    "\n",
    "t0 = time.time()\n",
    "y_true_sm = test_tags[:EVAL_N_SM]\n",
    "y_pred_sm = predict_sequences(test_sents, nlp_sm, limit=EVAL_N_SM)\n",
    "t1 = time.time()\n",
    "\n",
    "f1_sm = f1_score(y_true_sm, y_pred_sm)\n",
    "tok_count = sum(len(x) for x in test_sents[:EVAL_N_SM])\n",
    "speed_sm = tok_count / (t1 - t0)\n",
    "\n",
    "print(f\"F1 (micro): {f1_sm:.4f}\")\n",
    "print(f\"Speed: {speed_sm:.1f} tokens/sec\")\n",
    "print()\n",
    "print(classification_report(y_true_sm, y_pred_sm))\n"
   ]
  },
  {
   "cell_type": "code",
   "execution_count": 13,
   "id": "929d2a6f",
   "metadata": {
    "execution": {
     "iopub.execute_input": "2025-08-24T13:47:02.824574Z",
     "iopub.status.busy": "2025-08-24T13:47:02.824251Z",
     "iopub.status.idle": "2025-08-24T13:47:02.830841Z",
     "shell.execute_reply": "2025-08-24T13:47:02.829884Z"
    },
    "papermill": {
     "duration": 0.04138,
     "end_time": "2025-08-24T13:47:02.832405",
     "exception": false,
     "start_time": "2025-08-24T13:47:02.791025",
     "status": "completed"
    },
    "tags": []
   },
   "outputs": [],
   "source": [
    "\n",
    "if nlp_trf:\n",
    "    EVAL_N_TRF = 1000  # reduce/increase based on runtime\n",
    "    print(f\"Evaluating en_core_web_trf on first {EVAL_N_TRF} test sentences...\")\n",
    "\n",
    "    t0 = time.time()\n",
    "    y_true_trf = test_tags[:EVAL_N_TRF]\n",
    "    y_pred_trf = predict_sequences(test_sents, nlp_trf, limit=EVAL_N_TRF)\n",
    "    t1 = time.time()\n",
    "\n",
    "    f1_trf = f1_score(y_true_trf, y_pred_trf)\n",
    "    tok_count = sum(len(x) for x in test_sents[:EVAL_N_TRF])\n",
    "    speed_trf = tok_count / (t1 - t0)\n",
    "\n",
    "    print(f\"F1 (micro): {f1_trf:.4f}\")\n",
    "    print(f\"Speed: {speed_trf:.1f} tokens/sec\")\n",
    "    print()\n",
    "    print(classification_report(y_true_trf, y_pred_trf))\n",
    "else:\n",
    "    f1_trf = None\n",
    "    speed_trf = None\n"
   ]
  },
  {
   "cell_type": "code",
   "execution_count": 14,
   "id": "fa13fb79",
   "metadata": {
    "execution": {
     "iopub.execute_input": "2025-08-24T13:47:02.898509Z",
     "iopub.status.busy": "2025-08-24T13:47:02.897773Z",
     "iopub.status.idle": "2025-08-24T13:47:02.910045Z",
     "shell.execute_reply": "2025-08-24T13:47:02.908775Z"
    },
    "papermill": {
     "duration": 0.047038,
     "end_time": "2025-08-24T13:47:02.911685",
     "exception": false,
     "start_time": "2025-08-24T13:47:02.864647",
     "status": "completed"
    },
    "tags": []
   },
   "outputs": [
    {
     "data": {
      "text/html": [
       "<div>\n",
       "<style scoped>\n",
       "    .dataframe tbody tr th:only-of-type {\n",
       "        vertical-align: middle;\n",
       "    }\n",
       "\n",
       "    .dataframe tbody tr th {\n",
       "        vertical-align: top;\n",
       "    }\n",
       "\n",
       "    .dataframe thead th {\n",
       "        text-align: right;\n",
       "    }\n",
       "</style>\n",
       "<table border=\"1\" class=\"dataframe\">\n",
       "  <thead>\n",
       "    <tr style=\"text-align: right;\">\n",
       "      <th></th>\n",
       "      <th>Model</th>\n",
       "      <th>F1</th>\n",
       "      <th>Speed(tokens/s)</th>\n",
       "    </tr>\n",
       "  </thead>\n",
       "  <tbody>\n",
       "    <tr>\n",
       "      <th>0</th>\n",
       "      <td>en_core_web_sm</td>\n",
       "      <td>0.455245</td>\n",
       "      <td>1651.492482</td>\n",
       "    </tr>\n",
       "  </tbody>\n",
       "</table>\n",
       "</div>"
      ],
      "text/plain": [
       "            Model        F1  Speed(tokens/s)\n",
       "0  en_core_web_sm  0.455245      1651.492482"
      ]
     },
     "execution_count": 14,
     "metadata": {},
     "output_type": "execute_result"
    }
   ],
   "source": [
    "\n",
    "rows = [{\"Model\": \"en_core_web_sm\", \"F1\": f1_sm, \"Speed(tokens/s)\": speed_sm}]\n",
    "if nlp_trf and (f1_trf is not None):\n",
    "    rows.append({\"Model\": \"en_core_web_trf\", \"F1\": f1_trf, \"Speed(tokens/s)\": speed_trf})\n",
    "cmp_df = pd.DataFrame(rows)\n",
    "cmp_df\n"
   ]
  },
  {
   "cell_type": "code",
   "execution_count": 15,
   "id": "8d7bf60d",
   "metadata": {
    "execution": {
     "iopub.execute_input": "2025-08-24T13:47:02.983769Z",
     "iopub.status.busy": "2025-08-24T13:47:02.983406Z",
     "iopub.status.idle": "2025-08-24T13:47:03.006012Z",
     "shell.execute_reply": "2025-08-24T13:47:03.005125Z"
    },
    "papermill": {
     "duration": 0.058312,
     "end_time": "2025-08-24T13:47:03.007811",
     "exception": false,
     "start_time": "2025-08-24T13:47:02.949499",
     "status": "completed"
    },
    "tags": []
   },
   "outputs": [
    {
     "data": {
      "text/plain": [
       "'/kaggle/working/ner_predictions_side_by_side.csv'"
      ]
     },
     "execution_count": 15,
     "metadata": {},
     "output_type": "execute_result"
    }
   ],
   "source": [
    "\n",
    "EXPORT_N = 200  \n",
    "\n",
    "y_true = test_tags[:EXPORT_N]\n",
    "if 'y_pred_sm' not in globals() or len(y_pred_sm) < EXPORT_N:\n",
    "    y_pred_sm = predict_sequences(test_sents, nlp_sm, limit=EXPORT_N)\n",
    "\n",
    "if nlp_trf:\n",
    "    y_pred_trf = predict_sequences(test_sents, nlp_trf, limit=EXPORT_N)\n",
    "else:\n",
    "    y_pred_trf = [None] * EXPORT_N\n",
    "\n",
    "rows = []\n",
    "for s_idx in range(EXPORT_N):\n",
    "    tokens = test_sents[s_idx]\n",
    "    for t_idx, tok in enumerate(tokens):\n",
    "        row = {\n",
    "            \"sent_id\": s_idx,\n",
    "            \"token_id\": t_idx,\n",
    "            \"token\": tok,\n",
    "            \"true\": y_true[s_idx][t_idx],\n",
    "            \"sm_pred\": y_pred_sm[s_idx][t_idx],\n",
    "        }\n",
    "        if nlp_trf and y_pred_trf[s_idx] is not None:\n",
    "            row[\"trf_pred\"] = y_pred_trf[s_idx][t_idx]\n",
    "        rows.append(row)\n",
    "\n",
    "pred_df = pd.DataFrame(rows)\n",
    "csv_path = os.path.join(work_dir, \"ner_predictions_side_by_side.csv\")\n",
    "pred_df.to_csv(csv_path, index=False)\n",
    "csv_path\n"
   ]
  },
  {
   "cell_type": "code",
   "execution_count": 16,
   "id": "ebb5aba4",
   "metadata": {
    "execution": {
     "iopub.execute_input": "2025-08-24T13:47:03.076186Z",
     "iopub.status.busy": "2025-08-24T13:47:03.075753Z",
     "iopub.status.idle": "2025-08-24T13:47:03.122855Z",
     "shell.execute_reply": "2025-08-24T13:47:03.121715Z"
    },
    "papermill": {
     "duration": 0.084036,
     "end_time": "2025-08-24T13:47:03.124480",
     "exception": false,
     "start_time": "2025-08-24T13:47:03.040444",
     "status": "completed"
    },
    "tags": []
   },
   "outputs": [
    {
     "name": "stdout",
     "output_type": "stream",
     "text": [
      "en_core_web_sm\n"
     ]
    },
    {
     "data": {
      "text/html": [
       "<span class=\"tex2jax_ignore\"><div class=\"entities\" style=\"line-height: 2.5; direction: ltr\">He said at \n",
       "<mark class=\"entity\" style=\"background: #e4e7d2; padding: 0.45em 0.6em; margin: 0 0.25em; line-height: 1; border-radius: 0.35em;\">\n",
       "    one\n",
       "    <span style=\"font-size: 0.8em; font-weight: bold; line-height: 1; border-radius: 0.35em; vertical-align: middle; margin-left: 0.5rem\">CARDINAL</span>\n",
       "</mark>\n",
       " point during a press conference : &quot; I have seen my whip ( party manager ) for \n",
       "<mark class=\"entity\" style=\"background: #bfe1d9; padding: 0.45em 0.6em; margin: 0 0.25em; line-height: 1; border-radius: 0.35em;\">\n",
       "    next week\n",
       "    <span style=\"font-size: 0.8em; font-weight: bold; line-height: 1; border-radius: 0.35em; vertical-align: middle; margin-left: 0.5rem\">DATE</span>\n",
       "</mark>\n",
       " which , of course , does n't mean very much to me now . &quot;</div></span>"
      ],
      "text/plain": [
       "<IPython.core.display.HTML object>"
      ]
     },
     "metadata": {},
     "output_type": "display_data"
    },
    {
     "name": "stdout",
     "output_type": "stream",
     "text": [
      "en_core_web_sm\n"
     ]
    },
    {
     "data": {
      "text/html": [
       "<span class=\"tex2jax_ignore\"><div class=\"entities\" style=\"line-height: 2.5; direction: ltr\">The \n",
       "<mark class=\"entity\" style=\"background: #c887fb; padding: 0.45em 0.6em; margin: 0 0.25em; line-height: 1; border-radius: 0.35em;\">\n",
       "    Canadian\n",
       "    <span style=\"font-size: 0.8em; font-weight: bold; line-height: 1; border-radius: 0.35em; vertical-align: middle; margin-left: 0.5rem\">NORP</span>\n",
       "</mark>\n",
       " general in charge of a multinational force for eastern \n",
       "<mark class=\"entity\" style=\"background: #feca74; padding: 0.45em 0.6em; margin: 0 0.25em; line-height: 1; border-radius: 0.35em;\">\n",
       "    Zaire\n",
       "    <span style=\"font-size: 0.8em; font-weight: bold; line-height: 1; border-radius: 0.35em; vertical-align: middle; margin-left: 0.5rem\">GPE</span>\n",
       "</mark>\n",
       " said on \n",
       "<mark class=\"entity\" style=\"background: #bfe1d9; padding: 0.45em 0.6em; margin: 0 0.25em; line-height: 1; border-radius: 0.35em;\">\n",
       "    Friday\n",
       "    <span style=\"font-size: 0.8em; font-weight: bold; line-height: 1; border-radius: 0.35em; vertical-align: middle; margin-left: 0.5rem\">DATE</span>\n",
       "</mark>\n",
       " he was going back to \n",
       "<mark class=\"entity\" style=\"background: #feca74; padding: 0.45em 0.6em; margin: 0 0.25em; line-height: 1; border-radius: 0.35em;\">\n",
       "    Zaire\n",
       "    <span style=\"font-size: 0.8em; font-weight: bold; line-height: 1; border-radius: 0.35em; vertical-align: middle; margin-left: 0.5rem\">GPE</span>\n",
       "</mark>\n",
       " for more information about the plight of \n",
       "<mark class=\"entity\" style=\"background: #e4e7d2; padding: 0.45em 0.6em; margin: 0 0.25em; line-height: 1; border-radius: 0.35em;\">\n",
       "    about 165,000\n",
       "    <span style=\"font-size: 0.8em; font-weight: bold; line-height: 1; border-radius: 0.35em; vertical-align: middle; margin-left: 0.5rem\">CARDINAL</span>\n",
       "</mark>\n",
       " \n",
       "<mark class=\"entity\" style=\"background: #c887fb; padding: 0.45em 0.6em; margin: 0 0.25em; line-height: 1; border-radius: 0.35em;\">\n",
       "    Rwandan\n",
       "    <span style=\"font-size: 0.8em; font-weight: bold; line-height: 1; border-radius: 0.35em; vertical-align: middle; margin-left: 0.5rem\">NORP</span>\n",
       "</mark>\n",
       " refugees adrift in the countryside .</div></span>"
      ],
      "text/plain": [
       "<IPython.core.display.HTML object>"
      ]
     },
     "metadata": {},
     "output_type": "display_data"
    }
   ],
   "source": [
    "\n",
    "import random\n",
    "random.seed(13)\n",
    "\n",
    "def visualize_sentence(sent_tokens, nlp, title=\"\"):\n",
    "    text = \" \".join(sent_tokens)\n",
    "    doc = nlp(text)\n",
    "    print(title or nlp.meta.get(\"name\", \"model\"))\n",
    "    displacy.render(doc, style=\"ent\", jupyter=True)\n",
    "\n",
    "for _ in range(2):\n",
    "    idx = random.randint(0, len(test_sents)-1)\n",
    "    toks = test_sents[idx]\n",
    "    visualize_sentence(toks, nlp_sm, title=\"en_core_web_sm\")\n",
    "    if nlp_trf:\n",
    "        visualize_sentence(toks, nlp_trf, title=\"en_core_web_trf\")\n"
   ]
  },
  {
   "cell_type": "code",
   "execution_count": null,
   "id": "3a9d2dd2",
   "metadata": {
    "papermill": {
     "duration": 0.035535,
     "end_time": "2025-08-24T13:47:03.193170",
     "exception": false,
     "start_time": "2025-08-24T13:47:03.157635",
     "status": "completed"
    },
    "tags": []
   },
   "outputs": [],
   "source": []
  }
 ],
 "metadata": {
  "kaggle": {
   "accelerator": "none",
   "dataSources": [
    {
     "datasetId": 50445,
     "sourceId": 94327,
     "sourceType": "datasetVersion"
    }
   ],
   "dockerImageVersionId": 31089,
   "isGpuEnabled": false,
   "isInternetEnabled": true,
   "language": "python",
   "sourceType": "notebook"
  },
  "kernelspec": {
   "display_name": "Python 3",
   "language": "python",
   "name": "python3"
  },
  "language_info": {
   "codemirror_mode": {
    "name": "ipython",
    "version": 3
   },
   "file_extension": ".py",
   "mimetype": "text/x-python",
   "name": "python",
   "nbconvert_exporter": "python",
   "pygments_lexer": "ipython3",
   "version": "3.11.13"
  },
  "papermill": {
   "default_parameters": {},
   "duration": 209.798522,
   "end_time": "2025-08-24T13:47:05.561296",
   "environment_variables": {},
   "exception": null,
   "input_path": "__notebook__.ipynb",
   "output_path": "__notebook__.ipynb",
   "parameters": {},
   "start_time": "2025-08-24T13:43:35.762774",
   "version": "2.6.0"
  }
 },
 "nbformat": 4,
 "nbformat_minor": 5
}
